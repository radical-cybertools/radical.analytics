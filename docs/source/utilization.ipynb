{
 "cells": [
  {
   "cell_type": "markdown",
   "metadata": {},
   "source": [
    "# Resource Utilization\n",
    "\n",
    "RADICAL-Analytics (RA) allows to calculate resource utilization for single and multiple RADICAL-Pilot (RP) sessions. Currently, RA supports CPU and GPU resources but in the future may support also RAM and I/O.\n",
    "\n",
    "Resource utilization is expressed as the amount of time for which each task and pilot utilized available resources. For example, ``task_000000`` may have used 6 GPUs and 1 core for 15 minutes, and ``pilot_0000`` may have utilized (better, held) all the available resources for 1 hour.\n",
    "\n",
    "RA can further characterize resource utilization by differentiating among the state in which each task and pilot were when utilizing (or holding) available resources. For example, ``pilot_0000`` may have held all the available resources for 5 minutes while bootstrapping or a variable amount of resources while scheduling each task. Similarly, tasks may held resources while being in a pre_execution or cmd_execution state.\n",
    "\n",
    "Calculating resource utilization for all the entities and all their states is computationally expensive: given a 2020 laptop with 8 cores and 32GB of RAM, RA takes ~4 hours to plot the resource utilization of 100,000 heterogeneous tasks executed on a pilot with 200,000 CPUs and 24,000 GPUs. For sessions with 1M+ tasks, RA cannot be utilized to plot completed resource utilization in a reasonable amount of time.\n",
    "\n",
    "Thus, RA offers two ways to compute resource utilization: fully detailed and aggregated. In the former, RA calculates the utilization for each core (e.g., core and GPU); in the latter, RA calculates the aggregated utilization of the resources over time, without mapping utilization over resource IDs. Aggregated utilization is less computationally intensive and it has been used to plot runs with 10M+ tasks.\n",
    "\n",
    "## Prologue\n",
    "\n",
    "Load the Python modules needed to profile and plot a RP session."
   ]
  },
  {
   "cell_type": "code",
   "execution_count": null,
   "metadata": {
    "ExecuteTime": {
     "end_time": "2021-07-28T08:09:17.366411Z",
     "start_time": "2021-07-28T08:09:16.417296Z"
    }
   },
   "outputs": [],
   "source": [
    "import os\n",
    "import tarfile\n",
    "\n",
    "import pandas as pd\n",
    "import matplotlib as mpl\n",
    "import matplotlib.pyplot as plt\n",
    "import matplotlib.ticker as mticker\n",
    "\n",
    "import radical.utils as ru\n",
    "import radical.pilot as rp\n",
    "import radical.entk as re\n",
    "import radical.analytics as ra"
   ]
  },
  {
   "cell_type": "markdown",
   "metadata": {},
   "source": [
    "Load the RADICAL Matplotlib style to obtain viasually consistent and publishable-qality plots."
   ]
  },
  {
   "cell_type": "code",
   "execution_count": null,
   "metadata": {
    "ExecuteTime": {
     "end_time": "2021-07-28T08:09:17.374490Z",
     "start_time": "2021-07-28T08:09:17.369038Z"
    }
   },
   "outputs": [],
   "source": [
    "plt.style.use(ra.get_mplstyle('radical_mpl'))"
   ]
  },
  {
   "cell_type": "markdown",
   "metadata": {},
   "source": [
    "Usually, it is useful to record the stack used for the analysis. \n",
    "\n",
    "<div class=\"alert alert-info\">\n",
    "\n",
    "__Note:__ The analysis stack might be different from the stack used to create the session to analyze. Usually, the two stacks must have the same minor release number (Major.Minor.Patch) in order to be compatible.\n",
    "\n",
    "</div>"
   ]
  },
  {
   "cell_type": "code",
   "execution_count": null,
   "metadata": {
    "ExecuteTime": {
     "end_time": "2021-07-28T08:09:18.377411Z",
     "start_time": "2021-07-28T08:09:17.376282Z"
    }
   },
   "outputs": [],
   "source": [
    "! radical-stack"
   ]
  },
  {
   "cell_type": "markdown",
   "metadata": {},
   "source": [
    "## Detailed Resource Utilization\n",
    "\n",
    "Given a RP session, RA helper functions take one resource type as input and return utilization, patches and legends for that type of resource. Plotting multiple types of resources requires creating separate plots. If needed, plots can be stacked, maintaining their time alignment. Here the default workflow to create a detailed utilization plot, with stacked plots for CPU and GPU resources.\n",
    "\n",
    "### Metrics\n",
    "\n",
    "Define the metrics you want RA to use to calculate resource utilization of task(s) and pilot(s). A metric is used to measure the amount of time for which a set of resource was used by an entity in a specific state. The list of all available durations is in ``rp.utils.PILOT_DURATIONS``; ``rp.utils.TASK_DURATIONS_DEFAULT``; ``rp.utils.TASK_DURATIONS_APP``; ``rp.utils.TASK_DURATIONS_PRTE``; and ``rp.utils.ASK_DURATIONS_PRTE_APP``. Each metric has a label---the name of the metric---, a list of durations, and a color used when plotting that metric.\n",
    "\n",
    "One can use an arbitrary number of metrics, depending on the information that the plot needs to convey. For example, using only 'Exec Cmd' will show the time for which each resource was utilized to execute a given task. The rest of the plot will be white, indicating that the resources where otherwise utilized or idling.\n",
    "\n",
    "Barring exceptional cases, colors should not be changed when using RA for RADICAL publications."
   ]
  },
  {
   "cell_type": "code",
   "execution_count": null,
   "metadata": {
    "ExecuteTime": {
     "end_time": "2021-07-28T08:09:18.386909Z",
     "start_time": "2021-07-28T08:09:18.382008Z"
    }
   },
   "outputs": [],
   "source": [
    "    metrics = [\n",
    "        ['Bootstrap', ['boot', 'setup_1']                         , '#c6dbef'],\n",
    "        ['Warmup'   , ['warm' ]                                   , '#f0f0f0'],\n",
    "        ['Schedule' , ['exec_queue','exec_prep', 'unschedule']    , '#c994c7'],\n",
    "        ['Exec RP'  , ['exec_rp', 'exec_sh', 'term_sh', 'term_rp'], '#fdbb84'],\n",
    "        ['Exec Cmd' , ['exec_cmd']                                , '#e31a1c'],\n",
    "        ['Cooldown' , ['drain']                                   , '#addd8e']\n",
    "    ]"
   ]
  },
  {
   "cell_type": "markdown",
   "metadata": {},
   "source": [
    "### Sessions\n",
    "\n",
    "Name a location of all the sessions of the experiment. "
   ]
  },
  {
   "cell_type": "code",
   "execution_count": null,
   "metadata": {
    "ExecuteTime": {
     "end_time": "2021-07-28T08:09:18.393571Z",
     "start_time": "2021-07-28T08:09:18.389408Z"
    }
   },
   "outputs": [],
   "source": [
    "sids = ['rp.session.rivendell.merzky.019270.0000',\n",
    "        'rp.session.rivendell.merzky.019270.0001',\n",
    "        'rp.session.rivendell.merzky.019270.0002',\n",
    "        'rp.session.rivendell.merzky.019270.0003']\n",
    "sdir = 'sessions/'\n",
    "sessions = [sdir + s for s in sids]"
   ]
  },
  {
   "cell_type": "markdown",
   "metadata": {},
   "source": [
    "Unbzip and untar those sessions."
   ]
  },
  {
   "cell_type": "code",
   "execution_count": null,
   "metadata": {
    "ExecuteTime": {
     "end_time": "2021-07-28T08:09:19.298428Z",
     "start_time": "2021-07-28T08:09:18.395857Z"
    }
   },
   "outputs": [],
   "source": [
    "for sid in sids:\n",
    "    sp = sdir + sid + '.tar.bz2'\n",
    "    tar = tarfile.open(sp, mode='r:bz2')\n",
    "    tar.extractall(path=sdir)\n",
    "    tar.close()"
   ]
  },
  {
   "cell_type": "markdown",
   "metadata": {},
   "source": [
    "Create a ``ra.Session`` object for the session. We do not need EnTK-specific traces so load only the RP traces contained in the EnTK session. Thus, we pass the ``'radical.pilot'`` session type to ``ra.Session``.\n",
    "\n",
    "<div class=\"alert alert-warning\">\n",
    "    \n",
    "__Warning:__ We already know we need information about pilots and tasks. Thus, we save in memory two session objects filtered for pilots and tasks. This might be too expensive with large sessions, depending on the amount of memory available.\n",
    "\n",
    "</div>\n",
    "    \n",
    "<div class=\"alert alert-info\">\n",
    "    \n",
    "__Note:__ We save the ouput of ``ra.Session`` in ``capt`` to avoid polluting the notebook with warning messages. \n",
    "\n",
    "</div>"
   ]
  },
  {
   "cell_type": "code",
   "execution_count": null,
   "metadata": {
    "ExecuteTime": {
     "end_time": "2021-07-28T08:09:24.234197Z",
     "start_time": "2021-07-28T08:09:19.300819Z"
    }
   },
   "outputs": [],
   "source": [
    "%%capture capt\n",
    "\n",
    "ss = {}\n",
    "for sid in sids:\n",
    "    sp = sdir+sid\n",
    "    ss[sid] = {'s': ra.Session(sp, 'radical.pilot')}\n",
    "    ss[sid].update({'p': ss[sid]['s'].filter(etype='pilot', inplace=False),\n",
    "                    't': ss[sid]['s'].filter(etype='task' , inplace=False)})"
   ]
  },
  {
   "cell_type": "markdown",
   "metadata": {},
   "source": [
    "Derive the information about each session we need to use in our plots."
   ]
  },
  {
   "cell_type": "code",
   "execution_count": null,
   "metadata": {
    "ExecuteTime": {
     "end_time": "2021-07-28T08:09:24.242739Z",
     "start_time": "2021-07-28T08:09:24.235672Z"
    }
   },
   "outputs": [],
   "source": [
    "for sid in sids:\n",
    "    \n",
    "    ss[sid].update({'cores_node': ss[sid]['s'].get(etype='pilot')[0].cfg['resource_details']['rm_info']['cores_per_node'],\n",
    "                    'pid'       : ss[sid]['p'].list('uid'),\n",
    "                    'ntask'     : len(ss[sid]['t'].get())\n",
    "    })\n",
    "    \n",
    "    ss[sid].update({'ncores'    : ss[sid]['p'].get(uid=ss[sid]['pid'])[0].description['cores'],\n",
    "                    'ngpus'     : ss[sid]['p'].get(uid=ss[sid]['pid'])[0].description['gpus']\n",
    "    })\n",
    "    \n",
    "    ss[sid].update({'nnodes'    : int(ss[sid]['ncores']/ss[sid]['cores_node'])})"
   ]
  },
  {
   "cell_type": "markdown",
   "metadata": {},
   "source": [
    "### Experiment\n",
    "\n",
    "Construct a ``ra.Experiment`` object and calculate the starting point of each pilot in order to zero the X axis of the plot. Without that, the plot would start after the time spent by the pilot waiting in the queue. The experiment object exposes a method to calculate the consumption of each resource for each entity and metric."
   ]
  },
  {
   "cell_type": "code",
   "execution_count": null,
   "metadata": {
    "ExecuteTime": {
     "end_time": "2021-07-28T08:09:24.548218Z",
     "start_time": "2021-07-28T08:09:24.244684Z"
    }
   },
   "outputs": [],
   "source": [
    "%%capture capt\n",
    "\n",
    "exp = ra.Experiment(sessions, stype='radical.pilot')"
   ]
  },
  {
   "cell_type": "markdown",
   "metadata": {},
   "source": [
    "Use ``ra.Experiment.utilization()`` to profile GPU resources utilization. Use the metrics defined above and all the sessions of the experiment ``exp``."
   ]
  },
  {
   "cell_type": "code",
   "execution_count": null,
   "metadata": {
    "ExecuteTime": {
     "end_time": "2021-07-28T08:09:25.789205Z",
     "start_time": "2021-07-28T08:09:24.553523Z"
    }
   },
   "outputs": [],
   "source": [
    "# Type of resource we want to plot: cpu or gpu\n",
    "rtypes=['cpu', 'gpu']\n",
    "\n",
    "provided, consumed, stats_abs, stats_rel, info = exp.utilization(metrics=metrics, rtype=rtypes[1])"
   ]
  },
  {
   "cell_type": "markdown",
   "metadata": {},
   "source": [
    "### Plotting GPU Utilization\n",
    "\n",
    "We now have everything we need to plot the detailed GPU utilization of the experiment with Matplotlib."
   ]
  },
  {
   "cell_type": "code",
   "execution_count": null,
   "metadata": {
    "ExecuteTime": {
     "end_time": "2021-07-28T08:09:33.360760Z",
     "start_time": "2021-07-28T08:09:25.790650Z"
    }
   },
   "outputs": [],
   "source": [
    "# sessions you want to plot\n",
    "splot = [os.path.basename(s) for s in sessions]\n",
    "nsids = len(splot)\n",
    "\n",
    "# Get the start time of each pilot\n",
    "p_zeros = ra.get_pilots_zeros(exp)\n",
    "\n",
    "# Create figure and 1 subplot for each session\n",
    "# Use LaTeX document page size (see RA Plotting Chapter)\n",
    "fwidth, fhight = ra.get_plotsize(516, subplots=(1, nsids))\n",
    "fig, axarr = plt.subplots(1, nsids, sharex='col', figsize=(fwidth, fhight))\n",
    "\n",
    "# Avoid overlapping between Y-axes ticks and sub-figures\n",
    "plt.subplots_adjust(wspace=0.45)\n",
    "\n",
    "# Generate the subplots with labels\n",
    "i = 0\n",
    "j = 'a'\n",
    "legend = None\n",
    "for sid in splot:\n",
    "\n",
    "    # Use a single plot if we have a single session\n",
    "    if nsids > 1:\n",
    "        ax = axarr[i]\n",
    "        ax.set_xlabel('(%s)' % j, labelpad=10)\n",
    "    else:\n",
    "        ax = axarr\n",
    "        \n",
    "    # Plot legend, patched, X and Y axes objects (here we know we have only 1 pilot)\n",
    "    pid = ss[sid]['p'].list('uid')[0]\n",
    "    legend, patches, x, y = ra.get_plot_utilization(metrics, consumed, p_zeros[sid][pid], sid)\n",
    "\n",
    "    # Place all the patches, one for each metric, on the axes\n",
    "    for patch in patches:\n",
    "        display(patch)\n",
    "        ax.add_patch(patch)\n",
    "\n",
    "    # Title of the plot. Facultative, requires info about session (see RA Info Chapter)\n",
    "    # NOTE: you may have to change font size, depending on space available\n",
    "    ax.set_title('%s Tasks - %s Nodes' % (ss[sid]['ntask'], int(ss[sid]['nnodes'])))\n",
    "    \n",
    "    # Format axes\n",
    "    ax.set_xlim([x['min'], x['max']])\n",
    "    ax.set_ylim([y['min'], y['max']])\n",
    "    ax.yaxis.set_major_locator(mticker.MaxNLocator(5)) \n",
    "    ax.xaxis.set_major_locator(mticker.MaxNLocator(5)) \n",
    "\n",
    "    i = i+1\n",
    "    j = chr(ord(j) + 1)\n",
    "    \n",
    "# Add legend\n",
    "fig.legend(legend, [m[0] for m in metrics], \n",
    "           loc='upper center', bbox_to_anchor=(0.5, 1.25), ncol=6)\n",
    "\n",
    "# Add axes labels\n",
    "fig.text( 0.05,  0.5, '%ss' % rtypes[1].upper(), va='center', rotation='vertical')\n",
    "fig.text( 0.5 , -0.2, 'Time (s)', ha='center')\n"
   ]
  },
  {
   "cell_type": "markdown",
   "metadata": {},
   "source": [
    "### Plotting CPU/GPU Utilization\n",
    "\n",
    "One plot for each type of resource, stacked for each session. For 4 sessions, we have 8 subplots, stackes in two raws, each with 4 columns."
   ]
  },
  {
   "cell_type": "code",
   "execution_count": null,
   "metadata": {
    "ExecuteTime": {
     "end_time": "2021-07-28T08:10:38.405046Z",
     "start_time": "2021-07-28T08:09:33.363434Z"
    }
   },
   "outputs": [],
   "source": [
    "# sessions you want to plot\n",
    "splot = [os.path.basename(s) for s in sessions]\n",
    "nsids = len(splot)\n",
    "\n",
    "# Create figure and 1 subplot for each session\n",
    "# Use LaTeX document page size (see RA Plotting Chapter)\n",
    "fwidth, fhight = ra.get_plotsize(516, subplots=(1, nsids))\n",
    "fig, axarr = plt.subplots(2, nsids, sharex='col', figsize=(fwidth, fhight))\n",
    "\n",
    "# Avoid overlapping between Y-axes ticks and sub-figures\n",
    "plt.subplots_adjust(wspace=0.45)\n",
    "\n",
    "# Generate the subplots with labels\n",
    "\n",
    "legend = None\n",
    "for k, rtype in enumerate(rtypes):\n",
    "\n",
    "    _, consumed, _, _, _ = exp.utilization(metrics=metrics, rtype=rtype)\n",
    "\n",
    "    j = 'a'\n",
    "    for i, sid in enumerate(splot):\n",
    "\n",
    "        # we know we have only 1 pilot\n",
    "        pid = ss[sid]['p'].list('uid')[0]\n",
    "\n",
    "        # Plot legend, patched, X and Y axes objects\n",
    "        legend, patches, x, y = ra.get_plot_utilization(metrics, consumed,\n",
    "                        p_zeros[sid][pid], sid)\n",
    "\n",
    "        # Place all the patches, one for each metric, on the axes\n",
    "        for patch in patches:\n",
    "            axarr[k][i].add_patch(patch)\n",
    "\n",
    "        # Title of the plot. Facultative, requires info about session (see RA\n",
    "        # Info Chapter). We set the title only on the first raw of plots\n",
    "        if rtype == 'cpu':\n",
    "            axarr[k][i].set_title('%s Tasks - %s Nodes' % (ss[sid]['ntask'],\n",
    "                    int(ss[sid]['nnodes'])))\n",
    "\n",
    "        # Format axes\n",
    "        axarr[k][i].set_xlim([x['min'],     x['max']])\n",
    "        axarr[k][i].set_ylim([y['min'], int(y['max'])])\n",
    "        axarr[k][i].yaxis.set_major_locator(mticker.MaxNLocator(4))\n",
    "        axarr[k][i].xaxis.set_major_locator(mticker.MaxNLocator(4))\n",
    "\n",
    "        if rtype == 'cpu':\n",
    "            # Specific to Summit when using SMT=4 (default)\n",
    "            axarr[k][i].yaxis.set_major_formatter(\n",
    "                    mticker.FuncFormatter(lambda z, pos: int(z/4)))\n",
    "\n",
    "        # Y label per subplot. We keep only the 1st for each raw.\n",
    "        if i == 0:\n",
    "            axarr[k][i].set_ylabel('%ss' % rtype.upper())\n",
    "\n",
    "        # Set x labels to letters for references in the paper.\n",
    "        # Set them only for the bottom-most subplot\n",
    "        if rtype == 'gpu':\n",
    "            axarr[k][i].set_xlabel('(%s)' % j, labelpad=10)\n",
    "\n",
    "        # update session id and raw identifier letter\n",
    "        j = chr(ord(j) + 1)\n",
    "        \n",
    "\n",
    "# Add legend\n",
    "fig.legend(legend, [m[0] for m in metrics], \n",
    "           loc='upper center', bbox_to_anchor=(0.5, 1.25), ncol=6)\n",
    "\n",
    "# Add axes labels\n",
    "fig.text( 0.5 , -0.2, 'Time (s)', ha='center')\n"
   ]
  },
  {
   "cell_type": "markdown",
   "metadata": {},
   "source": [
    "## Aggregated Resource Utilization\n",
    "\n",
    "This method is still under development and, as such, it requires to explicitly define the durations for each metric. Defaults will be included in ``rp.utils`` as done with the detailed plotting.\n",
    "\n",
    "### Metrics\n",
    "\n",
    "The definition of metrics needs to be accompanied by the explicit definition of the event transitions represented by each metric. RP transitions are documented [here](https://github.com/radical-cybertools/radical.pilot/blob/devel/docs/source/events.md>) but default values will be made available at a later time."
   ]
  },
  {
   "cell_type": "code",
   "execution_count": null,
   "metadata": {
    "ExecuteTime": {
     "end_time": "2021-07-28T08:10:38.417674Z",
     "start_time": "2021-07-28T08:10:38.407010Z"
    }
   },
   "outputs": [],
   "source": [
    "# pick and choose what resources to plot (one sub-plot per resource)\n",
    "resrc = ['cpu', 'gpu']\n",
    "\n",
    "# pick and choose what contributions to plot\n",
    "#            metric     ,  line color,  alpha, fill color,  alpha\n",
    "metrics  = [['bootstrap', ['#c6dbef' ,  0.0  , '#c6dbef' ,  1  ]],\n",
    "            ['exec_cmd' , ['#e31a1c' ,  0.0  , '#e31a1c' ,  1  ]],\n",
    "            ['schedule' , ['#c994c7' ,  0.0  , '#c994c7' ,  1  ]],\n",
    "            ['exec_rp'  , ['#fdbb84' ,  0.0  , '#fdbb84' ,  1  ]],\n",
    "            ['term'     , ['#addd8e' ,  0.0  , '#addd8e' ,  1  ]],\n",
    "            ['idle'     , ['#f0f0f0' ,  0.0  , '#f0f0f0' ,  1  ]] ]\n",
    "\n",
    "# transition events for pilot, task, master, worker, request\n",
    "#\n",
    "# event  : resource transitions from : resource transitions to\n",
    "#\n",
    "p_trans = [[{1: 'bootstrap_0_start'}     , 'system'     , 'bootstrap'  ],\n",
    "           [{5: 'PMGR_ACTIVE'}           , 'bootstrap'  , 'idle'       ],\n",
    "           [{1: 'cmd', 6: 'cancel_pilot'}, 'idle'       , 'term'       ],\n",
    "           [{1: 'bootstrap_0_stop'}      , 'term'       , 'system'     ],\n",
    "           [{1: 'sub_agent_start'}       , 'idle'       , 'agent'      ],\n",
    "           [{1: 'sub_agent_stop'}        , 'agent'      , 'term'       ] ]\n",
    "\n",
    "t_trans = [[{1: 'schedule_ok'}           , 'idle'       , 'schedule'   ],\n",
    "           [{1: 'exec_start'}            , 'schedule'   , 'exec_rp'    ],\n",
    "           [{1: 'task_exec_start'}       , 'exec_rp'    , 'exec_cmd'   ],\n",
    "           [{1: 'unschedule_stop'}       , 'exec_cmd'   , 'idle'       ] ]\n",
    "\n",
    "m_trans = [[{1: 'schedule_ok'}           , 'idle'       , 'schedule'   ],\n",
    "           [{1: 'exec_start'}            , 'schedule'   , 'exec_rp'    ],\n",
    "           [{1: 'task_exec_start'}       , 'exec_rp'    , 'exec_master'],\n",
    "           [{1: 'unschedule_stop'}       , 'exec_master', 'idle'       ] ]\n",
    "\n",
    "w_trans = [[{1: 'schedule_ok'}           , 'idle'       , 'schedule'   ],\n",
    "           [{1: 'exec_start'}            , 'schedule'   , 'exec_rp'    ],\n",
    "           [{1: 'task_exec_start'}       , 'exec_rp'    , 'exec_worker'],\n",
    "           [{1: 'unschedule_stop'}       , 'exec_worker', 'idle'       ] ]\n",
    "\n",
    "r_trans = [[{1: 'req_start'}             , 'exec_worker', 'workload'   ],\n",
    "           [{1: 'req_stop'}              , 'workload'   , 'exec_worker'] ]\n",
    "\n",
    "# what entity maps to what transition table\n",
    "tmap = {'pilot'  : p_trans,\n",
    "        'task'   : t_trans,\n",
    "        'master' : m_trans,\n",
    "        'worker' : w_trans,\n",
    "        'request': r_trans}"
   ]
  },
  {
   "cell_type": "markdown",
   "metadata": {},
   "source": [
    "### Session\n",
    "\n",
    "Pick a session to plot and use the ``ra.Session`` object already stored in memory. Also use the ``ra.Entity`` object for the pilot of that session. Here we assume we have a session with a single pilot."
   ]
  },
  {
   "cell_type": "code",
   "execution_count": null,
   "metadata": {
    "ExecuteTime": {
     "end_time": "2021-07-28T08:10:38.423893Z",
     "start_time": "2021-07-28T08:10:38.420072Z"
    }
   },
   "outputs": [],
   "source": [
    "uid = 'rp.session.rivendell.merzky.019270.0003'\n",
    "session = ss[uid]['s']\n",
    "pilot   = ss[uid]['p'].get()[0]"
   ]
  },
  {
   "cell_type": "markdown",
   "metadata": {},
   "source": [
    "### Plotting CPU/GPU Utilization\n",
    "\n",
    "Stack two plots for the chosen session, one for CPU and one for GPU resources."
   ]
  },
  {
   "cell_type": "code",
   "execution_count": null,
   "metadata": {
    "ExecuteTime": {
     "end_time": "2021-07-28T08:10:38.976081Z",
     "start_time": "2021-07-28T08:10:38.427180Z"
    }
   },
   "outputs": [],
   "source": [
    "# metrics to stack and to plot\n",
    "to_stack = [m[0] for m in metrics]\n",
    "to_plot  = {m[0]: m[1] for m in metrics}\n",
    "\n",
    "# Use to set Y-axes to % of resource utilization\n",
    "use_percent = True\n",
    "    \n",
    "# Derive pilot and task timeseries of a session for each metric\n",
    "p_resrc, series, x = ra.get_pilot_series(session, pilot, tmap, resrc, use_percent)\n",
    "\n",
    "# #plots = # of resource types (e.g., CPU/GPU = 2 resource types = 2 plots)\n",
    "n_plots = 0\n",
    "for r in p_resrc:\n",
    "    if p_resrc[r]:\n",
    "        n_plots += 1\n",
    "\n",
    "# sub-plots for each resource type, legend on first, x-axis shared\n",
    "fig = plt.figure(figsize=(ra.get_plotsize(252)))\n",
    "gs  = mpl.gridspec.GridSpec(n_plots, 1)\n",
    "\n",
    "for plot_id, r in enumerate(resrc):\n",
    "\n",
    "    if not p_resrc[r]:\n",
    "        continue\n",
    "\n",
    "    # create sub-plot\n",
    "    ax = plt.subplot(gs[plot_id])\n",
    "\n",
    "    # stack timeseries for each metrics into areas\n",
    "    areas = ra.stack_transitions(series, r, to_stack)\n",
    "\n",
    "    # plot individual metrics\n",
    "    prev_m  = None\n",
    "    lines   = list()\n",
    "    patches = list()\n",
    "    legend  = list()\n",
    "    for num, m in enumerate(areas.keys()):\n",
    "\n",
    "        if m not in to_plot:\n",
    "            if m != 'time':\n",
    "                print('skip', m)\n",
    "            continue\n",
    "\n",
    "        lcol   = to_plot[m][0]\n",
    "        lalpha = to_plot[m][1]\n",
    "        pcol   = to_plot[m][2]\n",
    "        palpha = to_plot[m][3]\n",
    "\n",
    "        # plot the (stacked) areas\n",
    "        line, = ax.step(areas['time'], areas[m], where='post', label=m,\n",
    "                        color=lcol, alpha=lalpha, linewidth=1.0)\n",
    "\n",
    "        # fill first metric toward 0, all others towards previous line\n",
    "        if not prev_m:\n",
    "            patch = ax.fill_between(areas['time'], areas[m],\n",
    "                                    step='post', label=m, linewidth=0.0,\n",
    "                                    color=pcol, alpha=palpha)\n",
    "\n",
    "        else:\n",
    "            patch = ax.fill_between(areas['time'], areas[m], areas[prev_m], \n",
    "                                    step='post', label=m, linewidth=0.0,\n",
    "                                    color=pcol, alpha=palpha)\n",
    "\n",
    "        # remember lines and patches for legend\n",
    "        legend.append(m.replace('_', '-'))\n",
    "        patches.append(patch)\n",
    "\n",
    "        # remember this line to fill against\n",
    "        prev_m = m\n",
    "\n",
    "    ax.set_xlim([x['min'], x['max']])\n",
    "    if use_percent:\n",
    "        ax.set_ylim([0, 110])\n",
    "    else:\n",
    "        ax.set_ylim([0, p_resrc[r]])\n",
    "\n",
    "    ax.set_xlabel('time (s)')\n",
    "    ax.set_ylabel('%s (%s)' % (r.upper(), '\\%'))\n",
    "\n",
    "\n",
    "    # first sub-plot gets legend\n",
    "    if plot_id == 0:\n",
    "        ax.legend(patches, legend, loc='upper center', ncol=4,\n",
    "                  bbox_to_anchor=(0.5, 1.8), fancybox=True, shadow=True)\n",
    "\n",
    "for ax in fig.get_axes():\n",
    "    ax.label_outer()\n",
    "\n",
    "# Title of the plot\n",
    "fig.suptitle('%s Tasks - %s Nodes' % (ss[uid]['ntask'], ss[uid]['nnodes']))"
   ]
  },
  {
   "cell_type": "code",
   "execution_count": null,
   "metadata": {},
   "outputs": [],
   "source": []
  }
 ],
 "metadata": {
  "interpreter": {
   "hash": "4e930a59060294b3c36e959022018a85ad5c255f799f9184ed44ac642fe4440a"
  },
  "kernelspec": {
   "display_name": "Python 3 (ipykernel)",
   "language": "python",
   "name": "python3"
  },
  "language_info": {
   "codemirror_mode": {
    "name": "ipython",
    "version": 3
   },
   "file_extension": ".py",
   "mimetype": "text/x-python",
   "name": "python",
   "nbconvert_exporter": "python",
   "pygments_lexer": "ipython3",
   "version": "3.9.16"
  }
 },
 "nbformat": 4,
 "nbformat_minor": 2
}
