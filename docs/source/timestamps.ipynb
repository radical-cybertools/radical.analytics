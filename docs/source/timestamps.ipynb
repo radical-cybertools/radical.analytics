{
 "cells": [
  {
   "cell_type": "markdown",
   "id": "da59481a",
   "metadata": {},
   "source": [
    "# Timestamps\n",
    "\n",
    "RADICAL-Analytics (RA) enables event-based analyses in which the timestamps recorded in a RADICAL-Cybertools (RCT) session are studied as timeseries instead of durations. Those analyses are low-level and, most of the time, useful to 'visualize' the process of execution as it happens in one or more components of the stack.\n",
    "\n",
    "<div class=\"alert alert-warning\">\n",
    "    \n",
    "__Warning:__ Sessions with 100,000+ tasks and resoruces may generate traces with 1M+ events. Depending on the quantity of available memory, plotting that amount of timestamps with RA could not be feasable.\n",
    "\n",
    "</div>\n",
    "\n",
    "## Prologue\n",
    "\n",
    "Load the Python modules needed to profile and plot a RCT session."
   ]
  },
  {
   "cell_type": "code",
   "execution_count": null,
   "id": "5fc67c1d",
   "metadata": {
    "ExecuteTime": {
     "end_time": "2021-07-28T08:08:31.752527Z",
     "start_time": "2021-07-28T08:08:30.950509Z"
    }
   },
   "outputs": [],
   "source": [
    "import tarfile\n",
    "\n",
    "import numpy as np\n",
    "import pandas as pd\n",
    "import matplotlib as mpl\n",
    "import matplotlib.pyplot as plt\n",
    "import matplotlib.ticker as mticker\n",
    "\n",
    "import radical.utils as ru\n",
    "import radical.pilot as rp\n",
    "import radical.analytics as ra\n",
    "\n",
    "from radical.pilot import states as rps"
   ]
  },
  {
   "cell_type": "markdown",
   "id": "3433888d",
   "metadata": {},
   "source": [
    "Load the RADICAL Matplotlib style to obtain viasually consistent and publishable-qality plots."
   ]
  },
  {
   "cell_type": "code",
   "execution_count": null,
   "id": "a5cf75a2",
   "metadata": {
    "ExecuteTime": {
     "end_time": "2021-07-28T08:08:31.762416Z",
     "start_time": "2021-07-28T08:08:31.755379Z"
    }
   },
   "outputs": [],
   "source": [
    "plt.style.use(ra.get_mplstyle('radical_mpl'))"
   ]
  },
  {
   "cell_type": "markdown",
   "id": "8109ad1f",
   "metadata": {},
   "source": [
    "Usually, it is useful to record the stack used for the analysis. \n",
    "\n",
    "<div class=\"alert alert-info\">\n",
    "    \n",
    "__Note:__ The analysis stack might be different from the stack used to create the session to analyze. Usually, the two stacks must have the same minor release number (Major.Minor.Patch) in order to be compatible.\n",
    "\n",
    "</div>"
   ]
  },
  {
   "cell_type": "code",
   "execution_count": null,
   "id": "3af2877f",
   "metadata": {
    "ExecuteTime": {
     "end_time": "2021-07-28T08:08:32.739199Z",
     "start_time": "2021-07-28T08:08:31.764540Z"
    }
   },
   "outputs": [],
   "source": [
    "! radical-stack"
   ]
  },
  {
   "cell_type": "markdown",
   "id": "0628d38d",
   "metadata": {},
   "source": [
    "## Event Model\n",
    "\n",
    "RCT components have each a well-defined event model:\n",
    "\n",
    "* [RADICAL-Pilot (RP) event model](https://github.com/radical-cybertools/radical.pilot/blob/devel/docs/source/events.md)\n",
    "* [RADICAL-EnsembleToolkit (EnTK) event model](https://radicalentk.readthedocs.io/en/latest/dev_docs/uml.html#dev-docs-events)\n",
    "\n",
    "<div class=\"alert alert-info\">\n",
    "    \n",
    "__Note:__ RA does not support RADICAL-SAGA.\n",
    "\n",
    "</div>\n",
    "\n",
    "Each event belongs to an entity and is timestamped within a component. The succession of the same event over time constitutes a time series. For example, in RP the event `schedule_ok` belongs to a `task` and is timestamped by `AgentSchedulingComponent`. The timeseries of that event indicates the rate at which tasks are scheduled by RP.\n",
    "\n",
    "## Timestamps analysis\n",
    "\n",
    "We use RA to derive the timeseries for one or more events of interest. We then plot each time series singularly or together in the same plot. When plotting the time series of multiple events together, they must all be ordered in the same way. Typically, we sort the entities by the timestamp of their first event.\n",
    "\n",
    "Here is the RA workflow for a timestamps analysis:\n",
    "\n",
    "1. Go at [RADICAL-Pilot (RP) event model](https://github.com/radical-cybertools/radical.pilot/blob/devel/docs/source/events.md), [RP state model](https://github.com/radical-cybertools/radical.pilot/wiki/State-Model-Evolution) or [RADICAL-EnsembleToolkit (EnTK) event model](https://radicalentk.readthedocs.io/en/latest/dev_docs/uml.html#dev-docs-events) and derive the list of events of interest.\n",
    "2. Convert events and states in RP/RA dict notation.\n",
    "\n",
    "E.g., a scheduling event and state in RP:\n",
    "\n",
    "* [schedule_ok: search for task resources succeeded (uid: task)](https://github.com/radical-cybertools/radical.pilot/blob/devel/docs/source/events.md#agentschedulingcomponent-component)\n",
    "* [AGENT_SCHEDULING - picked up by agent scheduler, attempts to assign cores for execution](https://github.com/radical-cybertools/radical.pilot/wiki/State-Model-Evolution)"
   ]
  },
  {
   "cell_type": "code",
   "execution_count": null,
   "id": "e0142396",
   "metadata": {
    "ExecuteTime": {
     "end_time": "2021-07-28T08:08:32.747455Z",
     "start_time": "2021-07-28T08:08:32.743695Z"
    }
   },
   "outputs": [],
   "source": [
    "event = {ru.EVENT: 'schedule_ok'}\n",
    "state = {ru.STATE: rps.AGENT_SCHEDULING}"
   ]
  },
  {
   "cell_type": "markdown",
   "id": "de42f303",
   "metadata": {},
   "source": [
    "3. Filter a RCT session for the entity to which the selected event/state belong.\n",
    "4. use `ra.entity.timestamps()` and the defined event/state to derive the time series for that event/state."
   ]
  },
  {
   "cell_type": "markdown",
   "id": "3b17b97e",
   "metadata": {},
   "source": [
    "### Session\n",
    "\n",
    "Name and location of the session we profile."
   ]
  },
  {
   "cell_type": "code",
   "execution_count": null,
   "id": "1eb78bb6",
   "metadata": {
    "ExecuteTime": {
     "end_time": "2021-07-28T08:08:32.752675Z",
     "start_time": "2021-07-28T08:08:32.749610Z"
    }
   },
   "outputs": [],
   "source": [
    "sid = 're.session.login1.lei.018775.0005'\n",
    "sdir = 'sessions/'"
   ]
  },
  {
   "cell_type": "markdown",
   "id": "69c8d72d",
   "metadata": {},
   "source": [
    "Unbzip and untar the session."
   ]
  },
  {
   "cell_type": "code",
   "execution_count": null,
   "id": "b7e7e799",
   "metadata": {
    "ExecuteTime": {
     "end_time": "2021-07-28T08:08:33.084318Z",
     "start_time": "2021-07-28T08:08:32.755500Z"
    }
   },
   "outputs": [],
   "source": [
    "sp = sdir+sid+'.tar.bz2'\n",
    "tar = tarfile.open(sp, mode='r:bz2')\n",
    "tar.extractall(path=sdir)\n",
    "tar.close()"
   ]
  },
  {
   "cell_type": "markdown",
   "id": "26355c76",
   "metadata": {},
   "source": [
    "Create a ``ra.Session`` object for the session. We do not need EnTK-specific traces so load only the RP traces contained in the EnTK session. Thus, we pass the ``'radical.pilot'`` session type to ``ra.Session``.\n",
    "\n",
    "<div class=\"alert alert-warning\">\n",
    "    \n",
    "__Warning:__ We already know we need information about pilots and tasks. Thus, we save in memory two session objects filtered for pilots and tasks. This might be too expensive with large sessions, depending on the amount of memory available.\n",
    "\n",
    "</div>\n",
    "    \n",
    "<div class=\"alert alert-info\">\n",
    "    \n",
    "__Note:__ We save the ouput of ``ra.Session`` in ``capt`` to avoid polluting the notebook with warning messages. \n",
    "\n",
    "</div>"
   ]
  },
  {
   "cell_type": "code",
   "execution_count": null,
   "id": "93948c31",
   "metadata": {
    "ExecuteTime": {
     "end_time": "2021-07-28T08:08:35.837079Z",
     "start_time": "2021-07-28T08:08:33.086583Z"
    }
   },
   "outputs": [],
   "source": [
    "%%capture capt\n",
    "\n",
    "sp = sdir+sid\n",
    "\n",
    "session = ra.Session(sp, 'radical.pilot')\n",
    "pilots  = session.filter(etype='pilot', inplace=False)\n",
    "tasks   = session.filter(etype='task' , inplace=False)"
   ]
  },
  {
   "cell_type": "markdown",
   "id": "30b6ae67",
   "metadata": {},
   "source": [
    "We usually want to collect some information about the sessions we are going to analyze. That information is used for bookeeping while performing the analysis (especially when having multiple sessions) and to add meaningful titles to (sub)plots."
   ]
  },
  {
   "cell_type": "code",
   "execution_count": null,
   "id": "d5448170",
   "metadata": {
    "ExecuteTime": {
     "end_time": "2021-07-28T08:08:35.843610Z",
     "start_time": "2021-07-28T08:08:35.838670Z"
    }
   },
   "outputs": [],
   "source": [
    "sinfo = {}\n",
    "\n",
    "sinfo.update({\n",
    "    'cores_node': session.get(etype='pilot')[0].cfg['resource_details']['rm_info']['cores_per_node'],\n",
    "    'pid'       : pilots.list('uid'),\n",
    "    'ntask'     : len(tasks.get())\n",
    "})\n",
    "\n",
    "sinfo.update({\n",
    "    'ncores'    : session.get(uid=sinfo['pid'])[0].description['cores'],\n",
    "    'ngpus'     : pilots.get(uid=sinfo['pid'])[0].description['gpus']\n",
    "})\n",
    "\n",
    "sinfo.update({\n",
    "    'nnodes'    : int(sinfo['ncores']/sinfo['cores_node'])\n",
    "})"
   ]
  },
  {
   "cell_type": "markdown",
   "id": "12f8cc94",
   "metadata": {},
   "source": [
    "Use `ra.session.get()` on the filtered session objects that contains only task entities. Then use `ra.entity.timestamps()` to derive the time series for each event/state of interest. We put the time series into a pandas DataFrame to make plotting easier. "
   ]
  },
  {
   "cell_type": "code",
   "execution_count": null,
   "id": "d6126c22",
   "metadata": {
    "ExecuteTime": {
     "end_time": "2021-07-28T08:08:35.868194Z",
     "start_time": "2021-07-28T08:08:35.846356Z"
    }
   },
   "outputs": [],
   "source": [
    "tseries = {'AGENT_SCHEDULING': [], \n",
    "           'schedule_ok': []}\n",
    "\n",
    "for task in tasks.get():\n",
    "    ts_state = task.timestamps(event=state)[0]\n",
    "    ts_event = task.timestamps(event=event)[0]\n",
    "    tseries['AGENT_SCHEDULING'].append(ts_state)\n",
    "    tseries['schedule_ok'].append(ts_event)\n",
    "\n",
    "time_series = pd.DataFrame.from_dict(tseries)\n",
    "time_series.head()"
   ]
  },
  {
   "cell_type": "markdown",
   "id": "98a50c63",
   "metadata": {},
   "source": [
    "Usually, time series are plotted as lineplots but, in our case, we want to plot just the time stamps without a 'line' connecting those events, a potentially misleading artefact. Thus, we use a scatterplot in which the X axes are the number of tasks and the Y axes time in seconds. This somehow 'stretches' the meaning of a scatterplot as we do not use it to represent a correlation.\n",
    "\n",
    "<div class=\"alert alert-info\">\n",
    "    \n",
    "__Note:__ We need to zero the Y axes as the timestamps are taken starting from the first timestamp of the session. The event/state we choose are much later down the execution. Here we select the event/state that has to appen first, based on our knowledge of [RP's architecture](https://github.com/radical-cybertools/radical.pilot/wiki/Architecture). Alternatively, we could find the min among all the time stamps we have in the dataframe and use that as the zero point.\n",
    "\n",
    "</div>\n",
    "\n",
    "<div class=\"alert alert-info\">\n",
    "\n",
    "__Note:__ Once we have found the zero point in time (`zero`) we subtract it to the whole time series. Pandas' dataframe make that easy. We also add 1 to the index we use for the X axes so to start to count tasks from 1 instead of 0.\n",
    "\n",
    "</div>"
   ]
  },
  {
   "cell_type": "code",
   "execution_count": null,
   "id": "3f991e6e",
   "metadata": {
    "ExecuteTime": {
     "end_time": "2021-07-28T08:08:36.562665Z",
     "start_time": "2021-07-28T08:08:35.872936Z"
    }
   },
   "outputs": [],
   "source": [
    "fig, ax = plt.subplots(figsize=(ra.get_plotsize(212)))\n",
    "\n",
    "# Find the min timestamp of the first event/state timeseries and use it to zero\n",
    "# the Y axes.\n",
    "zero = time_series['AGENT_SCHEDULING'].min()\n",
    "\n",
    "ax.scatter(time_series['AGENT_SCHEDULING'].index + 1, \n",
    "           time_series['AGENT_SCHEDULING'] - zero, \n",
    "           marker = '.', \n",
    "           label = ra.to_latex('AGENT_SCHEDULING'))\n",
    "ax.scatter(time_series['schedule_ok'].index + 1, \n",
    "           time_series['schedule_ok'] - zero, \n",
    "           marker = '.', \n",
    "           label = ra.to_latex('schedule_ok'))\n",
    "\n",
    "ax.legend(ncol=1, loc='upper left', bbox_to_anchor=(0,1.25))\n",
    "ax.set_xlabel('Number of Tasks')\n",
    "ax.set_ylabel('Time (s)')"
   ]
  },
  {
   "cell_type": "markdown",
   "id": "6572369f",
   "metadata": {},
   "source": [
    "The plot above shows that all the tasks arrive at RP's Scheduler together (`AGENT_SCHEDULING` state). That is expected as tasks are transferred in bulk from RP Client's Task Manager to RP Agent's Staging In component.\n",
    "\n",
    "The plot also shows that the 40 tasks are executed in two \"generations\". The first 20 tasks can be immediately scheduled (`schedule_ok`) and the second 20 tasks can be scheduled one by one, as soon as one of the first 20 tasks terminates to execute.\n",
    "\n",
    "Adding execution events to our timestamps analysis should fill the gap between the two \"generations\" of 20 tasks. It should also confirm the [duration distributions](duration.ipynb#Distribution-of-Durations) of the time taken by RP's Executor launch method to launch tasks. \n",
    "\n",
    "We add the relevant events/states to the `time_series` dataframe."
   ]
  },
  {
   "cell_type": "code",
   "execution_count": null,
   "id": "34104f20",
   "metadata": {
    "ExecuteTime": {
     "end_time": "2021-07-28T08:08:36.590388Z",
     "start_time": "2021-07-28T08:08:36.565059Z"
    }
   },
   "outputs": [],
   "source": [
    "executor = {\n",
    "    'AGENT_EXECUTING': {ru.STATE: rps.AGENT_EXECUTING},\n",
    "    'task_exec_start': {ru.EVENT: 'task_exec_start'},\n",
    "    'task_exec_stop' : {ru.EVENT: 'task_exec_stop'}\n",
    "}\n",
    "\n",
    "for name, event in executor.items():\n",
    "    \n",
    "    tseries = []    \n",
    "    for task in tasks.get():\n",
    "        ts_state = task.timestamps(event=event)[0]\n",
    "        tseries.append(ts_state)\n",
    "    \n",
    "    time_series[name] = tseries\n",
    "    \n",
    "time_series.head()"
   ]
  },
  {
   "cell_type": "markdown",
   "id": "1f9a9798",
   "metadata": {},
   "source": [
    "We plot the new time series alongside the previous ones."
   ]
  },
  {
   "cell_type": "code",
   "execution_count": null,
   "id": "25689dba",
   "metadata": {
    "ExecuteTime": {
     "end_time": "2021-07-28T08:08:36.941182Z",
     "start_time": "2021-07-28T08:08:36.593068Z"
    }
   },
   "outputs": [],
   "source": [
    "fig, ax = plt.subplots(figsize=(ra.get_plotsize(212)))\n",
    "\n",
    "zero = time_series['AGENT_SCHEDULING'].min()\n",
    "\n",
    "for ts in time_series.columns:    \n",
    "    ax.scatter(time_series[ts].index + 1, \n",
    "               time_series[ts] - zero, \n",
    "               marker = '.', \n",
    "               label = ra.to_latex(ts))\n",
    "\n",
    "ax.legend(ncol=2, loc='upper left', bbox_to_anchor=(-0.25,1.5))\n",
    "ax.set_xlabel('Number of Tasks')\n",
    "ax.set_ylabel('Time (s)')"
   ]
  },
  {
   "cell_type": "markdown",
   "id": "3201d8d7",
   "metadata": {},
   "source": [
    "`schedule_ok` is not visible in the plot because it is overlapped by `AGENT_EXECUTING` that happens right after each task has been scheduled. That confirms that the communication between the RP Scheduler and Executor components does not add significant overhead to the execution.\n",
    "\n",
    "We see the time taken by the launch method (JSRUN on ORNL Summit in this case) to launch a task once it is handed out to RP's Executor: the distance between `TASK_EXECUTING` and `task_exec_start` dots. The overall task execution time is consistent with that measured via the [duration analyses](duration.ipynb).\n",
    "\n",
    "The plot also shows the time taken to execute each task: distance on the Y axes between light orange dots and dark green dots. Also in this case, that is consistent with what measured with the [duration analyses](duration.ipynb).\n",
    "\n",
    "In presence of a large amount of tasks, we can slice the time stamps to plot one or more of their subsets. "
   ]
  },
  {
   "cell_type": "code",
   "execution_count": null,
   "id": "58c7d2dc",
   "metadata": {
    "ExecuteTime": {
     "end_time": "2021-07-28T08:08:37.278381Z",
     "start_time": "2021-07-28T08:08:36.943692Z"
    }
   },
   "outputs": [],
   "source": [
    "fig, ax = plt.subplots(figsize=(ra.get_plotsize(212)))\n",
    "\n",
    "# Slice time series to plot only one of their subsets\n",
    "time_series = time_series.reset_index(drop=True)\n",
    "time_series = time_series.iloc[16:24]\n",
    "\n",
    "zero = time_series['AGENT_SCHEDULING'].min()\n",
    "\n",
    "for ts in time_series.columns:    \n",
    "    ax.scatter(time_series[ts].index + 1, \n",
    "               time_series[ts] - zero, \n",
    "               marker = '.', \n",
    "               label = ra.to_latex(ts))\n",
    "\n",
    "ax.legend(ncol=2, loc='upper left', bbox_to_anchor=(-0.25,1.5))\n",
    "ax.set_xlabel('Number of Tasks')\n",
    "ax.set_ylabel('Time (s)')"
   ]
  }
 ],
 "metadata": {
  "kernelspec": {
   "display_name": "Python 3 (ipykernel)",
   "language": "python",
   "name": "python3"
  },
  "language_info": {
   "codemirror_mode": {
    "name": "ipython",
    "version": 3
   },
   "file_extension": ".py",
   "mimetype": "text/x-python",
   "name": "python",
   "nbconvert_exporter": "python",
   "pygments_lexer": "ipython3",
   "version": "3.8.11"
  }
 },
 "nbformat": 4,
 "nbformat_minor": 5
}
