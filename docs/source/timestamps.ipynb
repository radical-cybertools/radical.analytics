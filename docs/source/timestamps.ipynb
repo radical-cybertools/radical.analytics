{
 "cells": [
  {
   "cell_type": "markdown",
   "id": "da59481a",
   "metadata": {},
   "source": [
    "# Timestamps\n",
    "\n",
    "RADICAL-Analytics (RA) enables event-based analyses in which the timestamps recorded in a RADICAL-Cybertools (RCT) session are studied as timeseries instead of durations. Those analyses are low-level and, most of the time, useful to 'visualize' the process of execution as it happens in one or more components of the stack.\n",
    "\n",
    "<div class=\"alert alert-warning\">\n",
    "    \n",
    "__Warning:__ Sessions with 100,000+ tasks and resoruces may generate traces with 1M+ events. Depending on the quantity of available memory, plotting that amount of timestamps with RA could not be feasable.\n",
    "\n",
    "</div>\n",
    "\n",
    "## Prologue\n",
    "\n",
    "Load all the Python modules needed to profile and plot a RADICAL-EnsembleToolkit (EnTK) session."
   ]
  },
  {
   "cell_type": "code",
   "execution_count": null,
   "id": "5fc67c1d",
   "metadata": {
    "ExecuteTime": {
     "end_time": "2021-07-26T22:36:56.744077Z",
     "start_time": "2021-07-26T22:36:56.011660Z"
    }
   },
   "outputs": [],
   "source": [
    "import tarfile\n",
    "\n",
    "import numpy as np\n",
    "import pandas as pd\n",
    "import matplotlib as mpl\n",
    "import matplotlib.pyplot as plt\n",
    "import matplotlib.ticker as mticker\n",
    "\n",
    "import radical.utils as ru\n",
    "import radical.pilot as rp\n",
    "import radical.analytics as ra\n",
    "\n",
    "from radical.pilot import states as rps"
   ]
  },
  {
   "cell_type": "markdown",
   "id": "3433888d",
   "metadata": {},
   "source": [
    "Load the RADICAL Matplotlib style to obtain viasually consistent and publishable-qality plots."
   ]
  },
  {
   "cell_type": "code",
   "execution_count": null,
   "id": "a5cf75a2",
   "metadata": {
    "ExecuteTime": {
     "end_time": "2021-07-26T22:36:56.754349Z",
     "start_time": "2021-07-26T22:36:56.747456Z"
    }
   },
   "outputs": [],
   "source": [
    "plt.style.use(ra.get_mplstyle('radical_mpl'))"
   ]
  },
  {
   "cell_type": "markdown",
   "id": "8109ad1f",
   "metadata": {},
   "source": [
    "Usually, it is useful to record the stack used for the analysis. \n",
    "\n",
    "<div class=\"alert alert-info\">\n",
    "    \n",
    "__Note:__ The stack used for the analysis might be different from the stack used to crete the session to analyze. Usually, the two stack have to have the same major release number in order to be compatible.\n",
    "\n",
    "</div>"
   ]
  },
  {
   "cell_type": "code",
   "execution_count": null,
   "id": "3af2877f",
   "metadata": {
    "ExecuteTime": {
     "end_time": "2021-07-26T22:36:57.782114Z",
     "start_time": "2021-07-26T22:36:56.756555Z"
    }
   },
   "outputs": [],
   "source": [
    "! radical-stack"
   ]
  },
  {
   "cell_type": "markdown",
   "id": "0628d38d",
   "metadata": {},
   "source": [
    "## Event Model\n",
    "\n",
    "RCT components have each a well-defined event model:\n",
    "\n",
    "* [RADICAL-Pilot (RP) event model](https://github.com/radical-cybertools/radical.pilot/blob/devel/docs/source/events.md)\n",
    "* [RADICAL-EnsembleToolkit (EnTK) event model](https://radicalentk.readthedocs.io/en/latest/dev_docs/uml.html#dev-docs-events)\n",
    "\n",
    "<div class=\"alert alert-info\">\n",
    "    \n",
    "__Note:__ RA does not support RADICAL-SAGA.\n",
    "\n",
    "</div>\n",
    "\n",
    "Each event belongs to an entity and is timestamped within a component. The succession of the same event over time constitutes a time series. For example, in RP the event `schedule_ok` belongs to a `task` and is timestamped by `AgentSchedulingComponent`. The timeseries of that event indicates indicates the rate at which tasks are scheduled by RP.\n",
    "\n",
    "## Timestamps analysis\n",
    "\n",
    "We use RA to derive the timeseries for one or more events of interest. We then plot each time series singularly or on the same plot. When plotting the time series of multiple events together, they must all be ordered in the same way. Typically, we sort the entities by the timestamp of their first event.\n",
    "\n",
    "RA user workflow for a timestamps analysis:\n",
    "\n",
    "1. Go at [RADICAL-Pilot (RP) event model](https://github.com/radical-cybertools/radical.pilot/blob/devel/docs/source/events.md), [RP state model](https://github.com/radical-cybertools/radical.pilot/wiki/State-Model-Evolution) or [RADICAL-EnsembleToolkit (EnTK) event model](https://radicalentk.readthedocs.io/en/latest/dev_docs/uml.html#dev-docs-events) and derives the list of events of interest.\n",
    "2. Convert events and states in RP/RA dict notation.\n",
    "\n",
    "E.g., a scheduling event and state in RP:\n",
    "\n",
    "* [schedule_ok: search for task resources succeeded (uid: task)](https://github.com/radical-cybertools/radical.pilot/blob/devel/docs/source/events.md#agentschedulingcomponent-component)\n",
    "* [AGENT_SCHEDULING - picked up by agent scheduler, attempts to assign cores for execution](https://github.com/radical-cybertools/radical.pilot/wiki/State-Model-Evolution)"
   ]
  },
  {
   "cell_type": "code",
   "execution_count": null,
   "id": "000c6491",
   "metadata": {
    "ExecuteTime": {
     "end_time": "2021-07-26T22:36:57.790144Z",
     "start_time": "2021-07-26T22:36:57.786297Z"
    }
   },
   "outputs": [],
   "source": [
    "event = {ru.EVENT: 'schedule_ok', ru.STATE: None}\n",
    "state = {ru.EVENT: 'state', ru.STATE: rps.AGENT_SCHEDULING}"
   ]
  },
  {
   "cell_type": "markdown",
   "id": "5df39b09",
   "metadata": {},
   "source": [
    "3. Filter a RCT session for the entity to which the selected event/state belong\n",
    "4. use `ra.entity.timestamps()` and the defined event/state to derive the time series for that event/state."
   ]
  },
  {
   "cell_type": "markdown",
   "id": "71a27f2b",
   "metadata": {},
   "source": [
    "### Session\n",
    "\n",
    "Name and location of the session we profile."
   ]
  },
  {
   "cell_type": "code",
   "execution_count": null,
   "id": "1eb78bb6",
   "metadata": {
    "ExecuteTime": {
     "end_time": "2021-07-26T22:36:57.795777Z",
     "start_time": "2021-07-26T22:36:57.792760Z"
    }
   },
   "outputs": [],
   "source": [
    "sid = 're.session.login1.lei.018775.0005'\n",
    "sdir = 'sessions/'"
   ]
  },
  {
   "cell_type": "markdown",
   "id": "b4cf39b0",
   "metadata": {},
   "source": [
    "Unbzip and untar sessions."
   ]
  },
  {
   "cell_type": "code",
   "execution_count": null,
   "id": "d9cf0cb8",
   "metadata": {
    "ExecuteTime": {
     "end_time": "2021-07-26T22:36:58.147477Z",
     "start_time": "2021-07-26T22:36:57.797749Z"
    }
   },
   "outputs": [],
   "source": [
    "sp = sdir+sid+'.tar.bz2'\n",
    "tar = tarfile.open(sp, mode='r:bz2')\n",
    "tar.extractall(path=sdir)\n",
    "tar.close()"
   ]
  },
  {
   "cell_type": "markdown",
   "id": "e724745a",
   "metadata": {},
   "source": [
    "Create a ``ra.Session`` object for the session. We are not going to use EnTK-specific traces so we are going to load only the RP traces contained in the EnTK session. Thus, we pass the ``'radical.pilot'`` session type to ``ra.Session``.\n",
    "\n",
    "<div class=\"alert alert-warning\">\n",
    "    \n",
    "__Warning:__ We already know we will want to derive information about pilot(s) and tasks. Thus, we save in memory a session objects filtered for those two identities. This might be too expensive with large sessions, depending on the amount of memory available.\n",
    "\n",
    "</div>\n",
    "    \n",
    "<div class=\"alert alert-info\">\n",
    "    \n",
    "__Note:__ We save the ouput of ``ra.Session`` in ``capt`` to avoid polluting the notebook. \n",
    "\n",
    "</div>"
   ]
  },
  {
   "cell_type": "code",
   "execution_count": null,
   "id": "2c5e971a",
   "metadata": {
    "ExecuteTime": {
     "end_time": "2021-07-26T22:37:00.896835Z",
     "start_time": "2021-07-26T22:36:58.150885Z"
    }
   },
   "outputs": [],
   "source": [
    "%%capture capt\n",
    "\n",
    "sp = sdir+sid\n",
    "\n",
    "session = ra.Session(sp, 'radical.pilot')\n",
    "pilots  = session.filter(etype='pilot', inplace=False)\n",
    "tasks   = session.filter(etype='task' , inplace=False)"
   ]
  },
  {
   "cell_type": "markdown",
   "id": "86383190",
   "metadata": {},
   "source": [
    "We usually want to collect some information about the sessions we are going to analyze. That information is used for bookeeping while performing the analysis (especially when having multiple sessions) and to add meaningful titles to (sub)plots."
   ]
  },
  {
   "cell_type": "code",
   "execution_count": null,
   "id": "20d9f49f",
   "metadata": {
    "ExecuteTime": {
     "end_time": "2021-07-26T22:37:00.903445Z",
     "start_time": "2021-07-26T22:37:00.898523Z"
    }
   },
   "outputs": [],
   "source": [
    "sinfo = {}\n",
    "\n",
    "sinfo.update({\n",
    "    'cores_node': session.get(etype='pilot')[0].cfg['resource_details']['rm_info']['cores_per_node'],\n",
    "    'pid'       : pilots.list('uid'),\n",
    "    'ntask'     : len(tasks.get())\n",
    "})\n",
    "\n",
    "sinfo.update({\n",
    "    'ncores'    : session.get(uid=sinfo['pid'])[0].description['cores'],\n",
    "    'ngpus'     : pilots.get(uid=sinfo['pid'])[0].description['gpus']\n",
    "})\n",
    "\n",
    "sinfo.update({\n",
    "    'nnodes'    : int(sinfo['ncores']/sinfo['cores_node'])\n",
    "})"
   ]
  },
  {
   "cell_type": "markdown",
   "id": "b532daaf",
   "metadata": {},
   "source": [
    "Use `ra.session.get()` on the filtered session objects that contains only task entities. Then use `ra.entity.timestamps()` to derive the time series for each event/state of interest. We put the time series into a pandas DataFrame to make plotting easier. "
   ]
  },
  {
   "cell_type": "code",
   "execution_count": null,
   "id": "a0848922",
   "metadata": {
    "ExecuteTime": {
     "end_time": "2021-07-26T22:37:00.926629Z",
     "start_time": "2021-07-26T22:37:00.905719Z"
    }
   },
   "outputs": [],
   "source": [
    "tseries = {'AGENT_SCHEDULING': [], \n",
    "           'schedule_ok': []}\n",
    "\n",
    "for task in tasks.get():\n",
    "    ts_state = task.timestamps(event=state)[0]\n",
    "    ts_event = task.timestamps(event=event)[0]\n",
    "    tseries['AGENT_SCHEDULING'].append(ts_state)\n",
    "    tseries['schedule_ok'].append(ts_event)\n",
    "\n",
    "time_series = pd.DataFrame.from_dict(tseries)\n",
    "time_series.head()"
   ]
  },
  {
   "cell_type": "markdown",
   "id": "1879eb99",
   "metadata": {},
   "source": [
    "Usually, time series are printed as lineplots but, in our case, we want to plot just the events as the 'line' connecting the events might be a misleading artefact. We then use a scatterplot in which the X axes are the number of tasks. This somehow 'stretches' the meaning of a scatterplot as we do not use it to represent a correlation.\n",
    "\n",
    "<div class=\"alert alert-info\">\n",
    "    \n",
    "__Note:__ We need to zero the Y axes as the timestamps are taken starting from the first timestamp of the session and the moment of executing the application. The event/state we choose are much later down the execution. Here we select the event/state that has to appen first, based on our knowledge of <a href='https://github.com/radical-cybertools/radical.pilot/wiki/Architecture'>RP architecture</a>. Alternatively, we could find the min among all the time stamps we have in the dataframe and use that as a minimum.\n",
    "\n",
    "</div>\n",
    "\n",
    "<div class=\"alert alert-info\">\n",
    "\n",
    "__Note:__ Once we have found the zero point in time (`zero`) we subtract it to the whole time series. Pandas' dataframe make that easy. We also add 1 to the index we use for the X axes so to start to count tasks from 1.\n",
    "\n",
    "</div>"
   ]
  },
  {
   "cell_type": "code",
   "execution_count": null,
   "id": "30b9d78e",
   "metadata": {
    "ExecuteTime": {
     "end_time": "2021-07-26T22:37:01.612806Z",
     "start_time": "2021-07-26T22:37:00.932285Z"
    }
   },
   "outputs": [],
   "source": [
    "fig, ax = plt.subplots(figsize=(ra.get_plotsize(212)))\n",
    "\n",
    "# Find the min timestamp of the first event/state timeseries and use it to zero\n",
    "# the Y axes.\n",
    "zero = time_series['AGENT_SCHEDULING'].min()\n",
    "\n",
    "ax.scatter(time_series['AGENT_SCHEDULING'].index + 1, \n",
    "           time_series['AGENT_SCHEDULING'] - zero, \n",
    "           marker = '.', \n",
    "           label = ra.to_latex('AGENT_SCHEDULING'))\n",
    "ax.scatter(time_series['schedule_ok'].index + 1, \n",
    "           time_series['schedule_ok'] - zero, \n",
    "           marker = '.', \n",
    "           label = ra.to_latex('schedule_ok'))\n",
    "\n",
    "ax.legend(ncol=1, loc='upper left', bbox_to_anchor=(0,1.25))\n",
    "ax.set_xlabel('Number of Tasks')\n",
    "ax.set_ylabel('Time (s)')"
   ]
  },
  {
   "cell_type": "markdown",
   "id": "691d3423",
   "metadata": {},
   "source": [
    "The plot above shows that all the tasks arrive at the scheduler together (dark blue, `AGENT_SCHEDULING` state). That is expected as tasks are transferred in bulk from RP Client's Task Manager to RP Agent's Staging In component.\n",
    "\n",
    "The plot also shows that the 40 tasks are executed in two \"generations\". The first 20 tasks can be immediately scheduled (light blue, `schedule_ok`) and the second 20 tasks can be scheduled one by one, as soon as one of the first 20 tasks terminates to execute.\n",
    "\n",
    "Adding execution events to our timestamps analysis should fill the gap between the two \"generations\" of 20 tasks. It should also confirm the measures obtains with duration distribution about the time it takes to the launch method used by RP Executor component to launch a task. \n",
    "\n",
    "We add the relevant events/states to the `time_series` dataframe:"
   ]
  },
  {
   "cell_type": "code",
   "execution_count": null,
   "id": "ae617e0b",
   "metadata": {
    "ExecuteTime": {
     "end_time": "2021-07-26T22:37:01.640504Z",
     "start_time": "2021-07-26T22:37:01.615194Z"
    }
   },
   "outputs": [],
   "source": [
    "executor = {\n",
    "    'AGENT_EXECUTING': {ru.EVENT: 'state', ru.STATE: rps.AGENT_EXECUTING},\n",
    "    'task_exec_start': {ru.EVENT: 'task_exec_start', ru.STATE: None},\n",
    "    'task_exec_stop' : {ru.EVENT: 'task_exec_stop' , ru.STATE: None}\n",
    "}\n",
    "\n",
    "for name, event in executor.items():\n",
    "    \n",
    "    tseries = []    \n",
    "    for task in tasks.get():\n",
    "        ts_state = task.timestamps(event=event)[0]\n",
    "        tseries.append(ts_state)\n",
    "    \n",
    "    time_series[name] = tseries\n",
    "    \n",
    "time_series.head()"
   ]
  },
  {
   "cell_type": "markdown",
   "id": "93863469",
   "metadata": {},
   "source": [
    "We now plot the timeseries alongside the previous ones:"
   ]
  },
  {
   "cell_type": "code",
   "execution_count": null,
   "id": "3976ade9",
   "metadata": {
    "ExecuteTime": {
     "end_time": "2021-07-26T22:37:01.978312Z",
     "start_time": "2021-07-26T22:37:01.642806Z"
    }
   },
   "outputs": [],
   "source": [
    "fig, ax = plt.subplots(figsize=(ra.get_plotsize(212)))\n",
    "\n",
    "zero = time_series['AGENT_SCHEDULING'].min()\n",
    "\n",
    "for ts in time_series.columns:    \n",
    "    ax.scatter(time_series[ts].index + 1, \n",
    "               time_series[ts] - zero, \n",
    "               marker = '.', \n",
    "               label = ra.to_latex(ts))\n",
    "\n",
    "ax.legend(ncol=2, loc='upper left', bbox_to_anchor=(-0.25,1.5))\n",
    "ax.set_xlabel('Number of Tasks')\n",
    "ax.set_ylabel('Time (s)')"
   ]
  },
  {
   "cell_type": "markdown",
   "id": "f9c96484",
   "metadata": {},
   "source": [
    "`schedule_ok` is not visible in the plot because it is overlapped by `AGENT_EXECUTING` that happens right after each task has been scheduled. That confirms that the communication between the RP Scheduler and Executor components does not add significant overhead to the execution.\n",
    "\n",
    "We see the time taken by the launch method (JSRUN on ORNL Summit in this case) to launch a task once it is handed out to the RP Executer component: the distance between dark orange dots, `TASK_EXECUTING` state and light orange dots, `task_exec_start` event. The overall task execution time (TTX) is consistent with what measured with the [duration analyses](duration.ipynb).\n",
    "\n",
    "The plot also shows the time taken to execute each task: distance on the Y axes between light orange dots and dark green dots. Also in this case, that is consistent with what measured with the [duration analyses](duration.ipynb).\n",
    "\n",
    "In presence of large amount of tasks, we can slice the time stamps to plot one or more of their subsets. "
   ]
  },
  {
   "cell_type": "code",
   "execution_count": null,
   "id": "7098a40f",
   "metadata": {
    "ExecuteTime": {
     "end_time": "2021-07-26T22:37:02.332658Z",
     "start_time": "2021-07-26T22:37:01.980085Z"
    }
   },
   "outputs": [],
   "source": [
    "fig, ax = plt.subplots(figsize=(ra.get_plotsize(212)))\n",
    "\n",
    "# Slice time series to plot only one of their subsets\n",
    "time_series = time_series.reset_index(drop=True)\n",
    "time_series = time_series.iloc[16:24]\n",
    "\n",
    "zero = time_series['AGENT_SCHEDULING'].min()\n",
    "\n",
    "for ts in time_series.columns:    \n",
    "    ax.scatter(time_series[ts].index + 1, \n",
    "               time_series[ts] - zero, \n",
    "               marker = '.', \n",
    "               label = ra.to_latex(ts))\n",
    "\n",
    "ax.legend(ncol=2, loc='upper left', bbox_to_anchor=(-0.25,1.5))\n",
    "ax.set_xlabel('Number of Tasks')\n",
    "ax.set_ylabel('Time (s)')"
   ]
  }
 ],
 "metadata": {
  "kernelspec": {
   "display_name": "Python 3 (ipykernel)",
   "language": "python",
   "name": "python3"
  },
  "language_info": {
   "codemirror_mode": {
    "name": "ipython",
    "version": 3
   },
   "file_extension": ".py",
   "mimetype": "text/x-python",
   "name": "python",
   "nbconvert_exporter": "python",
   "pygments_lexer": "ipython3",
   "version": "3.8.11"
  }
 },
 "nbformat": 4,
 "nbformat_minor": 5
}
