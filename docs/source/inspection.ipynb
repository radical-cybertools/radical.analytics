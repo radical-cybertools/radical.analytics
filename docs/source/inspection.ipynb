{
 "cells": [
  {
   "cell_type": "markdown",
   "id": "08c2087c",
   "metadata": {},
   "source": [
    "# Inspection\n",
    "\n",
    "\n",
    "RADICAL-Analytics enables deriving information about RCT sessions. For example, session ID, number of tasks, number of pilots, final state of the tasks and pilots, CPU/GPU processes for each task, etc. That information allows to derive task requirements and resource capabilities, alongside all the RCT configuration parameters used for a session.\n",
    "\n",
    "## Prologue\n",
    "\n",
    "Load all the Python modules needed to profile and plot a RADICAL-EnsembleToolkit (EnTK) session."
   ]
  },
  {
   "cell_type": "code",
   "execution_count": null,
   "id": "675a4dbf",
   "metadata": {
    "ExecuteTime": {
     "end_time": "2021-07-27T14:55:42.753952Z",
     "start_time": "2021-07-27T14:55:41.280174Z"
    }
   },
   "outputs": [],
   "source": [
    "import os\n",
    "import tarfile\n",
    "\n",
    "import pandas as pd\n",
    "import matplotlib as mpl\n",
    "import matplotlib.pyplot as plt\n",
    "import matplotlib.ticker as mticker\n",
    "\n",
    "import radical.utils as ru\n",
    "import radical.pilot as rp\n",
    "import radical.entk as re\n",
    "import radical.analytics as ra"
   ]
  },
  {
   "cell_type": "markdown",
   "id": "13ac328f",
   "metadata": {},
   "source": [
    "Load the RADICAL Matplotlib style to obtain viasually consistent and publishable-qality plots."
   ]
  },
  {
   "cell_type": "code",
   "execution_count": null,
   "id": "6be83c23",
   "metadata": {
    "ExecuteTime": {
     "end_time": "2021-07-27T14:55:42.762673Z",
     "start_time": "2021-07-27T14:55:42.756276Z"
    }
   },
   "outputs": [],
   "source": [
    "plt.style.use(ra.get_mplstyle('radical_mpl'))"
   ]
  },
  {
   "cell_type": "markdown",
   "id": "1a43888e",
   "metadata": {},
   "source": [
    "Usually, it is useful to record the stack used for the analysis. \n",
    "\n",
    "<div class=\"alert alert-info\">\n",
    "\n",
    "__Note:__ The stack used for the analysis might be different from the stack used to crete the session to analyze. Usually, the two stack have to have the same major release number in order to be compatible.\n",
    "\n",
    "</div>"
   ]
  },
  {
   "cell_type": "code",
   "execution_count": null,
   "id": "d9ac5ea0",
   "metadata": {
    "ExecuteTime": {
     "end_time": "2021-07-27T14:55:43.799049Z",
     "start_time": "2021-07-27T14:55:42.764627Z"
    }
   },
   "outputs": [],
   "source": [
    "! radical-stack"
   ]
  },
  {
   "cell_type": "markdown",
   "id": "29fd478c",
   "metadata": {},
   "source": [
    "## Single Session\n",
    "\n",
    "Name and location of the session we profile."
   ]
  },
  {
   "cell_type": "code",
   "execution_count": null,
   "id": "c0595940",
   "metadata": {
    "ExecuteTime": {
     "end_time": "2021-07-27T14:55:43.807852Z",
     "start_time": "2021-07-27T14:55:43.803439Z"
    }
   },
   "outputs": [],
   "source": [
    "sid = 're.session.login1.lei.018775.0005'\n",
    "sdir = 'sessions/'"
   ]
  },
  {
   "cell_type": "markdown",
   "id": "710c1b55",
   "metadata": {},
   "source": [
    "Unbzip and untar sessions."
   ]
  },
  {
   "cell_type": "code",
   "execution_count": null,
   "id": "84b9ab9c",
   "metadata": {
    "ExecuteTime": {
     "end_time": "2021-07-27T14:55:44.104215Z",
     "start_time": "2021-07-27T14:55:43.810194Z"
    }
   },
   "outputs": [],
   "source": [
    "sp = sdir+sid+'.tar.bz2'\n",
    "tar = tarfile.open(sp, mode='r:bz2')\n",
    "tar.extractall(path=sdir)\n",
    "tar.close()"
   ]
  },
  {
   "cell_type": "markdown",
   "id": "d6f7ea79",
   "metadata": {},
   "source": [
    "Create a ``ra.Session`` object for the session. We are not going to use EnTK-specific traces so we are going to load only the RP traces contained in the EnTK session. Thus, we pass the ``'radical.pilot'`` session type to ``ra.Session``.\n",
    "\n",
    "<div class=\"alert alert-warning\">\n",
    "    \n",
    "__Warning:__ We already know we will want to derive information about pilot(s) and tasks. Thus, we save in memory a session objects filtered for those two identities. This might be too expensive with large sessions, depending on the amount of memory available.\n",
    "\n",
    "</div>\n",
    "    \n",
    "<div class=\"alert alert-info\">\n",
    "    \n",
    "__Note:__ We save the ouput of ``ra.Session`` in ``capt`` to avoid polluting the notebook. \n",
    "\n",
    "</div>"
   ]
  },
  {
   "cell_type": "code",
   "execution_count": null,
   "id": "7a37248d",
   "metadata": {
    "ExecuteTime": {
     "end_time": "2021-07-27T14:55:46.953496Z",
     "start_time": "2021-07-27T14:55:44.106214Z"
    }
   },
   "outputs": [],
   "source": [
    "%%capture capt\n",
    "\n",
    "sp = sdir+sid\n",
    "\n",
    "session = ra.Session(sp, 'radical.pilot')\n",
    "pilots  = session.filter(etype='pilot', inplace=False)\n",
    "tasks   = session.filter(etype='task' , inplace=False)"
   ]
  },
  {
   "cell_type": "markdown",
   "id": "d1cb1c84",
   "metadata": {},
   "source": [
    "Information about __session__ that is commonly used when analyzing and plotting one or more RCT session."
   ]
  },
  {
   "cell_type": "code",
   "execution_count": null,
   "id": "06ff3a45",
   "metadata": {
    "ExecuteTime": {
     "end_time": "2021-07-27T14:55:46.974186Z",
     "start_time": "2021-07-27T14:55:46.955776Z"
    }
   },
   "outputs": [],
   "source": [
    "# Session info\n",
    "sinfo = {\n",
    "    'sid'       : session.uid,\n",
    "    'lm'        : session.get(etype='pilot')[0].cfg['agent_launch_method'],\n",
    "    'hostid'    : session.get(etype='pilot')[0].cfg['hostid'],\n",
    "    'cores_node': session.get(etype='pilot')[0].cfg['resource_details']['rm_info']['cores_per_node'],\n",
    "    'gpus_node' : session.get(etype='pilot')[0].cfg['resource_details']['rm_info']['gpus_per_node'],\n",
    "    'smt'       : session.get(etype='pilot')[0].cfg['resource_details']['rm_info']['smt']\n",
    "}\n",
    "\n",
    "# Pilot info (assumes 1 pilot)\n",
    "sinfo.update({\n",
    "    'pid'       : pilots.list('uid'),\n",
    "    'npilot'    : len(pilots.get()),\n",
    "    'npact'     : len(pilots.timestamps(state='PMGR_ACTIVE')),\n",
    "})\n",
    "\n",
    "# Task info\n",
    "sinfo.update({\n",
    "    'ntask'     : len(tasks.get()),\n",
    "    'ntdone'    : len(tasks.timestamps(state='DONE')),\n",
    "    'ntcanceled': len(tasks.timestamps(state='CANCELED')),\n",
    "    'ntfailed'  : len(tasks.timestamps(state='FAILED')),\n",
    "})\n",
    "\n",
    "# Derive info (assume a single pilot)\n",
    "sinfo.update({\n",
    "    'pres'      : pilots.get(uid=sinfo['pid'])[0].description['resource'],\n",
    "    'ncores'    : pilots.get(uid=sinfo['pid'])[0].description['cores'],\n",
    "    'ngpus'     : pilots.get(uid=sinfo['pid'])[0].description['gpus']\n",
    "})\n",
    "sinfo.update({\n",
    "    'nnodes'    : int(sinfo['ncores']/sinfo['cores_node'])\n",
    "})\n",
    "\n",
    "sinfo"
   ]
  },
  {
   "cell_type": "markdown",
   "id": "73170d73",
   "metadata": {},
   "source": [
    "Information about __tasks__ that is commonly used when analyzing and plotting one or more RCT session.\n",
    "\n",
    "<div class=\"alert alert-info\">\n",
    "    \n",
    "__Note:__ we use `ra.entity.description` to get each task description as a dictionary. We then select the keys of that dictionary with the task compute requirements. More keys are available, especially those about input/output stages files that might be useful.\n",
    "\n",
    "</div>"
   ]
  },
  {
   "cell_type": "code",
   "execution_count": null,
   "id": "b3aee404",
   "metadata": {
    "ExecuteTime": {
     "end_time": "2021-07-27T14:55:46.987646Z",
     "start_time": "2021-07-27T14:55:46.976693Z"
    }
   },
   "outputs": [],
   "source": [
    "tinfo = []\n",
    "for task in tasks.get():\n",
    "\n",
    "    treq = {\n",
    "        'executable'       : task.description['executable'],\n",
    "        'cpu_process_type' : task.description['cpu_process_type'],\n",
    "        'cpu_processes'    : task.description['cpu_processes'],\n",
    "        'cpu_thread_type'  : task.description['cpu_thread_type'],\n",
    "        'cpu_threads'      : task.description['cpu_threads'],\n",
    "        'gpu_process_type' : task.description['gpu_process_type'],\n",
    "        'gpu_processes'    : task.description['gpu_processes'],\n",
    "        'gpu_thread_type'  : task.description['gpu_thread_type'],\n",
    "        'gpu_threads'      : task.description['gpu_threads']\n",
    "    }\n",
    "    \n",
    "    if not tinfo:\n",
    "        treq['n_of_tasks'] = 1\n",
    "        tinfo.append(treq)\n",
    "        continue\n",
    "    \n",
    "    for i, ti in enumerate(tinfo):\n",
    "        counter = ti['n_of_tasks']\n",
    "        ti.pop('n_of_tasks')\n",
    "        \n",
    "        if ti == treq:\n",
    "            counter += 1\n",
    "            tinfo[i]['n_of_tasks'] = counter\n",
    "        else:\n",
    "            treq['n_of_tasks'] = 1\n",
    "            tinfo.append(treq)\n",
    "tinfo"
   ]
  },
  {
   "cell_type": "markdown",
   "id": "4161ebc9",
   "metadata": {
    "ExecuteTime": {
     "end_time": "2021-07-27T13:55:32.819462Z",
     "start_time": "2021-07-27T13:55:32.815261Z"
    }
   },
   "source": [
    "## Multiple Sessions\n",
    "\n",
    "Name and location of the sessions we profile."
   ]
  },
  {
   "cell_type": "code",
   "execution_count": null,
   "id": "9d75356d",
   "metadata": {
    "ExecuteTime": {
     "end_time": "2021-07-27T14:55:46.993962Z",
     "start_time": "2021-07-27T14:55:46.989927Z"
    }
   },
   "outputs": [],
   "source": [
    "sids = ['re.session.login1.lei.018775.0008',\n",
    "        're.session.login1.lei.018775.0007',\n",
    "        're.session.login1.lei.018775.0004',\n",
    "        're.session.login1.lei.018775.0005']\n",
    "sdir = 'sessions/'\n",
    "sessions = [sdir+s for s in sids]"
   ]
  },
  {
   "cell_type": "markdown",
   "id": "ba3b0c58",
   "metadata": {},
   "source": [
    "Unbzip and untar sessions."
   ]
  },
  {
   "cell_type": "code",
   "execution_count": null,
   "id": "f0c28e7a",
   "metadata": {
    "ExecuteTime": {
     "end_time": "2021-07-27T14:55:47.822584Z",
     "start_time": "2021-07-27T14:55:46.999454Z"
    }
   },
   "outputs": [],
   "source": [
    "for sid in sids:\n",
    "    sp = sdir+sid+'.tar.bz2'\n",
    "    tar = tarfile.open(sp, mode='r:bz2')\n",
    "    tar.extractall(path=sdir)\n",
    "    tar.close()"
   ]
  },
  {
   "cell_type": "markdown",
   "id": "cbd79d5b",
   "metadata": {},
   "source": [
    "Create the session, tasks and pilots objects for each session."
   ]
  },
  {
   "cell_type": "code",
   "execution_count": null,
   "id": "f006b5bc",
   "metadata": {
    "ExecuteTime": {
     "end_time": "2021-07-27T14:55:54.008099Z",
     "start_time": "2021-07-27T14:55:47.824276Z"
    }
   },
   "outputs": [],
   "source": [
    "%%capture capt\n",
    "\n",
    "ss = {}\n",
    "for sid in sids:\n",
    "    sp = sdir+sid\n",
    "    ss[sid] = {'s': ra.Session(sp, 'radical.pilot')}\n",
    "    ss[sid].update({'p': ss[sid]['s'].filter(etype='pilot', inplace=False),\n",
    "                    't': ss[sid]['s'].filter(etype='task' , inplace=False)})"
   ]
  },
  {
   "cell_type": "code",
   "execution_count": null,
   "id": "210eedd9",
   "metadata": {
    "ExecuteTime": {
     "end_time": "2021-07-27T14:55:54.024337Z",
     "start_time": "2021-07-27T14:55:54.010300Z"
    }
   },
   "outputs": [],
   "source": [
    "for sid in sids:\n",
    "    ss[sid].update({'sid'       : ss[sid]['s'].uid,\n",
    "                    'lm'        : ss[sid]['s'].get(etype='pilot')[0].cfg['agent_launch_method'],\n",
    "                    'hostid'    : ss[sid]['s'].get(etype='pilot')[0].cfg['hostid'],\n",
    "                    'cores_node': ss[sid]['s'].get(etype='pilot')[0].cfg['resource_details']['rm_info']['cores_per_node'],\n",
    "                    'gpus_node' : ss[sid]['s'].get(etype='pilot')[0].cfg['resource_details']['rm_info']['gpus_per_node'],\n",
    "                    'smt'       : ss[sid]['s'].get(etype='pilot')[0].cfg['resource_details']['rm_info']['smt']\n",
    "    })\n",
    "\n",
    "    ss[sid].update({\n",
    "                    'pid'       : ss[sid]['p'].list('uid'),\n",
    "                    'npilot'    : len(ss[sid]['p'].get()),\n",
    "                    'npact'     : len(ss[sid]['p'].timestamps(state='PMGR_ACTIVE'))\n",
    "    })\n",
    "\n",
    "    ss[sid].update({\n",
    "                    'ntask'     : len(ss[sid]['t'].get()),\n",
    "                    'ntdone'    : len(ss[sid]['t'].timestamps(state='DONE')),\n",
    "                    'ntfailed'  : len(ss[sid]['t'].timestamps(state='FAILED')),\n",
    "                    'ntcanceled': len(ss[sid]['t'].timestamps(state='CANCLED'))\n",
    "    })\n",
    "\n",
    "\n",
    "    ss[sid].update({'pres'      : ss[sid]['p'].get(uid=ss[sid]['pid'])[0].description['resource'],\n",
    "                    'ncores'    : ss[sid]['p'].get(uid=ss[sid]['pid'])[0].description['cores'],\n",
    "                    'ngpus'     : ss[sid]['p'].get(uid=ss[sid]['pid'])[0].description['gpus']\n",
    "    })\n",
    "\n",
    "    ss[sid].update({'nnodes'    : int(ss[sid]['ncores']/ss[sid]['cores_node'])})"
   ]
  },
  {
   "cell_type": "markdown",
   "id": "ed56d104",
   "metadata": {},
   "source": [
    "For presentation purpose, we can convert the session information into a DataFrame and rename some of the fields to improve readability."
   ]
  },
  {
   "cell_type": "code",
   "execution_count": null,
   "id": "4cfd4432",
   "metadata": {
    "ExecuteTime": {
     "end_time": "2021-07-27T14:55:54.049507Z",
     "start_time": "2021-07-27T14:55:54.026975Z"
    }
   },
   "outputs": [],
   "source": [
    "ssinfo = []\n",
    "for sid in sids:\n",
    "    ssinfo.append({'session'   : sid,\n",
    "                   'resource'  : ss[sid]['pres'],\n",
    "                   'cores_node': ss[sid]['cores_node'],\n",
    "                   'gpus_node' : ss[sid]['gpus_node'],\n",
    "                   'pilot_lm'  : ss[sid]['lm'], \n",
    "                   'pilots'    : ss[sid]['npilot'],\n",
    "                   'ps_active' : ss[sid]['npact'],\n",
    "                   'cores'     : int(ss[sid]['ncores']/ss[sid]['smt']), \n",
    "                   'gpus'      : ss[sid]['ngpus'], \n",
    "                   'nodes'     : ss[sid]['nnodes'], \n",
    "                   'tasks'     : ss[sid]['ntask'], \n",
    "                   't_done'    : ss[sid]['ntdone'],  \n",
    "                   't_failed'  : ss[sid]['ntfailed']})\n",
    "\n",
    "df_info = pd.DataFrame(ssinfo) \n",
    "df_info"
   ]
  },
  {
   "cell_type": "markdown",
   "id": "087e43ee",
   "metadata": {},
   "source": [
    "We can then derive task information for each session."
   ]
  },
  {
   "cell_type": "code",
   "execution_count": null,
   "id": "0dbf4573",
   "metadata": {
    "ExecuteTime": {
     "end_time": "2021-07-27T14:55:54.065056Z",
     "start_time": "2021-07-27T14:55:54.051838Z"
    }
   },
   "outputs": [],
   "source": [
    "tsinfo = {}\n",
    "for sid in sids:\n",
    "\n",
    "    tsinfo[sid] = []\n",
    "    for task in tasks.get():\n",
    "\n",
    "        treq = {\n",
    "            'executable'       : task.description['executable'],\n",
    "            'cpu_process_type' : task.description['cpu_process_type'],\n",
    "            'cpu_processes'    : task.description['cpu_processes'],\n",
    "            'cpu_thread_type'  : task.description['cpu_thread_type'],\n",
    "            'cpu_threads'      : task.description['cpu_threads'],\n",
    "            'gpu_process_type' : task.description['gpu_process_type'],\n",
    "            'gpu_processes'    : task.description['gpu_processes'],\n",
    "            'gpu_thread_type'  : task.description['gpu_thread_type'],\n",
    "            'gpu_threads'      : task.description['gpu_threads']\n",
    "        }\n",
    "\n",
    "        if not tsinfo[sid]:\n",
    "            treq['n_of_tasks'] = 1\n",
    "            tsinfo[sid].append(treq)\n",
    "            continue\n",
    "\n",
    "        for i, ti in enumerate(tsinfo[sid]):\n",
    "            counter = ti['n_of_tasks']\n",
    "            ti.pop('n_of_tasks')\n",
    "\n",
    "            if ti == treq:\n",
    "                counter += 1\n",
    "                tsinfo[sid][i]['n_of_tasks'] = counter\n",
    "            else:\n",
    "                treq['n_of_tasks'] = 1\n",
    "                tsinfo[sid].append(treq)\n",
    "tsinfo"
   ]
  }
 ],
 "metadata": {
  "kernelspec": {
   "display_name": "Python 3 (ipykernel)",
   "language": "python",
   "name": "python3"
  },
  "language_info": {
   "codemirror_mode": {
    "name": "ipython",
    "version": 3
   },
   "file_extension": ".py",
   "mimetype": "text/x-python",
   "name": "python",
   "nbconvert_exporter": "python",
   "pygments_lexer": "ipython3",
   "version": "3.8.11"
  }
 },
 "nbformat": 4,
 "nbformat_minor": 5
}
