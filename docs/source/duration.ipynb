{
 "cells": [
  {
   "cell_type": "markdown",
   "id": "8d155872",
   "metadata": {},
   "source": [
    "# Duration\n",
    "\n",
    "\n",
    "In RADICAL-Analytics (RA), ``duration`` is a general term to indicate a measure of the time spent by an entity (local analyses) or a set of entities (global analyses) between two timestamps. For example, data staging, scheduling, pre-executing, and executing time of one or more tasks; description, submission and execution time of one or more pipelines or stages; and runtime of one or more pilots.\n",
    "\n",
    "We show two sets of default durations for RADICAL-Pilot (RP) and how to define arbitrary durations, depending on the specifics of a given analysis. We then see how to plot the most common durations \n",
    "\n",
    "## Prologue\n",
    "\n",
    "Load the Python modules needed to profile and plot a RADICAL-Cybertool (RCT) session."
   ]
  },
  {
   "cell_type": "code",
   "execution_count": 1,
   "id": "2a4e3b2f",
   "metadata": {
    "ExecuteTime": {
     "end_time": "2021-07-28T08:11:43.324245Z",
     "start_time": "2021-07-28T08:11:42.176319Z"
    }
   },
   "outputs": [
    {
     "name": "stdout",
     "output_type": "stream",
     "text": [
      "1664906440.726 : radical.analytics    : 13901 : 139853535426368 : INFO     : radical.analytics    version: 1.16.0-v1.16.0-22-gea246bc@feature-raptor_support\n"
     ]
    }
   ],
   "source": [
    "import tarfile\n",
    "\n",
    "import numpy as np\n",
    "import pandas as pd\n",
    "import matplotlib as mpl\n",
    "import matplotlib.pyplot as plt\n",
    "import matplotlib.ticker as mticker\n",
    "\n",
    "import radical.utils as ru\n",
    "import radical.pilot as rp\n",
    "import radical.analytics as ra\n",
    "\n",
    "from radical.pilot import states as rps"
   ]
  },
  {
   "cell_type": "markdown",
   "id": "ff5e8e10",
   "metadata": {},
   "source": [
    "Load the RADICAL Matplotlib style to obtain viasually consistent and publishable-qality plots."
   ]
  },
  {
   "cell_type": "code",
   "execution_count": 2,
   "id": "6317bea7",
   "metadata": {
    "ExecuteTime": {
     "end_time": "2021-07-28T08:11:43.333296Z",
     "start_time": "2021-07-28T08:11:43.326899Z"
    }
   },
   "outputs": [],
   "source": [
    "plt.style.use(ra.get_mplstyle('radical_mpl'))"
   ]
  },
  {
   "cell_type": "markdown",
   "id": "9015dbc7",
   "metadata": {},
   "source": [
    "Usually, it is useful to record the stack used for the analysis. \n",
    "\n",
    "<div class=\"alert alert-info\">\n",
    "    \n",
    "__Note:__ The analysis stack might be different from the stack used to create the session to analyze. Usually, the two stacks must have the same minor release number (Major.Minor.Patch) in order to be compatible.\n",
    "\n",
    "</div>"
   ]
  },
  {
   "cell_type": "code",
   "execution_count": 3,
   "id": "12df0932",
   "metadata": {
    "ExecuteTime": {
     "end_time": "2021-07-28T08:11:44.449932Z",
     "start_time": "2021-07-28T08:11:43.334587Z"
    }
   },
   "outputs": [
    {
     "name": "stdout",
     "output_type": "stream",
     "text": [
      "\u001b[32m1664906441.217 : radical.analytics    : 13931 : 139992961500992 : INFO     : radical.analytics    version: 1.16.0-v1.16.0-22-gea246bc@feature-raptor_support\u001b[0m\n",
      "\n",
      "  python               : /mnt/home/merzky/radical/radical.analytics.devel/ve3/bin/python3\n",
      "  pythonpath           : \n",
      "  version              : 3.8.0\n",
      "  virtualenv           : /mnt/home/merzky/radical/radical.analytics.devel/ve3\n",
      "\n",
      "  radical.analytics    : 1.16.0-v1.16.0-22-gea246bc@feature-raptor_support\n",
      "  radical.entk         : 1.16.0-v1.16.0@master\n",
      "  radical.gtod         : 1.13.0\n",
      "  radical.pilot        : 1.17.0-v1.17.0-144-g4d6b3b6ff@fix-raptor_profiles\n",
      "  radical.saga         : 1.17.0-v1.17.0-2-g5b9803bb@devel\n",
      "  radical.utils        : 1.17.0-v1.17.0-4-ge3c8acb@fix-docs\n",
      "\n"
     ]
    }
   ],
   "source": [
    "! radical-stack"
   ]
  },
  {
   "cell_type": "markdown",
   "id": "96e77d5f",
   "metadata": {},
   "source": [
    "## Default Durations\n",
    "\n",
    "Currently, we offer a set of default durations for pilot and task entities of RP."
   ]
  },
  {
   "cell_type": "code",
   "execution_count": 4,
   "id": "7da51bd0",
   "metadata": {
    "ExecuteTime": {
     "end_time": "2021-07-28T08:11:44.476755Z",
     "start_time": "2021-07-28T08:11:44.455189Z"
    }
   },
   "outputs": [
    {
     "data": {
      "text/html": [
       "<div>\n",
       "<style scoped>\n",
       "    .dataframe tbody tr th:only-of-type {\n",
       "        vertical-align: middle;\n",
       "    }\n",
       "\n",
       "    .dataframe tbody tr th {\n",
       "        vertical-align: top;\n",
       "    }\n",
       "\n",
       "    .dataframe thead th {\n",
       "        text-align: right;\n",
       "    }\n",
       "</style>\n",
       "<table border=\"1\" class=\"dataframe\">\n",
       "  <thead>\n",
       "    <tr style=\"text-align: right;\">\n",
       "      <th></th>\n",
       "      <th>Duration Name</th>\n",
       "      <th>Start Timestamp</th>\n",
       "      <th>Stop Timestamp</th>\n",
       "    </tr>\n",
       "  </thead>\n",
       "  <tbody>\n",
       "    <tr>\n",
       "      <th>0</th>\n",
       "      <td>p_pmgr_create</td>\n",
       "      <td>NEW</td>\n",
       "      <td>PMGR_LAUNCHING_PENDING</td>\n",
       "    </tr>\n",
       "    <tr>\n",
       "      <th>1</th>\n",
       "      <td>p_pmgr_launching_init</td>\n",
       "      <td>PMGR_LAUNCHING_PENDING</td>\n",
       "      <td>PMGR_LAUNCHING</td>\n",
       "    </tr>\n",
       "    <tr>\n",
       "      <th>2</th>\n",
       "      <td>p_pmgr_launching</td>\n",
       "      <td>PMGR_LAUNCHING</td>\n",
       "      <td>staging_in_start</td>\n",
       "    </tr>\n",
       "    <tr>\n",
       "      <th>3</th>\n",
       "      <td>p_pmgr_stage_in</td>\n",
       "      <td>staging_in_start</td>\n",
       "      <td>staging_in_stop</td>\n",
       "    </tr>\n",
       "    <tr>\n",
       "      <th>4</th>\n",
       "      <td>p_pmgr_submission_init</td>\n",
       "      <td>staging_in_stop</td>\n",
       "      <td>submission_start</td>\n",
       "    </tr>\n",
       "    <tr>\n",
       "      <th>5</th>\n",
       "      <td>p_pmgr_submission</td>\n",
       "      <td>submission_start</td>\n",
       "      <td>submission_stop</td>\n",
       "    </tr>\n",
       "    <tr>\n",
       "      <th>6</th>\n",
       "      <td>p_pmgr_scheduling_init</td>\n",
       "      <td>submission_stop</td>\n",
       "      <td>PMGR_ACTIVE_PENDING</td>\n",
       "    </tr>\n",
       "    <tr>\n",
       "      <th>7</th>\n",
       "      <td>p_pmgr_scheduling</td>\n",
       "      <td>PMGR_ACTIVE_PENDING</td>\n",
       "      <td>bootstrap_0_start</td>\n",
       "    </tr>\n",
       "    <tr>\n",
       "      <th>8</th>\n",
       "      <td>p_agent_ve_setup_init</td>\n",
       "      <td>bootstrap_0_start</td>\n",
       "      <td>ve_setup_start</td>\n",
       "    </tr>\n",
       "    <tr>\n",
       "      <th>9</th>\n",
       "      <td>p_agent_ve_setup</td>\n",
       "      <td>ve_setup_start</td>\n",
       "      <td>ve_setup_stop</td>\n",
       "    </tr>\n",
       "    <tr>\n",
       "      <th>10</th>\n",
       "      <td>p_agent_ve_activate_init</td>\n",
       "      <td>ve_setup_stop</td>\n",
       "      <td>ve_activate_start</td>\n",
       "    </tr>\n",
       "    <tr>\n",
       "      <th>11</th>\n",
       "      <td>p_agent_ve_activate</td>\n",
       "      <td>ve_activate_start</td>\n",
       "      <td>ve_activate_stop</td>\n",
       "    </tr>\n",
       "    <tr>\n",
       "      <th>12</th>\n",
       "      <td>p_agent_install_init</td>\n",
       "      <td>ve_activate_stop</td>\n",
       "      <td>rp_install_start</td>\n",
       "    </tr>\n",
       "    <tr>\n",
       "      <th>13</th>\n",
       "      <td>p_agent_install</td>\n",
       "      <td>rp_install_start</td>\n",
       "      <td>rp_install_stop</td>\n",
       "    </tr>\n",
       "    <tr>\n",
       "      <th>14</th>\n",
       "      <td>p_agent_launching</td>\n",
       "      <td>rp_install_stop</td>\n",
       "      <td>PMGR_ACTIVE</td>\n",
       "    </tr>\n",
       "    <tr>\n",
       "      <th>15</th>\n",
       "      <td>p_agent_terminate_init</td>\n",
       "      <td>PMGR_ACTIVE</td>\n",
       "      <td>cmd</td>\n",
       "    </tr>\n",
       "    <tr>\n",
       "      <th>16</th>\n",
       "      <td>p_agent_terminate</td>\n",
       "      <td>cmd</td>\n",
       "      <td>bootstrap_0_stop</td>\n",
       "    </tr>\n",
       "    <tr>\n",
       "      <th>17</th>\n",
       "      <td>p_agent_finalize</td>\n",
       "      <td>bootstrap_0_stop</td>\n",
       "      <td>DONE, CANCELED, FAILED</td>\n",
       "    </tr>\n",
       "    <tr>\n",
       "      <th>18</th>\n",
       "      <td>p_agent_runtime</td>\n",
       "      <td>bootstrap_0_start</td>\n",
       "      <td>bootstrap_0_stop</td>\n",
       "    </tr>\n",
       "  </tbody>\n",
       "</table>\n",
       "</div>"
      ],
      "text/plain": [
       "               Duration Name         Start Timestamp          Stop Timestamp\n",
       "0              p_pmgr_create                     NEW  PMGR_LAUNCHING_PENDING\n",
       "1      p_pmgr_launching_init  PMGR_LAUNCHING_PENDING          PMGR_LAUNCHING\n",
       "2           p_pmgr_launching          PMGR_LAUNCHING        staging_in_start\n",
       "3            p_pmgr_stage_in        staging_in_start         staging_in_stop\n",
       "4     p_pmgr_submission_init         staging_in_stop        submission_start\n",
       "5          p_pmgr_submission        submission_start         submission_stop\n",
       "6     p_pmgr_scheduling_init         submission_stop     PMGR_ACTIVE_PENDING\n",
       "7          p_pmgr_scheduling     PMGR_ACTIVE_PENDING       bootstrap_0_start\n",
       "8      p_agent_ve_setup_init       bootstrap_0_start          ve_setup_start\n",
       "9           p_agent_ve_setup          ve_setup_start           ve_setup_stop\n",
       "10  p_agent_ve_activate_init           ve_setup_stop       ve_activate_start\n",
       "11       p_agent_ve_activate       ve_activate_start        ve_activate_stop\n",
       "12      p_agent_install_init        ve_activate_stop        rp_install_start\n",
       "13           p_agent_install        rp_install_start         rp_install_stop\n",
       "14         p_agent_launching         rp_install_stop             PMGR_ACTIVE\n",
       "15    p_agent_terminate_init             PMGR_ACTIVE                     cmd\n",
       "16         p_agent_terminate                     cmd        bootstrap_0_stop\n",
       "17          p_agent_finalize        bootstrap_0_stop  DONE, CANCELED, FAILED\n",
       "18           p_agent_runtime       bootstrap_0_start        bootstrap_0_stop"
      ]
     },
     "execution_count": 4,
     "metadata": {},
     "output_type": "execute_result"
    }
   ],
   "source": [
    "pd.DataFrame(ra.utils.tabulate_durations(rp.utils.PILOT_DURATIONS_DEBUG))"
   ]
  },
  {
   "cell_type": "code",
   "execution_count": 5,
   "id": "19bd49d3",
   "metadata": {
    "ExecuteTime": {
     "end_time": "2021-07-28T08:11:44.490884Z",
     "start_time": "2021-07-28T08:11:44.479315Z"
    }
   },
   "outputs": [
    {
     "data": {
      "text/html": [
       "<div>\n",
       "<style scoped>\n",
       "    .dataframe tbody tr th:only-of-type {\n",
       "        vertical-align: middle;\n",
       "    }\n",
       "\n",
       "    .dataframe tbody tr th {\n",
       "        vertical-align: top;\n",
       "    }\n",
       "\n",
       "    .dataframe thead th {\n",
       "        text-align: right;\n",
       "    }\n",
       "</style>\n",
       "<table border=\"1\" class=\"dataframe\">\n",
       "  <thead>\n",
       "    <tr style=\"text-align: right;\">\n",
       "      <th></th>\n",
       "      <th>Duration Name</th>\n",
       "      <th>Start Timestamp</th>\n",
       "      <th>Stop Timestamp</th>\n",
       "    </tr>\n",
       "  </thead>\n",
       "  <tbody>\n",
       "    <tr>\n",
       "      <th>0</th>\n",
       "      <td>t_tmgr_create</td>\n",
       "      <td>NEW</td>\n",
       "      <td>TMGR_SCHEDULING_PENDING</td>\n",
       "    </tr>\n",
       "    <tr>\n",
       "      <th>1</th>\n",
       "      <td>t_tmgr_schedule_queue</td>\n",
       "      <td>TMGR_SCHEDULING_PENDING</td>\n",
       "      <td>TMGR_SCHEDULING</td>\n",
       "    </tr>\n",
       "    <tr>\n",
       "      <th>2</th>\n",
       "      <td>t_tmgr_schedule</td>\n",
       "      <td>TMGR_SCHEDULING</td>\n",
       "      <td>TMGR_STAGING_INPUT_PENDING</td>\n",
       "    </tr>\n",
       "    <tr>\n",
       "      <th>3</th>\n",
       "      <td>t_tmgr_stage_in_queue</td>\n",
       "      <td>TMGR_STAGING_INPUT_PENDING</td>\n",
       "      <td>TMGR_STAGING_INPUT</td>\n",
       "    </tr>\n",
       "    <tr>\n",
       "      <th>4</th>\n",
       "      <td>t_tmgr_stage_in</td>\n",
       "      <td>TMGR_STAGING_INPUT</td>\n",
       "      <td>AGENT_STAGING_INPUT_PENDING</td>\n",
       "    </tr>\n",
       "    <tr>\n",
       "      <th>5</th>\n",
       "      <td>t_agent_stage_in_queue</td>\n",
       "      <td>AGENT_STAGING_INPUT_PENDING</td>\n",
       "      <td>AGENT_STAGING_INPUT</td>\n",
       "    </tr>\n",
       "    <tr>\n",
       "      <th>6</th>\n",
       "      <td>t_agent_stage_in</td>\n",
       "      <td>AGENT_STAGING_INPUT</td>\n",
       "      <td>AGENT_SCHEDULING_PENDING</td>\n",
       "    </tr>\n",
       "    <tr>\n",
       "      <th>7</th>\n",
       "      <td>t_agent_schedule_queue</td>\n",
       "      <td>AGENT_SCHEDULING_PENDING</td>\n",
       "      <td>AGENT_SCHEDULING</td>\n",
       "    </tr>\n",
       "    <tr>\n",
       "      <th>8</th>\n",
       "      <td>t_agent_schedule</td>\n",
       "      <td>AGENT_SCHEDULING</td>\n",
       "      <td>AGENT_EXECUTING_PENDING</td>\n",
       "    </tr>\n",
       "    <tr>\n",
       "      <th>9</th>\n",
       "      <td>t_agent_execute_queue</td>\n",
       "      <td>AGENT_EXECUTING_PENDING</td>\n",
       "      <td>AGENT_EXECUTING</td>\n",
       "    </tr>\n",
       "    <tr>\n",
       "      <th>10</th>\n",
       "      <td>t_agent_execute_prepare</td>\n",
       "      <td>AGENT_EXECUTING</td>\n",
       "      <td>task_mkdir</td>\n",
       "    </tr>\n",
       "    <tr>\n",
       "      <th>11</th>\n",
       "      <td>t_agent_execute_mkdir</td>\n",
       "      <td>task_mkdir</td>\n",
       "      <td>task_mkdir_done</td>\n",
       "    </tr>\n",
       "    <tr>\n",
       "      <th>12</th>\n",
       "      <td>t_agent_execute_layer_start</td>\n",
       "      <td>task_mkdir_done</td>\n",
       "      <td>task_run_start</td>\n",
       "    </tr>\n",
       "    <tr>\n",
       "      <th>13</th>\n",
       "      <td>t_agent_execute_layer</td>\n",
       "      <td>task_run_start</td>\n",
       "      <td>task_run_ok</td>\n",
       "    </tr>\n",
       "    <tr>\n",
       "      <th>14</th>\n",
       "      <td>t_agent_lm_start</td>\n",
       "      <td>task_run_start</td>\n",
       "      <td>launch_start</td>\n",
       "    </tr>\n",
       "    <tr>\n",
       "      <th>15</th>\n",
       "      <td>t_agent_lm_submit</td>\n",
       "      <td>launch_start</td>\n",
       "      <td>exec_start</td>\n",
       "    </tr>\n",
       "    <tr>\n",
       "      <th>16</th>\n",
       "      <td>t_agent_lm_execute</td>\n",
       "      <td>exec_start</td>\n",
       "      <td>exec_stop</td>\n",
       "    </tr>\n",
       "    <tr>\n",
       "      <th>17</th>\n",
       "      <td>t_agent_lm_stop</td>\n",
       "      <td>exec_stop</td>\n",
       "      <td>task_run_stop</td>\n",
       "    </tr>\n",
       "    <tr>\n",
       "      <th>18</th>\n",
       "      <td>t_agent_stage_out_start</td>\n",
       "      <td>task_run_stop</td>\n",
       "      <td>AGENT_STAGING_OUTPUT_PENDING</td>\n",
       "    </tr>\n",
       "    <tr>\n",
       "      <th>19</th>\n",
       "      <td>t_agent_stage_out_queue</td>\n",
       "      <td>AGENT_STAGING_OUTPUT_PENDING</td>\n",
       "      <td>AGENT_STAGING_OUTPUT</td>\n",
       "    </tr>\n",
       "    <tr>\n",
       "      <th>20</th>\n",
       "      <td>t_agent_stage_out</td>\n",
       "      <td>AGENT_STAGING_OUTPUT</td>\n",
       "      <td>TMGR_STAGING_OUTPUT_PENDING</td>\n",
       "    </tr>\n",
       "    <tr>\n",
       "      <th>21</th>\n",
       "      <td>t_agent_push_to_tmgr</td>\n",
       "      <td>TMGR_STAGING_OUTPUT_PENDING</td>\n",
       "      <td>TMGR_STAGING_OUTPUT</td>\n",
       "    </tr>\n",
       "    <tr>\n",
       "      <th>22</th>\n",
       "      <td>t_tmgr_destroy</td>\n",
       "      <td>TMGR_STAGING_OUTPUT</td>\n",
       "      <td>DONE, CANCELED, FAILED</td>\n",
       "    </tr>\n",
       "    <tr>\n",
       "      <th>23</th>\n",
       "      <td>t_agent_unschedule</td>\n",
       "      <td>unschedule_start</td>\n",
       "      <td>unschedule_stop</td>\n",
       "    </tr>\n",
       "  </tbody>\n",
       "</table>\n",
       "</div>"
      ],
      "text/plain": [
       "                  Duration Name               Start Timestamp  \\\n",
       "0                 t_tmgr_create                           NEW   \n",
       "1         t_tmgr_schedule_queue       TMGR_SCHEDULING_PENDING   \n",
       "2               t_tmgr_schedule               TMGR_SCHEDULING   \n",
       "3         t_tmgr_stage_in_queue    TMGR_STAGING_INPUT_PENDING   \n",
       "4               t_tmgr_stage_in            TMGR_STAGING_INPUT   \n",
       "5        t_agent_stage_in_queue   AGENT_STAGING_INPUT_PENDING   \n",
       "6              t_agent_stage_in           AGENT_STAGING_INPUT   \n",
       "7        t_agent_schedule_queue      AGENT_SCHEDULING_PENDING   \n",
       "8              t_agent_schedule              AGENT_SCHEDULING   \n",
       "9         t_agent_execute_queue       AGENT_EXECUTING_PENDING   \n",
       "10      t_agent_execute_prepare               AGENT_EXECUTING   \n",
       "11        t_agent_execute_mkdir                    task_mkdir   \n",
       "12  t_agent_execute_layer_start               task_mkdir_done   \n",
       "13        t_agent_execute_layer                task_run_start   \n",
       "14             t_agent_lm_start                task_run_start   \n",
       "15            t_agent_lm_submit                  launch_start   \n",
       "16           t_agent_lm_execute                    exec_start   \n",
       "17              t_agent_lm_stop                     exec_stop   \n",
       "18      t_agent_stage_out_start                 task_run_stop   \n",
       "19      t_agent_stage_out_queue  AGENT_STAGING_OUTPUT_PENDING   \n",
       "20            t_agent_stage_out          AGENT_STAGING_OUTPUT   \n",
       "21         t_agent_push_to_tmgr   TMGR_STAGING_OUTPUT_PENDING   \n",
       "22               t_tmgr_destroy           TMGR_STAGING_OUTPUT   \n",
       "23           t_agent_unschedule              unschedule_start   \n",
       "\n",
       "                  Stop Timestamp  \n",
       "0        TMGR_SCHEDULING_PENDING  \n",
       "1                TMGR_SCHEDULING  \n",
       "2     TMGR_STAGING_INPUT_PENDING  \n",
       "3             TMGR_STAGING_INPUT  \n",
       "4    AGENT_STAGING_INPUT_PENDING  \n",
       "5            AGENT_STAGING_INPUT  \n",
       "6       AGENT_SCHEDULING_PENDING  \n",
       "7               AGENT_SCHEDULING  \n",
       "8        AGENT_EXECUTING_PENDING  \n",
       "9                AGENT_EXECUTING  \n",
       "10                    task_mkdir  \n",
       "11               task_mkdir_done  \n",
       "12                task_run_start  \n",
       "13                   task_run_ok  \n",
       "14                  launch_start  \n",
       "15                    exec_start  \n",
       "16                     exec_stop  \n",
       "17                 task_run_stop  \n",
       "18  AGENT_STAGING_OUTPUT_PENDING  \n",
       "19          AGENT_STAGING_OUTPUT  \n",
       "20   TMGR_STAGING_OUTPUT_PENDING  \n",
       "21           TMGR_STAGING_OUTPUT  \n",
       "22        DONE, CANCELED, FAILED  \n",
       "23               unschedule_stop  "
      ]
     },
     "execution_count": 5,
     "metadata": {},
     "output_type": "execute_result"
    }
   ],
   "source": [
    "pd.DataFrame(ra.utils.tabulate_durations(rp.utils.TASK_DURATIONS_DEBUG))"
   ]
  },
  {
   "cell_type": "markdown",
   "id": "bd3c42c4",
   "metadata": {},
   "source": [
    "Most of those default durations are meant for __debugging__. They are as granular as possible and (almost completely) contiguous. Only few of them are commonly used in experiment analyses. For example:\n",
    "\n",
    "- __p_agent_runtime__: the amount of time for which one or more pilots (i.e., RP Agent) were active.\n",
    "- __p_pmngr_scheduling__: the amount of time one or more pilots waited in the queue of the HPC batch system.\n",
    "- __t_agent_stage_in__: the amount of time taken to stage the input data of one or more tasks.\n",
    "- __t_agent_schedule__: the amount of time taken to schedule of one or more tasks.\n",
    "- __t_agent_t_pre_execute__: the amount of time taken to execute the ``pre_exec`` of one or more tasks.\n",
    "- __t_agent_t_execute__: the amount of time taken to execute the executable of one or more tasks.\n",
    "- __t_agent_t_stage_out__: the amount of time taken to stage the output data of one or more tasks.\n",
    "\n",
    "## Arbitrary Durations\n",
    "\n",
    "RA enables the __arbitrary__ definition of durations, depending on the analysis requirements. For example, given an experiment to characterize the performance of one of RP's executors, it might be useful to measure the amount of time spent by each task in RP's Executor component. \n",
    "\n",
    "<div class=\"alert alert-warning\">\n",
    "    \n",
    "__Warning:__ Correctly defining a duration requires a __detailed__ understanding of both [RP architecture](https://github.com/radical-cybertools/radical.pilot/wiki/Architecture) and [event model](https://github.com/radical-cybertools/radical.pilot/blob/devel/docs/source/events.md). \n",
    "\n",
    "</div>\n",
    "\n",
    "Once we acquired an understanding of RP architecture and event model, we can define our duration as the sum of the time spent by tasks in RP's Executor component, before and after the execution of the tasks' executable."
   ]
  },
  {
   "cell_type": "code",
   "execution_count": 6,
   "id": "90f0be8f",
   "metadata": {
    "ExecuteTime": {
     "end_time": "2021-07-28T08:11:44.497439Z",
     "start_time": "2021-07-28T08:11:44.493433Z"
    }
   },
   "outputs": [],
   "source": [
    "t_executor_before = [{ru.STATE: rps.AGENT_EXECUTING},\n",
    "                     {ru.EVENT: 'task_exec_start'  } ]\n",
    "\n",
    "t_executor_after  = [{ru.EVENT: 'task_exec_stop'}, \n",
    "                     {ru.EVENT: 'task_stop'     } ]"
   ]
  },
  {
   "cell_type": "markdown",
   "id": "0154152c",
   "metadata": {},
   "source": [
    "## Duration Analysis\n",
    "\n",
    "Every analysis with RA requires to load the traces produced by RP or RADICAL-EnsembleToolkit (EnTK) into a session object. Both RP and EnTK write traces (i.e., timestamped and annotated sequences of events) to a  directory called ``client sandbox``. This directory is created inside the directory from which the application executed. The name of the client sandbox is a session ID, e.g., ``rp.session.hostname.username.000000.0000`` for RP and ``en.session.hostname.username.000000.0000`` for EnTK.\n",
    "\n",
    "### Session\n",
    "\n",
    "Name and location of the session we profile."
   ]
  },
  {
   "cell_type": "code",
   "execution_count": 7,
   "id": "446da70d",
   "metadata": {
    "ExecuteTime": {
     "end_time": "2021-07-28T08:11:44.502730Z",
     "start_time": "2021-07-28T08:11:44.499488Z"
    }
   },
   "outputs": [],
   "source": [
    "sid  = 'rp.session.rivendell.merzky.019269.0000'\n",
    "sdir = 'sessions/'"
   ]
  },
  {
   "cell_type": "markdown",
   "id": "7c54d832",
   "metadata": {},
   "source": [
    "Unbzip and untar the session."
   ]
  },
  {
   "cell_type": "code",
   "execution_count": 8,
   "id": "529d0626",
   "metadata": {
    "ExecuteTime": {
     "end_time": "2021-07-28T08:11:44.852502Z",
     "start_time": "2021-07-28T08:11:44.505253Z"
    }
   },
   "outputs": [],
   "source": [
    "sp  = sdir + sid + '.tar.bz2'\n",
    "tar = tarfile.open(sp, mode='r:bz2')\n",
    "tar.extractall(path=sdir)\n",
    "tar.close()"
   ]
  },
  {
   "cell_type": "markdown",
   "id": "41bf1d94",
   "metadata": {
    "ExecuteTime": {
     "end_time": "2021-07-19T18:21:14.338428Z",
     "start_time": "2021-07-19T18:21:14.332417Z"
    }
   },
   "source": [
    "Create a ``ra.Session`` object for the session. We do not need EnTK-specific traces so load only the RP traces contained in the EnTK session. Thus, we pass the ``'radical.pilot'`` session type to ``ra.Session``.\n",
    "\n",
    "<div class=\"alert alert-warning\">\n",
    "    \n",
    "__Warning:__ We already know we need information about pilots and tasks. Thus, we save in memory two session objects filtered for pilots and tasks. This might be too expensive with large sessions, depending on the amount of memory available.\n",
    "\n",
    "</div>\n",
    "    \n",
    "<div class=\"alert alert-info\">\n",
    "    \n",
    "__Note:__ We save the ouput of ``ra.Session`` in ``capt`` to avoid polluting the notebook with warning messages. \n",
    "\n",
    "</div>"
   ]
  },
  {
   "cell_type": "code",
   "execution_count": 9,
   "id": "87e37f4a",
   "metadata": {
    "ExecuteTime": {
     "end_time": "2021-07-28T08:11:47.717116Z",
     "start_time": "2021-07-28T08:11:44.855269Z"
    }
   },
   "outputs": [],
   "source": [
    "%%capture capt\n",
    "\n",
    "sp = sdir + sid\n",
    "\n",
    "session = ra.Session(sp, 'radical.pilot')\n",
    "pilots  = session.filter(etype='pilot', inplace=False)\n",
    "tasks   = session.filter(etype='task' , inplace=False)"
   ]
  },
  {
   "cell_type": "markdown",
   "id": "b1c2d50c",
   "metadata": {},
   "source": [
    "As seen above, each duration measures the time spent by an entity (local analyses) or a set of entities (global analyses) between two timestamps.\n",
    "\n",
    "We starts with a global analysis to measure for how long all the pilots of a session have been active. Looking at RP's [event model](https://github.com/radical-cybertools/radical.pilot/blob/devel/docs/source/events.md#bootstrap_0sh) of the ``pilot`` entity and to ``rp.utils.PILOT_DURATIONS_DEBUG``, we know that a pilot is active between the events ``bootstrap_0_start`` and ``bootstrap_0_stop``. We also know that we have a default duration with those events: ``p_agent_runtime``.\n",
    "\n",
    "To measure that duration, first, we filter the session object so to keep only the entities of type Pilot; and, second, we get the __cumulative__ amount of time for which all the pilot were active. It is that cumulative measure that defines this analysis as global."
   ]
  },
  {
   "cell_type": "code",
   "execution_count": 10,
   "id": "44da6554",
   "metadata": {
    "ExecuteTime": {
     "end_time": "2021-07-28T08:11:47.728958Z",
     "start_time": "2021-07-28T08:11:47.721648Z"
    }
   },
   "outputs": [
    {
     "data": {
      "text/plain": [
       "0"
      ]
     },
     "execution_count": 10,
     "metadata": {},
     "output_type": "execute_result"
    }
   ],
   "source": [
    "p_runtime = pilots.duration(event=rp.utils.PILOT_DURATIONS_DEBUG['p_agent_runtime'])\n",
    "p_runtime"
   ]
  },
  {
   "cell_type": "markdown",
   "id": "205be4db",
   "metadata": {},
   "source": [
    "<div class=\"alert alert-info\">\n",
    "    \n",
    "__Note:__ `ra.session.duration` works with a set of pilots, including the case in which we have a single pilot. If we have a single pilot, the cumulative active time of all the pilots is equal to the active time of the only available pilot.\n",
    "\n",
    "</div>\n",
    "\n",
    "If we have more than one pilot and we want to measure the active time of only one of them, then we need to perform a local analysis. A rapid way to get a list of all the pilot entities in the session and, for example, see their unique identifiers (uid) is:"
   ]
  },
  {
   "cell_type": "code",
   "execution_count": 11,
   "id": "a8f871db",
   "metadata": {
    "ExecuteTime": {
     "end_time": "2021-07-28T08:11:47.736376Z",
     "start_time": "2021-07-28T08:11:47.731511Z"
    }
   },
   "outputs": [
    {
     "data": {
      "text/plain": [
       "['pilot.0000']"
      ]
     },
     "execution_count": 11,
     "metadata": {},
     "output_type": "execute_result"
    }
   ],
   "source": [
    "puids = [p.uid for p in pilots.get()]\n",
    "puids"
   ]
  },
  {
   "cell_type": "markdown",
   "id": "a4a55d9c",
   "metadata": {},
   "source": [
    "Once we know the ID of the pilot we want to analyze, first we filter the session object so to keep only the pilot we want to analyze; and, second, we get the amount of time for which that specific pilot was active:"
   ]
  },
  {
   "cell_type": "code",
   "execution_count": 12,
   "id": "84cd3836",
   "metadata": {
    "ExecuteTime": {
     "end_time": "2021-07-28T08:11:47.747015Z",
     "start_time": "2021-07-28T08:11:47.738697Z"
    }
   },
   "outputs": [
    {
     "data": {
      "text/plain": [
       "0"
      ]
     },
     "execution_count": 12,
     "metadata": {},
     "output_type": "execute_result"
    }
   ],
   "source": [
    "p0000 = pilots.filter(uid='pilot.0000')\n",
    "p0000_runtime = p0000.duration(event=rp.utils.PILOT_DURATIONS_DEBUG['p_agent_runtime'])\n",
    "p0000_runtime"
   ]
  },
  {
   "cell_type": "markdown",
   "id": "653dd777",
   "metadata": {},
   "source": [
    "The same approach and both global and local analyses can be used for every type of entity supported by RA (currently: pilot, task, pipeline, and stage). \n",
    "\n",
    "Total task execution time (TTX) and RCT overheads (OVH) are among the most common metrics used to describe the global behavior of RCT. TTX measures the time taken by __ALL__ the tasks to execute, accounting for their cocurrency. This means that if ``Task_a`` and ``task_b`` both start at the same time and ``Task_a`` terminates after 10 minutes and ``Task_b`` after 15, TTX will be 15 minutes. Conversely, if ``task_b`` starts to execute 5 minutes after ``task_a``, TTX will be 20 minutes. Finally, if ``task_b`` starts to execute 10 minutes after ``task_a`` terminated, TTX will be 25 minutes as the gap between the two tasks will not be considered."
   ]
  },
  {
   "cell_type": "code",
   "execution_count": 13,
   "id": "3048eda7",
   "metadata": {
    "ExecuteTime": {
     "end_time": "2021-07-28T08:11:47.757007Z",
     "start_time": "2021-07-28T08:11:47.749902Z"
    }
   },
   "outputs": [
    {
     "name": "stdout",
     "output_type": "stream",
     "text": [
      "TTX: 0.021445\n",
      "OVH: -0.021445\n"
     ]
    }
   ],
   "source": [
    "ttx = tasks.duration(event=rp.utils.TASK_DURATIONS_DEBUG['t_agent_lm_execute'])\n",
    "ovh = p_runtime - ttx\n",
    "\n",
    "print('TTX: %f\\nOVH: %f' % (ttx, ovh))"
   ]
  },
  {
   "cell_type": "markdown",
   "id": "5abbf99c",
   "metadata": {},
   "source": [
    "### Plotting\n",
    "\n",
    "We plot TTX and OVH for 4 sessions of an experiment. We create suitable data structures to suppor the plotting and we produce a figure with 4 subplots."
   ]
  },
  {
   "cell_type": "code",
   "execution_count": 14,
   "id": "6880ec8d",
   "metadata": {
    "ExecuteTime": {
     "end_time": "2021-07-28T08:11:47.763437Z",
     "start_time": "2021-07-28T08:11:47.759462Z"
    }
   },
   "outputs": [],
   "source": [
    "sids = ['rp.session.rivendell.merzky.019269.0000',\n",
    "        'rp.session.rivendell.merzky.019269.0001',\n",
    "        'rp.session.rivendell.merzky.019269.0002',\n",
    "        'rp.session.rivendell.merzky.019269.0003']\n",
    "sdir = 'sessions/'\n",
    "sessions = [sdir+s for s in sids]"
   ]
  },
  {
   "cell_type": "markdown",
   "id": "ede71778",
   "metadata": {},
   "source": [
    "Unbzip and untar those sessions."
   ]
  },
  {
   "cell_type": "code",
   "execution_count": 15,
   "id": "6d4c5d8b",
   "metadata": {
    "ExecuteTime": {
     "end_time": "2021-07-28T08:11:48.680777Z",
     "start_time": "2021-07-28T08:11:47.766012Z"
    }
   },
   "outputs": [],
   "source": [
    "for sid in sids:\n",
    "    sp = sdir + sid + '.tar.bz2'\n",
    "    tar = tarfile.open(sp, mode='r:bz2')\n",
    "    tar.extractall(path=sdir)\n",
    "    tar.close()"
   ]
  },
  {
   "cell_type": "markdown",
   "id": "aeba08e8",
   "metadata": {},
   "source": [
    "Create the session, tasks and pilots objects for each session."
   ]
  },
  {
   "cell_type": "code",
   "execution_count": 16,
   "id": "a964c769",
   "metadata": {
    "ExecuteTime": {
     "end_time": "2021-07-28T08:11:55.109198Z",
     "start_time": "2021-07-28T08:11:48.682937Z"
    }
   },
   "outputs": [],
   "source": [
    "%%capture capt\n",
    "\n",
    "ss = {}\n",
    "for sid in sids:\n",
    "    sp = sdir + sid\n",
    "    ss[sid] = {'s': ra.Session(sp, 'radical.pilot')}\n",
    "    ss[sid].update({'p': ss[sid]['s'].filter(etype='pilot'   , inplace=False),\n",
    "                    't': ss[sid]['s'].filter(etype='task'    , inplace=False)})"
   ]
  },
  {
   "cell_type": "markdown",
   "id": "136d13df",
   "metadata": {},
   "source": [
    "Derive the information about each session we need to use in our plots."
   ]
  },
  {
   "cell_type": "code",
   "execution_count": 17,
   "id": "6f4095ee",
   "metadata": {
    "ExecuteTime": {
     "end_time": "2021-07-28T08:11:55.117843Z",
     "start_time": "2021-07-28T08:11:55.111244Z"
    }
   },
   "outputs": [],
   "source": [
    "for sid in sids:\n",
    "    \n",
    "    ss[sid].update({'cores_node': ss[sid]['s'].get(etype='pilot')[0].cfg['resource_details']['rm_info']['cores_per_node'],\n",
    "                    'pid'       : ss[sid]['p'].list('uid'),\n",
    "                    'ntask'     : len(ss[sid]['t'].get())\n",
    "    })\n",
    "    \n",
    "    ss[sid].update({'ncores'    : ss[sid]['p'].get(uid=ss[sid]['pid'])[0].description['cores'],\n",
    "                    'ngpus'     : ss[sid]['p'].get(uid=ss[sid]['pid'])[0].description['gpus']\n",
    "    })\n",
    "    \n",
    "    ss[sid].update({'nnodes'    : int(ss[sid]['ncores']/ss[sid]['cores_node'])})"
   ]
  },
  {
   "cell_type": "markdown",
   "id": "0945e395",
   "metadata": {},
   "source": [
    "Use the default global durations to calculate TTX and OVH for each session of the experiment."
   ]
  },
  {
   "cell_type": "code",
   "execution_count": 25,
   "id": "cb0d671a",
   "metadata": {
    "ExecuteTime": {
     "end_time": "2021-07-28T08:11:55.135966Z",
     "start_time": "2021-07-28T08:11:55.120479Z"
    }
   },
   "outputs": [
    {
     "name": "stdout",
     "output_type": "stream",
     "text": [
      "{'rp.session.rivendell.merzky.019269.0000': {'cores_node': 16,\n",
      "                                             'ncores': 32,\n",
      "                                             'ngpus': 0,\n",
      "                                             'nnodes': 2,\n",
      "                                             'ntask': 10,\n",
      "                                             'ovh': -0.021445035934448242,\n",
      "                                             'p': <radical.analytics.session.Session object at 0x7f32079274f0>,\n",
      "                                             'p_runtime': 0,\n",
      "                                             'pid': ['pilot.0000'],\n",
      "                                             's': <radical.analytics.session.Session object at 0x7f32079275e0>,\n",
      "                                             't': <radical.analytics.session.Session object at 0x7f3207927ac0>,\n",
      "                                             'ttx': 0.021445035934448242},\n",
      " 'rp.session.rivendell.merzky.019269.0001': {'cores_node': 16,\n",
      "                                             'ncores': 32,\n",
      "                                             'ngpus': 0,\n",
      "                                             'nnodes': 2,\n",
      "                                             'ntask': 20,\n",
      "                                             'ovh': -0.06380987167358398,\n",
      "                                             'p': <radical.analytics.session.Session object at 0x7f3207927d30>,\n",
      "                                             'p_runtime': 0,\n",
      "                                             'pid': ['pilot.0000'],\n",
      "                                             's': <radical.analytics.session.Session object at 0x7f320c3913a0>,\n",
      "                                             't': <radical.analytics.session.Session object at 0x7f32076bd460>,\n",
      "                                             'ttx': 0.06380987167358398},\n",
      " 'rp.session.rivendell.merzky.019269.0002': {'cores_node': 16,\n",
      "                                             'ncores': 32,\n",
      "                                             'ngpus': 0,\n",
      "                                             'nnodes': 2,\n",
      "                                             'ntask': 40,\n",
      "                                             'ovh': -0.13583135604858398,\n",
      "                                             'p': <radical.analytics.session.Session object at 0x7f32076bd4c0>,\n",
      "                                             'p_runtime': 0,\n",
      "                                             'pid': ['pilot.0000'],\n",
      "                                             's': <radical.analytics.session.Session object at 0x7f3207927af0>,\n",
      "                                             't': <radical.analytics.session.Session object at 0x7f32072e71c0>,\n",
      "                                             'ttx': 0.13583135604858398},\n",
      " 'rp.session.rivendell.merzky.019269.0003': {'cores_node': 16,\n",
      "                                             'ncores': 32,\n",
      "                                             'ngpus': 0,\n",
      "                                             'nnodes': 2,\n",
      "                                             'ntask': 80,\n",
      "                                             'ovh': -0.5962982177734375,\n",
      "                                             'p': <radical.analytics.session.Session object at 0x7f32072e7220>,\n",
      "                                             'p_runtime': 0,\n",
      "                                             'pid': ['pilot.0000'],\n",
      "                                             's': <radical.analytics.session.Session object at 0x7f32076bd490>,\n",
      "                                             't': <radical.analytics.session.Session object at 0x7f3206c366a0>,\n",
      "                                             'ttx': 0.5962982177734375}}\n"
     ]
    }
   ],
   "source": [
    "for sid in sids:\n",
    "    t  = ss[sid]['t']\n",
    "    p  = ss[sid]['p']\n",
    "\n",
    "    ss[sid].update({\n",
    "      'ttx': t.duration( event=rp.utils.TASK_DURATIONS_DEBUG['t_agent_lm_execute']),\n",
    "      'p_runtime': p.duration(event=rp.utils.PILOT_DURATIONS_DEBUG['p_agent_runtime'])\n",
    "    })\n",
    "    \n",
    "    ss[sid].update({'ovh': ss[sid]['p_runtime'] - ss[sid]['ttx']})\n",
    "import pprint\n",
    "pprint.pprint(ss)"
   ]
  },
  {
   "cell_type": "markdown",
   "id": "202dfb57",
   "metadata": {},
   "source": [
    "Plot TTX and OVH for each session, add information about each run and letters for each subplot fo easy referencing in a paper."
   ]
  },
  {
   "cell_type": "code",
   "execution_count": 19,
   "id": "5506655c",
   "metadata": {
    "ExecuteTime": {
     "end_time": "2021-07-28T08:11:56.136283Z",
     "start_time": "2021-07-28T08:11:55.137961Z"
    }
   },
   "outputs": [
    {
     "data": {
      "text/plain": [
       "<matplotlib.legend.Legend at 0x7f320456adf0>"
      ]
     },
     "execution_count": 19,
     "metadata": {},
     "output_type": "execute_result"
    },
    {
     "name": "stderr",
     "output_type": "stream",
     "text": [
      "findfont: Font family ['[DeJavu serif]'] not found. Falling back to DejaVu Sans.\n"
     ]
    },
    {
     "data": {
      "image/png": "[encoded data removed]",
      "text/plain": [
       "<Figure size 2141.97x330.952 with 4 Axes>"
      ]
     },
     "metadata": {
      "needs_background": "light"
     },
     "output_type": "display_data"
    }
   ],
   "source": [
    "nsids = len(sids)\n",
    "\n",
    "fwidth, fhight = ra.get_plotsize(516,subplots=(1, nsids))\n",
    "fig, axarr = plt.subplots(1, nsids, sharey=True, figsize=(fwidth, fhight))\n",
    "\n",
    "i = 0\n",
    "j = 'a'\n",
    "for sid in sids:\n",
    "\n",
    "    if len(sids) > 1:\n",
    "        ax = axarr[i]\n",
    "    else:\n",
    "        ax = axarr\n",
    "    \n",
    "    ax.title.set_text('%s tasks; %s nodes' % (ss[sid]['ntask'], int(ss[sid]['nnodes'])))\n",
    "\n",
    "    ax.bar(x = 'OVH', height = ss[sid]['ovh'])\n",
    "    ax.bar(x = 'TTX', height = ss[sid]['ttx'])\n",
    "\n",
    "    ax.set_xlabel('(%s)' % j, labelpad=10)\n",
    "\n",
    "    i = i + 1\n",
    "    j = chr(ord(j) + 1)\n",
    "\n",
    "fig.text(  0.05,  0.5 , 'Time (s)', va='center', rotation='vertical')\n",
    "fig.text(  0.5 , -0.2, 'Metric'  , ha='center')\n",
    "fig.legend(['RADICAL Cybertools overhead (OVH)', \n",
    "            'Workflow time to completion (TTX)'], \n",
    "           loc='upper center', \n",
    "           bbox_to_anchor=(0.5, 1.5), \n",
    "           ncol=1)"
   ]
  },
  {
   "cell_type": "markdown",
   "id": "a19d1313",
   "metadata": {},
   "source": [
    "## Danger of Duration Analysis\n",
    "\n",
    "<div class=\"alert alert-warning\">\n",
    "    \n",
    "__Warning:__ Most of the time, the durations of __global analyses__ are __NOT__ additive. \n",
    "\n",
    "</div>\n",
    "    \n",
    "For example, the sum of the total time taken by RP Agent to manage all the tasks and the total amount of time taken to execute all those tasks is __greater__ than the time taken to execute the workload. This is because RP is a distributed system that performs multiple operations at the same time on multiple resources. Thus, while RP Agent manages a task, it might be executing another task.\n",
    "\n",
    "Consider three durations:\n",
    "\n",
    "1. __t_agent_t_load__: the time from when RP Agent receives a compute task to the time in which the compute task's executable is launched.\n",
    "2. __t_agent_t_execute__: default duration for the time taken by a compute task's executable to execute.\n",
    "3. __t_agent_t_load__: the time from when a compute task's executable finishes to execute to when RP Agent mark the compute task with a final state (DONE, CANCELED or FAILED).\n",
    "\n",
    "For a single task, ``t_agent_t_load``, ``t_agent_t_execute`` and ``t_agent_t_load`` are contiguos and therefore additive. A single task cannot be loaded by RP Agent while it is also executed. For multiple tasks, this does not apply: one task might be loaded by RP Agent while another task is being executed."
   ]
  },
  {
   "cell_type": "markdown",
   "id": "c9cb2011",
   "metadata": {},
   "source": [
    "## Distribution of Durations\n",
    "\n",
    "We want to calculate the statistical distribution of default and arbitrary durations. Variance and outliers characterize the runtime behavior of both tasks and RCT.\n",
    "\n",
    "Global durations like TTX and OVH are aggregated across all entities: TTX aggregates the duration of each task while OVH that of all the RCT components active when no tasks are executed. For a distribution, we need instead the individual measure for each entity and component. For example, to calculate the distribution of task execution time, we have to measure the execution time of each task.\n",
    "\n",
    "We use RA to cycle through all the task entities and then the `get` and `duration` methods to return the wanted duration for each task. We use both the default duration for task runtime and the two arbitary durations we defined above for the time taken by RP executor to manage the execution of the task."
   ]
  },
  {
   "cell_type": "code",
   "execution_count": 20,
   "id": "56c6d284",
   "metadata": {
    "ExecuteTime": {
     "end_time": "2021-07-28T08:11:56.167683Z",
     "start_time": "2021-07-28T08:11:56.138933Z"
    }
   },
   "outputs": [
    {
     "ename": "ValueError",
     "evalue": "no duration defined for given constraints (None) ([{5: 'AGENT_EXECUTING'}, {1: 'task_exec_start'}]) (None) ([])",
     "output_type": "error",
     "traceback": [
      "\u001b[0;31m---------------------------------------------------------------------------\u001b[0m",
      "\u001b[0;31mValueError\u001b[0m                                Traceback (most recent call last)",
      "\u001b[0;32m<ipython-input-20-3db8c0268805>\u001b[0m in \u001b[0;36m<module>\u001b[0;34m\u001b[0m\n\u001b[1;32m     10\u001b[0m         \u001b[0;32mfor\u001b[0m \u001b[0mtid\u001b[0m \u001b[0;32min\u001b[0m \u001b[0mss\u001b[0m\u001b[0;34m[\u001b[0m\u001b[0msid\u001b[0m\u001b[0;34m]\u001b[0m\u001b[0;34m[\u001b[0m\u001b[0;34m't'\u001b[0m\u001b[0;34m]\u001b[0m\u001b[0;34m.\u001b[0m\u001b[0mlist\u001b[0m\u001b[0;34m(\u001b[0m\u001b[0;34m'uid'\u001b[0m\u001b[0;34m)\u001b[0m\u001b[0;34m:\u001b[0m\u001b[0;34m\u001b[0m\u001b[0;34m\u001b[0m\u001b[0m\n\u001b[1;32m     11\u001b[0m             \u001b[0mtask\u001b[0m \u001b[0;34m=\u001b[0m \u001b[0mss\u001b[0m\u001b[0;34m[\u001b[0m\u001b[0msid\u001b[0m\u001b[0;34m]\u001b[0m\u001b[0;34m[\u001b[0m\u001b[0;34m't'\u001b[0m\u001b[0;34m]\u001b[0m\u001b[0;34m.\u001b[0m\u001b[0mget\u001b[0m\u001b[0;34m(\u001b[0m\u001b[0metype\u001b[0m\u001b[0;34m=\u001b[0m\u001b[0;34m'task'\u001b[0m\u001b[0;34m,\u001b[0m \u001b[0muid\u001b[0m\u001b[0;34m=\u001b[0m\u001b[0mtid\u001b[0m\u001b[0;34m)\u001b[0m\u001b[0;34m[\u001b[0m\u001b[0;36m0\u001b[0m\u001b[0;34m]\u001b[0m\u001b[0;34m\u001b[0m\u001b[0;34m\u001b[0m\u001b[0m\n\u001b[0;32m---> 12\u001b[0;31m             \u001b[0mduration\u001b[0m \u001b[0;34m=\u001b[0m \u001b[0mtask\u001b[0m\u001b[0;34m.\u001b[0m\u001b[0mduration\u001b[0m\u001b[0;34m(\u001b[0m\u001b[0mevent\u001b[0m\u001b[0;34m=\u001b[0m\u001b[0mevent\u001b[0m\u001b[0;34m)\u001b[0m\u001b[0;34m\u001b[0m\u001b[0;34m\u001b[0m\u001b[0m\n\u001b[0m\u001b[1;32m     13\u001b[0m             \u001b[0mt_duration\u001b[0m\u001b[0;34m[\u001b[0m\u001b[0msid\u001b[0m\u001b[0;34m]\u001b[0m\u001b[0;34m[\u001b[0m\u001b[0mname\u001b[0m\u001b[0;34m]\u001b[0m\u001b[0;34m.\u001b[0m\u001b[0mappend\u001b[0m\u001b[0;34m(\u001b[0m\u001b[0mduration\u001b[0m\u001b[0;34m)\u001b[0m\u001b[0;34m\u001b[0m\u001b[0;34m\u001b[0m\u001b[0m\n",
      "\u001b[0;32m/mnt/home/merzky/radical/radical.analytics.devel/ve3/lib/python3.8/site-packages/radical/analytics/entity.py\u001b[0m in \u001b[0;36mduration\u001b[0;34m(self, state, event, time, ranges)\u001b[0m\n\u001b[1;32m    286\u001b[0m \u001b[0;34m\u001b[0m\u001b[0m\n\u001b[1;32m    287\u001b[0m         \u001b[0;32mif\u001b[0m \u001b[0;32mnot\u001b[0m \u001b[0mranges\u001b[0m\u001b[0;34m:\u001b[0m\u001b[0;34m\u001b[0m\u001b[0;34m\u001b[0m\u001b[0m\n\u001b[0;32m--> 288\u001b[0;31m             raise ValueError('no duration defined for given constraints '\n\u001b[0m\u001b[1;32m    289\u001b[0m                   '(%s) (%s) (%s) (%s)' % (state, event, time, ranges))\n\u001b[1;32m    290\u001b[0m \u001b[0;34m\u001b[0m\u001b[0m\n",
      "\u001b[0;31mValueError\u001b[0m: no duration defined for given constraints (None) ([{5: 'AGENT_EXECUTING'}, {1: 'task_exec_start'}]) (None) ([])"
     ]
    }
   ],
   "source": [
    "t_duration = {}\n",
    "events = {'tx': rp.utils.TASK_DURATIONS_DEBUG['t_agent_lm_execute'], \n",
    "          't_executor_before': t_executor_before, \n",
    "          't_executor_after': t_executor_after}\n",
    "\n",
    "for sid in sids:\n",
    "    t_duration[sid] = {}\n",
    "    for name, event in events.items():\n",
    "        t_duration[sid].update({name: []})    \n",
    "        for tid in ss[sid]['t'].list('uid'):\n",
    "            task = ss[sid]['t'].get(etype='task', uid=tid)[0]\n",
    "            duration = task.duration(event=event)\n",
    "            t_duration[sid][name].append(duration)"
   ]
  },
  {
   "cell_type": "markdown",
   "id": "1e23255a",
   "metadata": {},
   "source": [
    "We can now plot the distribution of task execution time as a boxplot for each session:"
   ]
  },
  {
   "cell_type": "code",
   "execution_count": null,
   "id": "88e8771f",
   "metadata": {
    "ExecuteTime": {
     "end_time": "2021-07-28T08:11:56.487144Z",
     "start_time": "2021-07-28T08:11:56.171174Z"
    }
   },
   "outputs": [],
   "source": [
    "fwidth, fhight = ra.get_plotsize(212)\n",
    "fig, ax = plt.subplots(figsize=(fwidth, fhight))\n",
    "\n",
    "data   = [t_duration[sid]['tx'] for sid in sids]\n",
    "labels = ['%s;%s' % (ss[sid]['ntask'], int(ss[sid]['nnodes'])) for sid in sids]\n",
    "\n",
    "ax.boxplot(data, labels=labels, patch_artist=True)\n",
    "\n",
    "ax.set_xlabel('Task;Nodes')\n",
    "ax.set_ylabel('Task Runtime (s)')"
   ]
  },
  {
   "cell_type": "markdown",
   "id": "c6db9a20",
   "metadata": {},
   "source": [
    "We can do the same for the arbitrary durations defined above: `t_executor_before` and `t_executor_after`"
   ]
  },
  {
   "cell_type": "code",
   "execution_count": null,
   "id": "b97c0035",
   "metadata": {
    "ExecuteTime": {
     "end_time": "2021-07-28T08:11:57.386390Z",
     "start_time": "2021-07-28T08:11:56.490139Z"
    }
   },
   "outputs": [],
   "source": [
    "fwidth, fhight = ra.get_plotsize(212, subplots=(2, 1))\n",
    "fig, axarr = plt.subplots(2, 1, figsize=(fwidth, fhight))\n",
    "plt.subplots_adjust(hspace=0.6)\n",
    "\n",
    "i = 0\n",
    "for dname in ['t_executor_before', 't_executor_after']:\n",
    "    ax = axarr[i]\n",
    "\n",
    "    data   = [t_duration[sid][dname] for sid in sids]\n",
    "    labels = ['%s;%s' % (ss[sid]['ntask'], int(ss[sid]['nnodes'])) for sid in sids]\n",
    "\n",
    "    ax.boxplot(data, labels=labels, patch_artist=True)\n",
    "\n",
    "    ax.set_title('Distribution of duration: %s' % ra.to_latex(dname))\n",
    "    ax.set_xlabel('Task;Nodes')\n",
    "    ax.set_ylabel('Task Runtime (s)')\n",
    "    \n",
    "    i += 1\n",
    "    "
   ]
  }
 ],
 "metadata": {
  "kernelspec": {
   "display_name": "Python 3",
   "language": "python",
   "name": "python3"
  },
  "language_info": {
   "codemirror_mode": {
    "name": "ipython",
    "version": 3
   },
   "file_extension": ".py",
   "mimetype": "text/x-python",
   "name": "python",
   "nbconvert_exporter": "python",
   "pygments_lexer": "ipython3",
   "version": "3.8.0"
  }
 },
 "nbformat": 4,
 "nbformat_minor": 5
}
