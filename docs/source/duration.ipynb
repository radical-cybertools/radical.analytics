{
 "cells": [
  {
   "cell_type": "markdown",
   "id": "8d155872",
   "metadata": {},
   "source": [
    "# Duration\n",
    "\n",
    "\n",
    "In RADICAL-Analytics (RA), ``duration`` is a general term to indicate a measure of the time spent by an entity (local analyses) or a set of entities (global analyses) between two timestamps. For example, data staging, scheduling, pre-executing, and executing time of one or more tasks; description, submission and execution time of one or more pipelines or stages; and runtime of one or more pilots.\n",
    "\n",
    "We show two sets of default durations for RADICAL-Pilot (RP) and how to define arbitrary durations, depending on the specifics of a given analysis. We then see how to plot the most common durations \n",
    "\n",
    "## Prologue\n",
    "\n",
    "Load the Python modules needed to profile and plot a RADICAL-Cybertool (RCT) session."
   ]
  },
  {
   "cell_type": "code",
   "execution_count": null,
   "id": "2a4e3b2f",
   "metadata": {
    "ExecuteTime": {
     "end_time": "2021-07-28T08:11:43.324245Z",
     "start_time": "2021-07-28T08:11:42.176319Z"
    }
   },
   "outputs": [],
   "source": [
    "import tarfile\n",
    "\n",
    "import numpy as np\n",
    "import pandas as pd\n",
    "import matplotlib as mpl\n",
    "import matplotlib.pyplot as plt\n",
    "import matplotlib.ticker as mticker\n",
    "\n",
    "import radical.utils as ru\n",
    "import radical.pilot as rp\n",
    "import radical.analytics as ra\n",
    "\n",
    "from radical.pilot import states as rps"
   ]
  },
  {
   "cell_type": "markdown",
   "id": "ff5e8e10",
   "metadata": {},
   "source": [
    "Load the RADICAL Matplotlib style to obtain viasually consistent and publishable-qality plots."
   ]
  },
  {
   "cell_type": "code",
   "execution_count": null,
   "id": "6317bea7",
   "metadata": {
    "ExecuteTime": {
     "end_time": "2021-07-28T08:11:43.333296Z",
     "start_time": "2021-07-28T08:11:43.326899Z"
    }
   },
   "outputs": [],
   "source": [
    "plt.style.use(ra.get_mplstyle('radical_mpl'))"
   ]
  },
  {
   "cell_type": "markdown",
   "id": "9015dbc7",
   "metadata": {},
   "source": [
    "Usually, it is useful to record the stack used for the analysis. \n",
    "\n",
    "<div class=\"alert alert-info\">\n",
    "    \n",
    "__Note:__ The analysis stack might be different from the stack used to create the session to analyze. Usually, the two stacks must have the same minor release number (Major.Minor.Patch) in order to be compatible.\n",
    "\n",
    "</div>"
   ]
  },
  {
   "cell_type": "code",
   "execution_count": null,
   "id": "12df0932",
   "metadata": {
    "ExecuteTime": {
     "end_time": "2021-07-28T08:11:44.449932Z",
     "start_time": "2021-07-28T08:11:43.334587Z"
    }
   },
   "outputs": [],
   "source": [
    "! radical-stack"
   ]
  },
  {
   "cell_type": "markdown",
   "id": "96e77d5f",
   "metadata": {},
   "source": [
    "## Default Durations\n",
    "\n",
    "Currently, we offer a set of default durations for pilot and task entities of RP."
   ]
  },
  {
   "cell_type": "code",
   "execution_count": null,
   "id": "7da51bd0",
   "metadata": {
    "ExecuteTime": {
     "end_time": "2021-07-28T08:11:44.476755Z",
     "start_time": "2021-07-28T08:11:44.455189Z"
    }
   },
   "outputs": [],
   "source": [
    "pd.DataFrame(ra.utils.tabulate_durations(rp.utils.PILOT_DURATIONS_DEBUG))"
   ]
  },
  {
   "cell_type": "code",
   "execution_count": null,
   "id": "19bd49d3",
   "metadata": {
    "ExecuteTime": {
     "end_time": "2021-07-28T08:11:44.490884Z",
     "start_time": "2021-07-28T08:11:44.479315Z"
    }
   },
   "outputs": [],
   "source": [
    "pd.DataFrame(ra.utils.tabulate_durations(rp.utils.TASK_DURATIONS_DEBUG))"
   ]
  },
  {
   "cell_type": "markdown",
   "id": "bd3c42c4",
   "metadata": {},
   "source": [
    "Most of those default durations are meant for __debugging__. They are as granular as possible and (almost completely) contiguous. Only few of them are commonly used in experiment analyses. For example:\n",
    "\n",
    "- __p_agent_runtime__: the amount of time for which one or more pilots (i.e., RP Agent) were active.\n",
    "- __p_pmngr_scheduling__: the amount of time one or more pilots waited in the queue of the HPC batch system.\n",
    "- __t_agent_stage_in__: the amount of time taken to stage the input data of one or more tasks.\n",
    "- __t_agent_schedule__: the amount of time taken to schedule of one or more tasks.\n",
    "- __t_agent_t_pre_execute__: the amount of time taken to execute the ``pre_exec`` of one or more tasks.\n",
    "- __t_agent_t_execute__: the amount of time taken to execute the executable of one or more tasks.\n",
    "- __t_agent_t_stage_out__: the amount of time taken to stage the output data of one or more tasks.\n",
    "\n",
    "## Arbitrary Durations\n",
    "\n",
    "RA enables the __arbitrary__ definition of durations, depending on the analysis requirements. For example, given an experiment to characterize the performance of one of RP's executors, it might be useful to measure the amount of time spent by each task in RP's Executor component. \n",
    "\n",
    "<div class=\"alert alert-warning\">\n",
    "    \n",
    "__Warning:__ Correctly defining a duration requires a __detailed__ understanding of both [RP architecture](https://github.com/radical-cybertools/radical.pilot/wiki/Architecture) and [event model](https://github.com/radical-cybertools/radical.pilot/blob/devel/docs/source/events.md). \n",
    "\n",
    "</div>\n",
    "\n",
    "Once we acquired an understanding of RP architecture and event model, we can define our duration as the sum of the time spent by tasks in RP's Executor component, before and after the execution of the tasks' executable."
   ]
  },
  {
   "cell_type": "code",
   "execution_count": null,
   "id": "90f0be8f",
   "metadata": {
    "ExecuteTime": {
     "end_time": "2021-07-28T08:11:44.497439Z",
     "start_time": "2021-07-28T08:11:44.493433Z"
    }
   },
   "outputs": [],
   "source": [
    "t_executor_before = [{ru.STATE: rps.AGENT_EXECUTING},\n",
    "                     {ru.EVENT: 'task_exec_start'  } ]\n",
    "\n",
    "t_executor_after  = [{ru.EVENT: 'task_exec_stop'}, \n",
    "                     {ru.EVENT: 'task_stop'     } ]"
   ]
  },
  {
   "cell_type": "markdown",
   "id": "0154152c",
   "metadata": {},
   "source": [
    "## Duration Analysis\n",
    "\n",
    "Every analysis with RA requires to load the traces produced by RP or RADICAL-EnsembleToolkit (EnTK) into a session object. Both RP and EnTK write traces (i.e., timestamped and annotated sequences of events) to a  directory called ``client sandbox``. This directory is created inside the directory from which the application executed. The name of the client sandbox is a session ID, e.g., ``rp.session.hostname.username.000000.0000`` for RP and ``en.session.hostname.username.000000.0000`` for EnTK.\n",
    "\n",
    "### Session\n",
    "\n",
    "Name and location of the session we profile."
   ]
  },
  {
   "cell_type": "code",
   "execution_count": null,
   "id": "446da70d",
   "metadata": {
    "ExecuteTime": {
     "end_time": "2021-07-28T08:11:44.502730Z",
     "start_time": "2021-07-28T08:11:44.499488Z"
    }
   },
   "outputs": [],
   "source": [
    "sid = 're.session.login1.lei.018775.0005'\n",
    "sdir = 'sessions/'"
   ]
  },
  {
   "cell_type": "markdown",
   "id": "7c54d832",
   "metadata": {},
   "source": [
    "Unbzip and untar the session."
   ]
  },
  {
   "cell_type": "code",
   "execution_count": null,
   "id": "529d0626",
   "metadata": {
    "ExecuteTime": {
     "end_time": "2021-07-28T08:11:44.852502Z",
     "start_time": "2021-07-28T08:11:44.505253Z"
    }
   },
   "outputs": [],
   "source": [
    "sp = sdir+sid+'.tar.bz2'\n",
    "tar = tarfile.open(sp, mode='r:bz2')\n",
    "tar.extractall(path=sdir)\n",
    "tar.close()"
   ]
  },
  {
   "cell_type": "markdown",
   "id": "41bf1d94",
   "metadata": {
    "ExecuteTime": {
     "end_time": "2021-07-19T18:21:14.338428Z",
     "start_time": "2021-07-19T18:21:14.332417Z"
    }
   },
   "source": [
    "Create a ``ra.Session`` object for the session. We do not need EnTK-specific traces so load only the RP traces contained in the EnTK session. Thus, we pass the ``'radical.pilot'`` session type to ``ra.Session``.\n",
    "\n",
    "<div class=\"alert alert-warning\">\n",
    "    \n",
    "__Warning:__ We already know we need information about pilots and tasks. Thus, we save in memory two session objects filtered for pilots and tasks. This might be too expensive with large sessions, depending on the amount of memory available.\n",
    "\n",
    "</div>\n",
    "    \n",
    "<div class=\"alert alert-info\">\n",
    "    \n",
    "__Note:__ We save the ouput of ``ra.Session`` in ``capt`` to avoid polluting the notebook with warning messages. \n",
    "\n",
    "</div>"
   ]
  },
  {
   "cell_type": "code",
   "execution_count": null,
   "id": "87e37f4a",
   "metadata": {
    "ExecuteTime": {
     "end_time": "2021-07-28T08:11:47.717116Z",
     "start_time": "2021-07-28T08:11:44.855269Z"
    }
   },
   "outputs": [],
   "source": [
    "%%capture capt\n",
    "\n",
    "sp = sdir+sid\n",
    "\n",
    "session = ra.Session(sp, 'radical.pilot')\n",
    "pilots  = session.filter(etype='pilot', inplace=False)\n",
    "tasks   = session.filter(etype='task' , inplace=False)"
   ]
  },
  {
   "cell_type": "markdown",
   "id": "b1c2d50c",
   "metadata": {},
   "source": [
    "As seen above, each duration measures the time spent by an entity (local analyses) or a set of entities (global analyses) between two timestamps.\n",
    "\n",
    "We starts with a global analysis to measure for how long all the pilots of a session have been active. Looking at RP's [event model](https://github.com/radical-cybertools/radical.pilot/blob/devel/docs/source/events.md#bootstrap_0sh) of the ``pilot`` entity and to ``rp.utils.PILOT_DURATIONS_DEBUG``, we know that a pilot is active between the events ``bootstrap_0_start`` and ``bootstrap_0_stop``. We also know that we have a default duration with those events: ``p_agent_runtime``.\n",
    "\n",
    "To measure that duration, first, we filter the session object so to keep only the entities of type Pilot; and, second, we get the __cumulative__ amount of time for which all the pilot were active. It is that cumulative measure that defines this analysis as global."
   ]
  },
  {
   "cell_type": "code",
   "execution_count": null,
   "id": "44da6554",
   "metadata": {
    "ExecuteTime": {
     "end_time": "2021-07-28T08:11:47.728958Z",
     "start_time": "2021-07-28T08:11:47.721648Z"
    }
   },
   "outputs": [],
   "source": [
    "p_runtime = pilots.duration(event=rp.utils.PILOT_DURATIONS_DEBUG['p_agent_runtime'])\n",
    "p_runtime"
   ]
  },
  {
   "cell_type": "markdown",
   "id": "205be4db",
   "metadata": {},
   "source": [
    "<div class=\"alert alert-info\">\n",
    "    \n",
    "__Note:__ `ra.session.duration` works with a set of pilots, including the case in which we have a single pilot. If we have a single pilot, the cumulative active time of all the pilots is equal to the active time of the only available pilot.\n",
    "\n",
    "</div>\n",
    "\n",
    "If we have more than one pilot and we want to measure the active time of only one of them, then we need to perform a local analysis. A rapid way to get a list of all the pilot entities in the session and, for example, see their unique identifiers (uid) is:"
   ]
  },
  {
   "cell_type": "code",
   "execution_count": null,
   "id": "a8f871db",
   "metadata": {
    "ExecuteTime": {
     "end_time": "2021-07-28T08:11:47.736376Z",
     "start_time": "2021-07-28T08:11:47.731511Z"
    }
   },
   "outputs": [],
   "source": [
    "puids = [p.uid for p in pilots.get()]\n",
    "puids"
   ]
  },
  {
   "cell_type": "markdown",
   "id": "a4a55d9c",
   "metadata": {},
   "source": [
    "Once we know the ID of the pilot we want to analyze, first we filter the session object so to keep only the pilot we want to analyze; and, second, we get the amount of time for which that specific pilot was active:"
   ]
  },
  {
   "cell_type": "code",
   "execution_count": null,
   "id": "84cd3836",
   "metadata": {
    "ExecuteTime": {
     "end_time": "2021-07-28T08:11:47.747015Z",
     "start_time": "2021-07-28T08:11:47.738697Z"
    }
   },
   "outputs": [],
   "source": [
    "p0000 = pilots.filter(uid='pilot.0000')\n",
    "p0000_runtime = p0000.duration(event=rp.utils.PILOT_DURATIONS_DEBUG['p_agent_runtime'])\n",
    "p0000_runtime"
   ]
  },
  {
   "cell_type": "markdown",
   "id": "653dd777",
   "metadata": {},
   "source": [
    "The same approach and both global and local analyses can be used for every type of entity supported by RA (currently: pilot, task, pipeline, and stage). \n",
    "\n",
    "Total task execution time (TTX) and RCT overheads (OVH) are among the most common metrics used to describe the global behavior of RCT. TTX measures the time taken by __ALL__ the tasks to execute, accounting for their cocurrency. This means that if ``Task_a`` and ``task_b`` both start at the same time and ``Task_a`` terminates after 10 minutes and ``Task_b`` after 15, TTX will be 15 minutes. Conversely, if ``task_b`` starts to execute 5 minutes after ``task_a``, TTX will be 20 minutes. Finally, if ``task_b`` starts to execute 10 minutes after ``task_a`` terminated, TTX will be 25 minutes as the gap between the two tasks will not be considered."
   ]
  },
  {
   "cell_type": "code",
   "execution_count": null,
   "id": "3048eda7",
   "metadata": {
    "ExecuteTime": {
     "end_time": "2021-07-28T08:11:47.757007Z",
     "start_time": "2021-07-28T08:11:47.749902Z"
    }
   },
   "outputs": [],
   "source": [
    "ttx = tasks.duration(event=rp.utils.TASK_DURATIONS_DEBUG['t_agent_lm_execute'])\n",
    "ovh = p_runtime - ttx\n",
    "\n",
    "print('TTX: %f\\nOVH: %f' % (ttx, ovh))"
   ]
  },
  {
   "cell_type": "markdown",
   "id": "5abbf99c",
   "metadata": {},
   "source": [
    "### Plotting\n",
    "\n",
    "We plot TTX and OVH for 4 sessions of an experiment. We create suitable data structures to suppor the plotting and we produce a figure with 4 subplots."
   ]
  },
  {
   "cell_type": "code",
   "execution_count": null,
   "id": "6880ec8d",
   "metadata": {
    "ExecuteTime": {
     "end_time": "2021-07-28T08:11:47.763437Z",
     "start_time": "2021-07-28T08:11:47.759462Z"
    }
   },
   "outputs": [],
   "source": [
    "sids = ['re.session.login1.lei.018775.0008',\n",
    "        're.session.login1.lei.018775.0007',\n",
    "        're.session.login1.lei.018775.0004',\n",
    "        're.session.login1.lei.018775.0005']\n",
    "sdir = 'sessions/'\n",
    "sessions = [sdir+s for s in sids]"
   ]
  },
  {
   "cell_type": "markdown",
   "id": "ede71778",
   "metadata": {},
   "source": [
    "Unbzip and untar those sessions."
   ]
  },
  {
   "cell_type": "code",
   "execution_count": null,
   "id": "6d4c5d8b",
   "metadata": {
    "ExecuteTime": {
     "end_time": "2021-07-28T08:11:48.680777Z",
     "start_time": "2021-07-28T08:11:47.766012Z"
    }
   },
   "outputs": [],
   "source": [
    "for sid in sids:\n",
    "    sp = sdir+sid+'.tar.bz2'\n",
    "    tar = tarfile.open(sp, mode='r:bz2')\n",
    "    tar.extractall(path=sdir)\n",
    "    tar.close()"
   ]
  },
  {
   "cell_type": "markdown",
   "id": "aeba08e8",
   "metadata": {},
   "source": [
    "Create the session, tasks and pilots objects for each session."
   ]
  },
  {
   "cell_type": "code",
   "execution_count": null,
   "id": "a964c769",
   "metadata": {
    "ExecuteTime": {
     "end_time": "2021-07-28T08:11:55.109198Z",
     "start_time": "2021-07-28T08:11:48.682937Z"
    }
   },
   "outputs": [],
   "source": [
    "%%capture capt\n",
    "\n",
    "ss = {}\n",
    "for sid in sids:\n",
    "    sp = sdir+sid\n",
    "    ss[sid] = {'s': ra.Session(sp, 'radical.pilot')}\n",
    "    ss[sid].update({'p': ss[sid]['s'].filter(etype='pilot'   , inplace=False),\n",
    "                    't': ss[sid]['s'].filter(etype='task'    , inplace=False)})"
   ]
  },
  {
   "cell_type": "markdown",
   "id": "136d13df",
   "metadata": {},
   "source": [
    "Derive the information about each session we need to use in our plots."
   ]
  },
  {
   "cell_type": "code",
   "execution_count": null,
   "id": "6f4095ee",
   "metadata": {
    "ExecuteTime": {
     "end_time": "2021-07-28T08:11:55.117843Z",
     "start_time": "2021-07-28T08:11:55.111244Z"
    }
   },
   "outputs": [],
   "source": [
    "for sid in sids:\n",
    "    \n",
    "    ss[sid].update({'cores_node': ss[sid]['s'].get(etype='pilot')[0].cfg['resource_details']['rm_info']['cores_per_node'],\n",
    "                    'pid'       : ss[sid]['p'].list('uid'),\n",
    "                    'ntask'     : len(ss[sid]['t'].get())\n",
    "    })\n",
    "    \n",
    "    ss[sid].update({'ncores'    : ss[sid]['p'].get(uid=ss[sid]['pid'])[0].description['cores'],\n",
    "                    'ngpus'     : ss[sid]['p'].get(uid=ss[sid]['pid'])[0].description['gpus']\n",
    "    })\n",
    "    \n",
    "    ss[sid].update({'nnodes'    : int(ss[sid]['ncores']/ss[sid]['cores_node'])})"
   ]
  },
  {
   "cell_type": "markdown",
   "id": "0945e395",
   "metadata": {},
   "source": [
    "Use the default global durations to calculate TTX and OVH for each session of the experiment."
   ]
  },
  {
   "cell_type": "code",
   "execution_count": null,
   "id": "cb0d671a",
   "metadata": {
    "ExecuteTime": {
     "end_time": "2021-07-28T08:11:55.135966Z",
     "start_time": "2021-07-28T08:11:55.120479Z"
    }
   },
   "outputs": [],
   "source": [
    "for sid in sids:\n",
    "    t  = ss[sid]['t']\n",
    "    p  = ss[sid]['p']\n",
    "\n",
    "    ss[sid].update({\n",
    "      'ttx': t.duration( event=rp.utils.TASK_DURATIONS_DEBUG['t_agent_lm_execute']),\n",
    "      'p_runtime': p.duration(event=rp.utils.PILOT_DURATIONS_DEBUG['p_agent_runtime'])\n",
    "    })\n",
    "    \n",
    "    ss[sid].update({'ovh': ss[sid]['p_runtime'] - ss[sid]['ttx']})"
   ]
  },
  {
   "cell_type": "markdown",
   "id": "202dfb57",
   "metadata": {},
   "source": [
    "Plot TTX and OVH for each session, add information about each run and letters for each subplot fo easy referencing in a paper."
   ]
  },
  {
   "cell_type": "code",
   "execution_count": null,
   "id": "5506655c",
   "metadata": {
    "ExecuteTime": {
     "end_time": "2021-07-28T08:11:56.136283Z",
     "start_time": "2021-07-28T08:11:55.137961Z"
    }
   },
   "outputs": [],
   "source": [
    "nsids = len(sids)\n",
    "\n",
    "fwidth, fhight = ra.get_plotsize(516,subplots=(1, nsids))\n",
    "fig, axarr = plt.subplots(1, nsids, sharey=True, figsize=(fwidth, fhight))\n",
    "\n",
    "i = 0\n",
    "j = 'a'\n",
    "for sid in sids:\n",
    "\n",
    "    if len(sids) > 1:\n",
    "        ax = axarr[i]\n",
    "    else:\n",
    "        ax = axarr\n",
    "    \n",
    "    ax.title.set_text('%s tasks; %s nodes' % (ss[sid]['ntask'], int(ss[sid]['nnodes'])))\n",
    "\n",
    "    ax.bar(x = 'OVH', height = ss[sid]['ovh'])\n",
    "    ax.bar(x = 'TTX', height = ss[sid]['ttx'])\n",
    "\n",
    "    ax.set_xlabel('(%s)' % j, labelpad=10)\n",
    "\n",
    "    i = i+1\n",
    "    j = chr(ord(j) + 1)\n",
    "\n",
    "fig.text(  0.05,  0.5 , 'Time (s)', va='center', rotation='vertical')\n",
    "fig.text(  0.5 , -0.2, 'Metric'  , ha='center')\n",
    "fig.legend(['RADICAL Cybertools overhead (OVH)', \n",
    "            'Workflow time to completion (TTX)'], \n",
    "           loc='upper center', \n",
    "           bbox_to_anchor=(0.5, 1.5), \n",
    "           ncol=1)"
   ]
  },
  {
   "cell_type": "markdown",
   "id": "a19d1313",
   "metadata": {},
   "source": [
    "## Danger of Duration Analysis\n",
    "\n",
    "<div class=\"alert alert-warning\">\n",
    "    \n",
    "__Warning:__ Most of the time, the durations of __global analyses__ are __NOT__ additive. \n",
    "\n",
    "</div>\n",
    "    \n",
    "For example, the sum of the total time taken by RP Agent to manage all the tasks and the total amount of time taken to execute all those tasks is __greater__ than the time taken to execute the workload. This is because RP is a distributed system that performs multiple operations at the same time on multiple resources. Thus, while RP Agent manages a task, it might be executing another task.\n",
    "\n",
    "Consider three durations:\n",
    "\n",
    "1. __t_agent_t_load__: the time from when RP Agent receives a compute task to the time in which the compute task's executable is launched.\n",
    "2. __t_agent_t_execute__: default duration for the time taken by a compute task's executable to execute.\n",
    "3. __t_agent_t_load__: the time from when a compute task's executable finishes to execute to when RP Agent mark the compute task with a final state (DONE, CANCELED or FAILED).\n",
    "\n",
    "For a single task, ``t_agent_t_load``, ``t_agent_t_execute`` and ``t_agent_t_load`` are contiguos and therefore additive. A single task cannot be loaded by RP Agent while it is also executed. For multiple tasks, this does not apply: one task might be loaded by RP Agent while another task is being executed."
   ]
  },
  {
   "cell_type": "markdown",
   "id": "c9cb2011",
   "metadata": {},
   "source": [
    "## Distribution of Durations\n",
    "\n",
    "We want to calculate the statistical distribution of default and arbitrary durations. Variance and outliers characterize the runtime behavior of both tasks and RCT.\n",
    "\n",
    "Global durations like TTX and OVH are aggregated across all entities: TTX aggregates the duration of each task while OVH that of all the RCT components active when no tasks are executed. For a distribution, we need instead the individual measure for each entity and component. For example, to calculate the distribution of task execution time, we have to measure the execution time of each task.\n",
    "\n",
    "We use RA to cycle through all the task entities and then the `get` and `duration` methods to return the wanted duration for each task. We use both the default duration for task runtime and the two arbitary durations we defined above for the time taken by RP executor to manage the execution of the task."
   ]
  },
  {
   "cell_type": "code",
   "execution_count": null,
   "id": "56c6d284",
   "metadata": {
    "ExecuteTime": {
     "end_time": "2021-07-28T08:11:56.167683Z",
     "start_time": "2021-07-28T08:11:56.138933Z"
    }
   },
   "outputs": [],
   "source": [
    "t_duration = {}\n",
    "events = {'tx': rp.utils.TASK_DURATIONS_DEBUG['t_agent_lm_execute'], \n",
    "          't_executor_before': t_executor_before, \n",
    "          't_executor_after': t_executor_after}\n",
    "\n",
    "for sid in sids:\n",
    "    t_duration[sid] = {}\n",
    "    for name, event in events.items():\n",
    "        t_duration[sid].update({name: []})    \n",
    "        for tid in ss[sid]['t'].list('uid'):\n",
    "            task = ss[sid]['t'].get(etype='task', uid=tid)[0]\n",
    "            duration = task.duration(event=event)\n",
    "            t_duration[sid][name].append(duration)"
   ]
  },
  {
   "cell_type": "markdown",
   "id": "1e23255a",
   "metadata": {},
   "source": [
    "We can now plot the distribution of task execution time as a boxplot for each session:"
   ]
  },
  {
   "cell_type": "code",
   "execution_count": null,
   "id": "88e8771f",
   "metadata": {
    "ExecuteTime": {
     "end_time": "2021-07-28T08:11:56.487144Z",
     "start_time": "2021-07-28T08:11:56.171174Z"
    }
   },
   "outputs": [],
   "source": [
    "fwidth, fhight = ra.get_plotsize(212)\n",
    "fig, ax = plt.subplots(figsize=(fwidth, fhight))\n",
    "\n",
    "data   = [t_duration[sid]['tx'] for sid in sids]\n",
    "labels = ['%s;%s' % (ss[sid]['ntask'], int(ss[sid]['nnodes'])) for sid in sids]\n",
    "\n",
    "ax.boxplot(data, labels=labels, patch_artist=True)\n",
    "\n",
    "ax.set_xlabel('Task;Nodes')\n",
    "ax.set_ylabel('Task Runtime (s)')"
   ]
  },
  {
   "cell_type": "markdown",
   "id": "c6db9a20",
   "metadata": {},
   "source": [
    "We can do the same for the arbitrary durations defined above: `t_executor_before` and `t_executor_after`"
   ]
  },
  {
   "cell_type": "code",
   "execution_count": null,
   "id": "b97c0035",
   "metadata": {
    "ExecuteTime": {
     "end_time": "2021-07-28T08:11:57.386390Z",
     "start_time": "2021-07-28T08:11:56.490139Z"
    }
   },
   "outputs": [],
   "source": [
    "fwidth, fhight = ra.get_plotsize(212, subplots=(2, 1))\n",
    "fig, axarr = plt.subplots(2, 1, figsize=(fwidth, fhight))\n",
    "plt.subplots_adjust(hspace=0.6)\n",
    "\n",
    "i = 0\n",
    "for dname in ['t_executor_before', 't_executor_after']:\n",
    "    ax = axarr[i]\n",
    "\n",
    "    data   = [t_duration[sid][dname] for sid in sids]\n",
    "    labels = ['%s;%s' % (ss[sid]['ntask'], int(ss[sid]['nnodes'])) for sid in sids]\n",
    "\n",
    "    ax.boxplot(data, labels=labels, patch_artist=True)\n",
    "\n",
    "    ax.set_title('Distribution of duration: %s' % ra.to_latex(dname))\n",
    "    ax.set_xlabel('Task;Nodes')\n",
    "    ax.set_ylabel('Task Runtime (s)')\n",
    "    \n",
    "    i += 1\n",
    "    "
   ]
  }
 ],
 "metadata": {
  "kernelspec": {
   "display_name": "Python 3 (ipykernel)",
   "language": "python",
   "name": "python3"
  },
  "language_info": {
   "codemirror_mode": {
    "name": "ipython",
    "version": 3
   },
   "file_extension": ".py",
   "mimetype": "text/x-python",
   "name": "python",
   "nbconvert_exporter": "python",
   "pygments_lexer": "ipython3",
   "version": "3.8.11"
  }
 },
 "nbformat": 4,
 "nbformat_minor": 5
}
