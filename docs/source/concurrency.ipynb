{
 "cells": [
  {
   "cell_type": "markdown",
   "id": "e4df366c",
   "metadata": {},
   "source": [
    "# Concurrency\n",
    "\n",
    "RADICAL-Analytics (RA) offers a method `ra.session.concurrency` that returns a time series, counting the number of tasks which are matching a given pair of timestamps at any point in time. For example, that time series can show the number of concurrent tasks that were scheduled, executed or staging in/out at every point of time, during the execution of the workload.\n",
    "\n",
    "We plot concurrency time series as a canonical line plot. We can add to the same plot multiple timeseries, showing the relation between diverse components of each RADICAL-Cybertool (RCT) system.\n",
    "\n",
    "## Prologue\n",
    "\n",
    "Load all the Python modules needed to profile and plot a RADICAL-EnsembleToolkit (EnTK) session."
   ]
  },
  {
   "cell_type": "code",
   "execution_count": 1,
   "id": "98290627",
   "metadata": {
    "ExecuteTime": {
     "end_time": "2021-07-27T19:20:42.814169Z",
     "start_time": "2021-07-27T19:20:41.807172Z"
    }
   },
   "outputs": [],
   "source": [
    "import os\n",
    "import tarfile\n",
    "\n",
    "import pandas as pd\n",
    "import matplotlib as mpl\n",
    "import matplotlib.pyplot as plt\n",
    "import matplotlib.ticker as mticker\n",
    "\n",
    "import radical.utils as ru\n",
    "import radical.pilot as rp\n",
    "import radical.entk as re\n",
    "import radical.analytics as ra"
   ]
  },
  {
   "cell_type": "markdown",
   "id": "5a60320a",
   "metadata": {},
   "source": [
    "Load the RADICAL Matplotlib style to obtain viasually consistent and publishable-qality plots."
   ]
  },
  {
   "cell_type": "code",
   "execution_count": 2,
   "id": "10d18e03",
   "metadata": {
    "ExecuteTime": {
     "end_time": "2021-07-27T19:20:42.823366Z",
     "start_time": "2021-07-27T19:20:42.816971Z"
    }
   },
   "outputs": [],
   "source": [
    "plt.style.use(ra.get_mplstyle('radical_mpl'))"
   ]
  },
  {
   "cell_type": "markdown",
   "id": "bffa16c5",
   "metadata": {},
   "source": [
    "Usually, it is useful to record the stack used for the analysis. \n",
    "\n",
    "<div class=\"alert alert-info\">\n",
    "\n",
    "__Note:__ The stack used for the analysis might be different from the stack used to crete the session to analyze. Usually, the two stack have to have the same major release number in order to be compatible.\n",
    "\n",
    "</div>"
   ]
  },
  {
   "cell_type": "code",
   "execution_count": 3,
   "id": "b1f147b2",
   "metadata": {
    "ExecuteTime": {
     "end_time": "2021-07-27T19:20:43.829107Z",
     "start_time": "2021-07-27T19:20:42.825545Z"
    }
   },
   "outputs": [
    {
     "name": "stdout",
     "output_type": "stream",
     "text": [
      "\r\n",
      "  python               : /Users/mturilli/.virtualenvs/analytics/bin/python3\r\n",
      "  pythonpath           : \r\n",
      "  version              : 3.8.11\r\n",
      "  virtualenv           : /Users/mturilli/.virtualenvs/analytics\r\n",
      "\r\n",
      "  radical.analytics    : 1.6.7-v0.1.6.7-40-g2e2e026@docs-timestamps\r\n",
      "  radical.entk         : 1.6.7\r\n",
      "  radical.gtod         : 1.5.0\r\n",
      "  radical.pilot        : 1.6.6-v1.6.6-16-g3a1f6dd97@feature-resource_separation\r\n",
      "  radical.saga         : 1.6.6\r\n",
      "  radical.utils        : 1.6.7\r\n",
      "\r\n"
     ]
    }
   ],
   "source": [
    "! radical-stack"
   ]
  },
  {
   "cell_type": "markdown",
   "id": "d1c3c0f9",
   "metadata": {},
   "source": [
    "## Session\n",
    "\n",
    "Name and location of the session we profile."
   ]
  },
  {
   "cell_type": "code",
   "execution_count": 4,
   "id": "56c1ba2c",
   "metadata": {
    "ExecuteTime": {
     "end_time": "2021-07-27T19:20:43.837852Z",
     "start_time": "2021-07-27T19:20:43.834226Z"
    }
   },
   "outputs": [],
   "source": [
    "sid = 're.session.login1.lei.018775.0005'\n",
    "sdir = 'sessions/'"
   ]
  },
  {
   "cell_type": "markdown",
   "id": "c5c4e46f",
   "metadata": {},
   "source": [
    "Unbzip and untar sessions."
   ]
  },
  {
   "cell_type": "code",
   "execution_count": 5,
   "id": "77ee31cf",
   "metadata": {
    "ExecuteTime": {
     "end_time": "2021-07-27T19:20:44.155327Z",
     "start_time": "2021-07-27T19:20:43.840848Z"
    }
   },
   "outputs": [],
   "source": [
    "sp = sdir+sid+'.tar.bz2'\n",
    "tar = tarfile.open(sp, mode='r:bz2')\n",
    "tar.extractall(path=sdir)\n",
    "tar.close()"
   ]
  },
  {
   "cell_type": "markdown",
   "id": "ad95ecec",
   "metadata": {},
   "source": [
    "Create a ``ra.Session`` object for the session. We are not going to use EnTK-specific traces so we are going to load only the RP traces contained in the EnTK session. Thus, we pass the ``'radical.pilot'`` session type to ``ra.Session``.\n",
    "\n",
    "<div class=\"alert alert-warning\">\n",
    "    \n",
    "__Warning:__ We already know we will want to derive information about pilot(s) and tasks. Thus, we save in memory a session objects filtered for those two identities. This might be too expensive with large sessions, depending on the amount of memory available.\n",
    "\n",
    "</div>\n",
    "    \n",
    "<div class=\"alert alert-info\">\n",
    "    \n",
    "__Note:__ We save the ouput of ``ra.Session`` in ``capt`` to avoid polluting the notebook. \n",
    "\n",
    "</div>"
   ]
  },
  {
   "cell_type": "code",
   "execution_count": 6,
   "id": "c7bf18ba",
   "metadata": {
    "ExecuteTime": {
     "end_time": "2021-07-27T19:20:46.946098Z",
     "start_time": "2021-07-27T19:20:44.158010Z"
    }
   },
   "outputs": [],
   "source": [
    "%%capture capt\n",
    "\n",
    "sp = sdir+sid\n",
    "\n",
    "session = ra.Session(sp, 'radical.pilot')\n",
    "pilots  = session.filter(etype='pilot', inplace=False)\n",
    "tasks   = session.filter(etype='task' , inplace=False)"
   ]
  },
  {
   "cell_type": "markdown",
   "id": "aafcb66e",
   "metadata": {},
   "source": [
    "## Plotting\n",
    "\n",
    "We define some pairs of events we want to use for concurrency analysis. We use the ra.session's concurrency method to compute the number of tasks which match the given pair of timestamps at every point in time."
   ]
  },
  {
   "cell_type": "code",
   "execution_count": 7,
   "id": "f5b26a39",
   "metadata": {
    "ExecuteTime": {
     "end_time": "2021-07-27T19:20:46.964640Z",
     "start_time": "2021-07-27T19:20:46.947932Z"
    }
   },
   "outputs": [],
   "source": [
    "pairs = {'Task Scheduling'  : [{ru.STATE: 'AGENT_SCHEDULING'},\n",
    "                               {ru.EVENT: 'schedule_ok'     } ],\n",
    "         'Task Execution'   : [{ru.EVENT: 'exec_start'      },\n",
    "                               {ru.EVENT: 'exec_stop'       } ]}\n",
    "\n",
    "time_series = {pair: session.concurrency(event=pairs[pair]) for pair in pairs}"
   ]
  },
  {
   "cell_type": "code",
   "execution_count": 8,
   "id": "58f9fe86",
   "metadata": {
    "ExecuteTime": {
     "end_time": "2021-07-27T19:20:47.641752Z",
     "start_time": "2021-07-27T19:20:46.966605Z"
    }
   },
   "outputs": [
    {
     "data": {
      "text/plain": [
       "Text(0.5, 0, 'Time (s)')"
      ]
     },
     "execution_count": 8,
     "metadata": {},
     "output_type": "execute_result"
    },
    {
     "data": {
      "image/png": "[encoded data removed]",
      "text/plain": [
       "<Figure size 880.033x543.89 with 1 Axes>"
      ]
     },
     "metadata": {
      "needs_background": "light"
     },
     "output_type": "display_data"
    }
   ],
   "source": [
    "fig, ax = plt.subplots(figsize=(ra.get_plotsize(212)))\n",
    "\n",
    "for metric in time_series:\n",
    "\n",
    "    zero = min([e[0] for e in time_series[metric]])\n",
    "    x = [e[0]-zero for e in time_series[metric]]\n",
    "    \n",
    "    y = [e[1] for e in time_series[metric]]\n",
    "    ax.plot(x, y, label=ra.to_latex(metric))\n",
    "    \n",
    "ax.legend(ncol=2, loc='upper left', bbox_to_anchor=(-0.15,1.2))\n",
    "ax.set_ylabel('Number of Tasks')\n",
    "ax.set_xlabel('Time (s)')"
   ]
  },
  {
   "cell_type": "markdown",
   "id": "f7f7e99b",
   "metadata": {},
   "source": [
    "The plot above shows that 40 tasks were between 'AGENT_SCHEDULING' state and 'schedule_ok' event at the beginning of the execution (dark blue). Few seconds later, 20 tasks are between 'exec_start' and 'exec_stop' events (orange), i.e., they are scheduled and start executing. The first 20 tasks appear to have a relatively uniform duration of ~90s. This is consistent with the task runtime distribution measured in [duration analysis](duration.ipynb). \n",
    "\n",
    "When the first 20 tasks start to terminate their execution (i.e., they fire the 'exec_stop' event), the second \"generation\" of 20 tasks enter between 'exec_start' and 'exec_stop' events (orange), i.e., they are scheduled and start executing. At ~110s, all the tasks have been scheduled so no task remain between 'AGENT_SCHEDULING' state and 'schedule_ok' event. Conistently, the blue line disappears. \n",
    "\n",
    "At ~170s also the tasks of the second generation start to terminate their execution. Accordingly, the number of executing tasks decreases, as shown by the orange ling. At ~190s, execution terminates and no lines are visible."
   ]
  }
 ],
 "metadata": {
  "kernelspec": {
   "display_name": "Python 3 (ipykernel)",
   "language": "python",
   "name": "python3"
  },
  "language_info": {
   "codemirror_mode": {
    "name": "ipython",
    "version": 3
   },
   "file_extension": ".py",
   "mimetype": "text/x-python",
   "name": "python",
   "nbconvert_exporter": "python",
   "pygments_lexer": "ipython3",
   "version": "3.8.11"
  }
 },
 "nbformat": 4,
 "nbformat_minor": 5
}
