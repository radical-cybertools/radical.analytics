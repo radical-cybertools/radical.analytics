{
 "cells": [
  {
   "cell_type": "markdown",
   "id": "e4df366c",
   "metadata": {},
   "source": [
    "# Concurrency\n",
    "\n",
    "RADICAL-Analytics (RA) offers a method `ra.session.concurrency` that returns a time series, counting the number of tasks which are matching a given pair of timestamps at any point in time. For example, a time series can show the number of concurrent tasks that were scheduled, executed or staging in/out at every point of time, during the execution of the workload.\n",
    "\n",
    "We plot concurrency time series as a canonical line plot. We can add to the same plot multiple timeseries, showing the relation among diverse components of each RADICAL-Cybertool (RCT) system.\n",
    "\n",
    "## Prologue\n",
    "\n",
    "Load the Python modules needed to profile and plot a RCT session."
   ]
  },
  {
   "cell_type": "code",
   "execution_count": null,
   "id": "98290627",
   "metadata": {
    "ExecuteTime": {
     "end_time": "2021-07-28T08:08:07.467935Z",
     "start_time": "2021-07-28T08:08:06.544450Z"
    }
   },
   "outputs": [],
   "source": [
    "import os\n",
    "import tarfile\n",
    "\n",
    "import pandas as pd\n",
    "import matplotlib as mpl\n",
    "import matplotlib.pyplot as plt\n",
    "import matplotlib.ticker as mticker\n",
    "\n",
    "import radical.utils as ru\n",
    "import radical.pilot as rp\n",
    "import radical.entk as re\n",
    "import radical.analytics as ra"
   ]
  },
  {
   "cell_type": "markdown",
   "id": "5a60320a",
   "metadata": {},
   "source": [
    "Load the RADICAL Matplotlib style to obtain viasually consistent and publishable-qality plots."
   ]
  },
  {
   "cell_type": "code",
   "execution_count": null,
   "id": "10d18e03",
   "metadata": {
    "ExecuteTime": {
     "end_time": "2021-07-28T08:08:07.476179Z",
     "start_time": "2021-07-28T08:08:07.470467Z"
    }
   },
   "outputs": [],
   "source": [
    "plt.style.use(ra.get_mplstyle('radical_mpl'))"
   ]
  },
  {
   "cell_type": "markdown",
   "id": "bffa16c5",
   "metadata": {},
   "source": [
    "Usually, it is useful to record the stack used for the analysis. \n",
    "\n",
    "<div class=\"alert alert-info\">\n",
    "\n",
    "__Note:__ The analysis stack might be different from the stack used to create the session to analyze. Usually, the two stacks must have the same minor release number (Major.Minor.Patch) in order to be compatible.\n",
    "\n",
    "</div>"
   ]
  },
  {
   "cell_type": "code",
   "execution_count": null,
   "id": "b1f147b2",
   "metadata": {
    "ExecuteTime": {
     "end_time": "2021-07-28T08:08:08.427959Z",
     "start_time": "2021-07-28T08:08:07.479003Z"
    }
   },
   "outputs": [],
   "source": [
    "! radical-stack"
   ]
  },
  {
   "cell_type": "markdown",
   "id": "d1c3c0f9",
   "metadata": {},
   "source": [
    "## Session\n",
    "\n",
    "Name and location of the session we profile."
   ]
  },
  {
   "cell_type": "code",
   "execution_count": null,
   "id": "56c1ba2c",
   "metadata": {
    "ExecuteTime": {
     "end_time": "2021-07-28T08:08:08.436852Z",
     "start_time": "2021-07-28T08:08:08.432803Z"
    }
   },
   "outputs": [],
   "source": [
    "sidsbz2 = !find sessions -maxdepth 1 -type f -exec basename {} \\;\n",
    "sids = [s[:-8] for s in sidsbz2]\n",
    "sdir = 'sessions/'"
   ]
  },
  {
   "cell_type": "markdown",
   "id": "c5c4e46f",
   "metadata": {},
   "source": [
    "Unbzip and untar the session."
   ]
  },
  {
   "cell_type": "code",
   "execution_count": null,
   "id": "77ee31cf",
   "metadata": {
    "ExecuteTime": {
     "end_time": "2021-07-28T08:08:08.773972Z",
     "start_time": "2021-07-28T08:08:08.439140Z"
    }
   },
   "outputs": [],
   "source": [
    "sidbz2 = sidsbz2[0]\n",
    "sid = sidbz2[:-8]\n",
    "sp  = sdir + sidbz2\n",
    "\n",
    "tar = tarfile.open(sp, mode='r:bz2')\n",
    "tar.extractall(path=sdir)\n",
    "tar.close()"
   ]
  },
  {
   "cell_type": "markdown",
   "id": "ad95ecec",
   "metadata": {},
   "source": [
    "Create a ``ra.Session`` object for the session. We do not need EnTK-specific traces so load only the RP traces contained in the EnTK session. Thus, we pass the ``'radical.pilot'`` session type to ``ra.Session``.\n",
    "\n",
    "<div class=\"alert alert-warning\">\n",
    "    \n",
    "__Warning:__ We already know we need information about pilots and tasks. Thus, we save in memory two session objects filtered for pilots and tasks. This might be too expensive with large sessions, depending on the amount of memory available.\n",
    "\n",
    "</div>\n",
    "    \n",
    "<div class=\"alert alert-info\">\n",
    "    \n",
    "__Note:__ We save the ouput of ``ra.Session`` in ``capt`` to avoid polluting the notebook with warning messages. \n",
    "\n",
    "</div>"
   ]
  },
  {
   "cell_type": "code",
   "execution_count": null,
   "id": "c7bf18ba",
   "metadata": {
    "ExecuteTime": {
     "end_time": "2021-07-28T08:08:11.614912Z",
     "start_time": "2021-07-28T08:08:08.777302Z"
    }
   },
   "outputs": [],
   "source": [
    "%%capture capt\n",
    "\n",
    "sp = sdir + sid\n",
    "\n",
    "session = ra.Session(sp, 'radical.pilot')\n",
    "pilots  = session.filter(etype='pilot', inplace=False)\n",
    "tasks   = session.filter(etype='task' , inplace=False)"
   ]
  },
  {
   "cell_type": "markdown",
   "id": "aafcb66e",
   "metadata": {},
   "source": [
    "## Plotting\n",
    "\n",
    "We name some pairs of events we want to use for concurrency analysis. We use the ra.session's concurrency method to compute the number of tasks which match the given pair of timestamps at every point in time. We zero the time of the X axes."
   ]
  },
  {
   "cell_type": "code",
   "execution_count": null,
   "id": "f5b26a39",
   "metadata": {
    "ExecuteTime": {
     "end_time": "2021-07-28T08:08:11.634171Z",
     "start_time": "2021-07-28T08:08:11.616887Z"
    }
   },
   "outputs": [],
   "source": [
    "pairs = {'Task Scheduling'  : [{ru.STATE: 'AGENT_SCHEDULING'},\n",
    "                               {ru.EVENT: 'schedule_ok'     } ],\n",
    "         'Task Execution'   : [{ru.EVENT: 'rank_start'      },\n",
    "                               {ru.EVENT: 'rank_stop'       } ]}\n",
    "\n",
    "time_series = {pair: session.concurrency(event=pairs[pair]) for pair in pairs}"
   ]
  },
  {
   "cell_type": "code",
   "execution_count": null,
   "id": "58f9fe86",
   "metadata": {
    "ExecuteTime": {
     "end_time": "2021-07-28T08:08:12.298890Z",
     "start_time": "2021-07-28T08:08:11.636191Z"
    }
   },
   "outputs": [],
   "source": [
    "fig, ax = plt.subplots(figsize=(ra.get_plotsize(212)))\n",
    "\n",
    "for name in time_series:\n",
    "\n",
    "    zero = min([e[0] for e in time_series[name]])\n",
    "    x = [e[0]-zero for e in time_series[name]]\n",
    "    \n",
    "    y = [e[1] for e in time_series[name]]\n",
    "    ax.plot(x, y, label=ra.to_latex(name))\n",
    "    \n",
    "ax.legend(ncol=2, loc='upper left', bbox_to_anchor=(-0.15,1.2))\n",
    "ax.set_ylabel('Number of Tasks')\n",
    "ax.set_xlabel('Time (s)')"
   ]
  },
  {
   "cell_type": "markdown",
   "id": "f7f7e99b",
   "metadata": {},
   "source": [
    "The plot above shows that tasks are between 'AGENT_SCHEDULING' and 'schedule_ok' at the beginning of the execution (dark blue). Few seconds later, tasks start to be between 'rank_start' and 'rank_stop', i.e., they are scheduled and start executing. Tasks appear to have a relatively heterogeneous duration, consistent with the task runtime distribution measured in [duration analysis](duration.ipynb#Distribution-of-Durations). \n",
    "\n",
    "Task as scheduled as soon as new resources become available, across the whole duration of the workload execution. Consistently, the total number of tasks waiting to be scheduled progressively decreases, represented by the slope of the blue line. Consistently, the number of executed tasks remain relatively constant across all the workload duration, represented by the orange line."
   ]
  }
 ],
 "metadata": {
  "kernelspec": {
   "display_name": "Python 3 (ipykernel)",
   "language": "python",
   "name": "python3"
  },
  "language_info": {
   "codemirror_mode": {
    "name": "ipython",
    "version": 3
   },
   "file_extension": ".py",
   "mimetype": "text/x-python",
   "name": "python",
   "nbconvert_exporter": "python",
   "pygments_lexer": "ipython3",
   "version": "3.9.16"
  }
 },
 "nbformat": 4,
 "nbformat_minor": 5
}
