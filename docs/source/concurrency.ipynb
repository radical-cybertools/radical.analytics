{
 "cells": [
  {
   "cell_type": "markdown",
   "id": "e4df366c",
   "metadata": {},
   "source": [
    "# Concurrency\n",
    "\n",
    "RADICAL-Analytics (RA) offers a method `ra.session.concurrency` that returns a time series, counting the number of tasks which are matching a given pair of timestamps at any point in time. For example, a time series can show the number of concurrent tasks that were scheduled, executed or staging in/out at every point of time, during the execution of the workload.\n",
    "\n",
    "We plot concurrency time series as a canonical line plot. We can add to the same plot multiple timeseries, showing the relation among diverse components of each RADICAL-Cybertool (RCT) system.\n",
    "\n",
    "## Prologue\n",
    "\n",
    "Load the Python modules needed to profile and plot a RCT session."
   ]
  },
  {
   "cell_type": "code",
   "execution_count": 1,
   "id": "98290627",
   "metadata": {
    "ExecuteTime": {
     "end_time": "2021-07-28T08:08:07.467935Z",
     "start_time": "2021-07-28T08:08:06.544450Z"
    }
   },
   "outputs": [
    {
     "name": "stdout",
     "output_type": "stream",
     "text": [
      "1664961008.308 : radical.analytics    : 28916 : 140094450898752 : INFO     : radical.analytics    version: 1.16.0-v1.16.0-24-g1ea17a5@fix-rtd_build\n"
     ]
    }
   ],
   "source": [
    "import os\n",
    "import tarfile\n",
    "\n",
    "import pandas as pd\n",
    "import matplotlib as mpl\n",
    "import matplotlib.pyplot as plt\n",
    "import matplotlib.ticker as mticker\n",
    "\n",
    "import radical.utils as ru\n",
    "import radical.pilot as rp\n",
    "import radical.entk as re\n",
    "import radical.analytics as ra"
   ]
  },
  {
   "cell_type": "markdown",
   "id": "5a60320a",
   "metadata": {},
   "source": [
    "Load the RADICAL Matplotlib style to obtain viasually consistent and publishable-qality plots."
   ]
  },
  {
   "cell_type": "code",
   "execution_count": 2,
   "id": "10d18e03",
   "metadata": {
    "ExecuteTime": {
     "end_time": "2021-07-28T08:08:07.476179Z",
     "start_time": "2021-07-28T08:08:07.470467Z"
    }
   },
   "outputs": [],
   "source": [
    "plt.style.use(ra.get_mplstyle('radical_mpl'))"
   ]
  },
  {
   "cell_type": "markdown",
   "id": "bffa16c5",
   "metadata": {},
   "source": [
    "Usually, it is useful to record the stack used for the analysis. \n",
    "\n",
    "<div class=\"alert alert-info\">\n",
    "\n",
    "__Note:__ The analysis stack might be different from the stack used to create the session to analyze. Usually, the two stacks must have the same minor release number (Major.Minor.Patch) in order to be compatible.\n",
    "\n",
    "</div>"
   ]
  },
  {
   "cell_type": "code",
   "execution_count": 3,
   "id": "b1f147b2",
   "metadata": {
    "ExecuteTime": {
     "end_time": "2021-07-28T08:08:08.427959Z",
     "start_time": "2021-07-28T08:08:07.479003Z"
    }
   },
   "outputs": [
    {
     "name": "stdout",
     "output_type": "stream",
     "text": [
      "\u001b[32m1664961008.812 : radical.analytics    : 28979 : 139873360185152 : INFO     : radical.analytics    version: 1.16.0-v1.16.0-24-g1ea17a5@fix-rtd_build\u001b[0m\n",
      "\n",
      "  python               : /mnt/home/merzky/radical/radical.analytics.devel/ve3/bin/python3\n",
      "  pythonpath           : \n",
      "  version              : 3.8.0\n",
      "  virtualenv           : /mnt/home/merzky/radical/radical.analytics.devel/ve3\n",
      "\n",
      "  radical.analytics    : 1.16.0-v1.16.0-24-g1ea17a5@fix-rtd_build\n",
      "  radical.entk         : 1.16.0-v1.16.0@master\n",
      "  radical.gtod         : 1.13.0\n",
      "  radical.pilot        : 1.17.0-v1.17.0-148-g5a63a7f8e@devel\n",
      "  radical.saga         : 1.17.0-v1.17.0-2-g5b9803bb@devel\n",
      "  radical.utils        : 1.17.0-v1.17.0-4-ge3c8acb@fix-docs\n",
      "\n"
     ]
    }
   ],
   "source": [
    "! radical-stack"
   ]
  },
  {
   "cell_type": "markdown",
   "id": "d1c3c0f9",
   "metadata": {},
   "source": [
    "## Session\n",
    "\n",
    "Name and location of the session we profile."
   ]
  },
  {
   "cell_type": "code",
   "execution_count": 4,
   "id": "56c1ba2c",
   "metadata": {
    "ExecuteTime": {
     "end_time": "2021-07-28T08:08:08.436852Z",
     "start_time": "2021-07-28T08:08:08.432803Z"
    }
   },
   "outputs": [],
   "source": [
    "sid = 'rp.session.rivendell.merzky.019270.0000'\n",
    "sdir = 'sessions/'"
   ]
  },
  {
   "cell_type": "markdown",
   "id": "c5c4e46f",
   "metadata": {},
   "source": [
    "Unbzip and untar the session."
   ]
  },
  {
   "cell_type": "code",
   "execution_count": 5,
   "id": "77ee31cf",
   "metadata": {
    "ExecuteTime": {
     "end_time": "2021-07-28T08:08:08.773972Z",
     "start_time": "2021-07-28T08:08:08.439140Z"
    }
   },
   "outputs": [],
   "source": [
    "sp = sdir + sid + '.tar.bz2'\n",
    "tar = tarfile.open(sp, mode='r:bz2')\n",
    "tar.extractall(path=sdir)\n",
    "tar.close()"
   ]
  },
  {
   "cell_type": "markdown",
   "id": "ad95ecec",
   "metadata": {},
   "source": [
    "Create a ``ra.Session`` object for the session. We do not need EnTK-specific traces so load only the RP traces contained in the EnTK session. Thus, we pass the ``'radical.pilot'`` session type to ``ra.Session``.\n",
    "\n",
    "<div class=\"alert alert-warning\">\n",
    "    \n",
    "__Warning:__ We already know we need information about pilots and tasks. Thus, we save in memory two session objects filtered for pilots and tasks. This might be too expensive with large sessions, depending on the amount of memory available.\n",
    "\n",
    "</div>\n",
    "    \n",
    "<div class=\"alert alert-info\">\n",
    "    \n",
    "__Note:__ We save the ouput of ``ra.Session`` in ``capt`` to avoid polluting the notebook with warning messages. \n",
    "\n",
    "</div>"
   ]
  },
  {
   "cell_type": "code",
   "execution_count": 6,
   "id": "c7bf18ba",
   "metadata": {
    "ExecuteTime": {
     "end_time": "2021-07-28T08:08:11.614912Z",
     "start_time": "2021-07-28T08:08:08.777302Z"
    }
   },
   "outputs": [],
   "source": [
    "# %%capture capt\n",
    "\n",
    "sp = sdir + sid\n",
    "\n",
    "session = ra.Session(sp, 'radical.pilot')\n",
    "pilots  = session.filter(etype='pilot', inplace=False)\n",
    "tasks   = session.filter(etype='task' , inplace=False)"
   ]
  },
  {
   "cell_type": "markdown",
   "id": "aafcb66e",
   "metadata": {},
   "source": [
    "## Plotting\n",
    "\n",
    "We name some pairs of events we want to use for concurrency analysis. We use the ra.session's concurrency method to compute the number of tasks which match the given pair of timestamps at every point in time. We zero the time of the X axes."
   ]
  },
  {
   "cell_type": "code",
   "execution_count": 7,
   "id": "f5b26a39",
   "metadata": {
    "ExecuteTime": {
     "end_time": "2021-07-28T08:08:11.634171Z",
     "start_time": "2021-07-28T08:08:11.616887Z"
    }
   },
   "outputs": [],
   "source": [
    "pairs = {'Task Scheduling'  : [{ru.STATE: 'AGENT_SCHEDULING'},\n",
    "                               {ru.EVENT: 'schedule_ok'     } ],\n",
    "         'Task Execution'   : [{ru.EVENT: 'rank_start'      },\n",
    "                               {ru.EVENT: 'rank_stop'       } ]}\n",
    "\n",
    "time_series = {pair: session.concurrency(event=pairs[pair]) for pair in pairs}"
   ]
  },
  {
   "cell_type": "code",
   "execution_count": 8,
   "id": "58f9fe86",
   "metadata": {
    "ExecuteTime": {
     "end_time": "2021-07-28T08:08:12.298890Z",
     "start_time": "2021-07-28T08:08:11.636191Z"
    }
   },
   "outputs": [
    {
     "data": {
      "text/plain": [
       "Text(0.5, 0, 'Time (s)')"
      ]
     },
     "execution_count": 8,
     "metadata": {},
     "output_type": "execute_result"
    },
    {
     "name": "stderr",
     "output_type": "stream",
     "text": [
      "findfont: Font family ['[DeJavu serif]'] not found. Falling back to DejaVu Sans.\n"
     ]
    },
    {
     "data": {
      "image/png": "[encoded data removed]",
      "text/plain": [
       "<Figure size 880.033x543.89 with 1 Axes>"
      ]
     },
     "metadata": {
      "needs_background": "light"
     },
     "output_type": "display_data"
    }
   ],
   "source": [
    "fig, ax = plt.subplots(figsize=(ra.get_plotsize(212)))\n",
    "\n",
    "for name in time_series:\n",
    "\n",
    "    zero = min([e[0] for e in time_series[name]])\n",
    "    x = [e[0]-zero for e in time_series[name]]\n",
    "    \n",
    "    y = [e[1] for e in time_series[name]]\n",
    "    ax.plot(x, y, label=ra.to_latex(name))\n",
    "    \n",
    "ax.legend(ncol=2, loc='upper left', bbox_to_anchor=(-0.15,1.2))\n",
    "ax.set_ylabel('Number of Tasks')\n",
    "ax.set_xlabel('Time (s)')"
   ]
  },
  {
   "cell_type": "markdown",
   "id": "f7f7e99b",
   "metadata": {},
   "source": [
    "The plot above shows that 40 tasks are between 'AGENT_SCHEDULING' and 'schedule_ok' at the beginning of the execution (dark blue). Few seconds later, 20 tasks are between 'rank_start' and 'rank_stop', i.e., they are scheduled and start executing. The first 20 tasks appear to have a relatively uniform duration of ~90s. This is consistent with the task runtime distribution measured in [duration analysis](duration.ipynb#Distribution-of-Durations). \n",
    "\n",
    "When the first 20 tasks start to terminate their execution (i.e., they fire the 'rank_stop' event), the second \"generation\" of 20 tasks enter between 'rank_start' and 'rank_stop', i.e., they are scheduled and start executing. At ~110s, all the tasks have been scheduled so no task remain between 'AGENT_SCHEDULING' and 'schedule_ok'. Conistently, the Task Scheduling line decreases and then disappears. \n",
    "\n",
    "At ~170s also the tasks of the second generation start to terminate their execution. Accordingly, the number of executing tasks decreases, as shown by the Task Execution line. At ~190s, execution terminates and no lines are visible."
   ]
  }
 ],
 "metadata": {
  "kernelspec": {
   "display_name": "Python 3",
   "language": "python",
   "name": "python3"
  },
  "language_info": {
   "codemirror_mode": {
    "name": "ipython",
    "version": 3
   },
   "file_extension": ".py",
   "mimetype": "text/x-python",
   "name": "python",
   "nbconvert_exporter": "python",
   "pygments_lexer": "ipython3",
   "version": "3.8.0"
  }
 },
 "nbformat": 4,
 "nbformat_minor": 5
}
